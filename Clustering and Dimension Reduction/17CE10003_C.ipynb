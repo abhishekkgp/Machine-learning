{
 "cells": [
  {
   "cell_type": "code",
   "execution_count": 1,
   "metadata": {},
   "outputs": [
    {
     "name": "stdout",
     "output_type": "stream",
     "text": [
      "   Unnamed: 0  foolishness  hath  wholesome  takest\n",
      "0    Buddhism            0     0          0       0\n",
      "1    Buddhism            0     0          0       0\n",
      "2    Buddhism            0     0          0       0\n",
      "3    Buddhism            0     0          0       0\n",
      "4    Buddhism            0     0          0       0\n",
      "5    Buddhism            0     0          0       0\n",
      "6    Buddhism            0     0          0       0\n",
      "7    Buddhism            0     0          0       0\n",
      "8    Buddhism            0     0          0       0\n",
      "9    Buddhism            0     0          0       0\n",
      "10   Buddhism            0     0          0       0\n",
      "11   Buddhism            0     0          0       0\n",
      "12   Buddhism            0     0          0       0\n",
      "13   Buddhism            0     0          0       0\n",
      "14   Buddhism            0     0          0       0\n",
      "15   Buddhism            0     0          0       0\n",
      "16   Buddhism            0     0          0       0\n",
      "17   Buddhism            0     0          0       0\n",
      "18   Buddhism            0     0          0       0\n",
      "19   Buddhism            0     0          0       0\n",
      "\n",
      " \n",
      " print final value of data: \n",
      "[[0.        0.        0.        0.        0.        0.        0.\n",
      "  0.        0.        0.        0.        0.        0.        0.\n",
      "  0.       ]\n",
      " [0.        0.        0.        0.        0.        0.        0.\n",
      "  0.        0.        0.        0.        0.        0.        0.\n",
      "  0.       ]\n",
      " [0.        0.        0.        0.        0.        0.        0.\n",
      "  0.        0.        0.        0.        0.        0.        0.\n",
      "  0.       ]\n",
      " [0.        0.        0.        0.        0.        0.        0.\n",
      "  0.        0.        0.        0.        0.        0.        0.\n",
      "  0.       ]\n",
      " [0.        0.        0.        0.        0.        0.        0.\n",
      "  0.        0.        0.        0.        0.        0.        0.\n",
      "  0.       ]\n",
      " [0.        0.        0.        0.        0.        0.        0.\n",
      "  0.        0.        0.        0.        0.        0.        0.\n",
      "  0.       ]\n",
      " [0.        0.        0.        0.        0.        0.        0.\n",
      "  0.        0.        0.        0.        0.        0.        0.\n",
      "  0.       ]\n",
      " [0.        0.        0.        0.        0.        0.        0.\n",
      "  0.        0.        0.        0.        0.        0.        0.\n",
      "  0.       ]\n",
      " [0.        0.        0.        0.        0.        0.        0.\n",
      "  0.        0.        0.        0.        0.        0.        0.\n",
      "  0.       ]\n",
      " [0.        0.        0.        0.        0.        0.        0.\n",
      "  0.        0.        0.        0.        0.        0.        0.\n",
      "  0.       ]\n",
      " [0.        0.        0.        0.        0.        0.        0.\n",
      "  0.        0.        0.        0.        0.        0.0332543 0.\n",
      "  0.       ]\n",
      " [0.        0.        0.        0.        0.        0.        0.\n",
      "  0.        0.        0.        0.        0.        0.        0.\n",
      "  0.       ]\n",
      " [0.        0.        0.        0.        0.        0.        0.\n",
      "  0.        0.        0.        0.        0.        0.        0.\n",
      "  0.       ]\n",
      " [0.        0.        0.        0.        0.        0.        0.\n",
      "  0.        0.        0.        0.        0.        0.        0.\n",
      "  0.       ]\n",
      " [0.        0.        0.        0.        0.        0.        0.\n",
      "  0.        0.        0.        0.        0.        0.        0.\n",
      "  0.       ]]\n"
     ]
    }
   ],
   "source": [
    "# imports\n",
    "import numpy as np\n",
    "import matplotlib.pyplot as plt\n",
    "import pandas as pd\n",
    "from pprint import pprint\n",
    "import math\n",
    "import time\n",
    "\n",
    "\n",
    "data1=pd.read_csv('E:/SEMESTER 6/ML-CS60050/Assgnment/Third/AllBooks_baseline_DTM_Labelled.csv') #importing the data\n",
    "n=len(data1.axes[0]) #to find number of rows in each attribute\n",
    "\n",
    "data1.drop([13], inplace = True) # removing \"Buddhism_Ch14\" from Dataframe\n",
    "\n",
    "data1.reset_index(drop=True, inplace=True) # to adjust indices accordingly\n",
    "\n",
    "data1[\"Unnamed: 0\"]=data1[\"Unnamed: 0\"].str.replace(r'_Ch', '') # to remove \"_Ch\" \n",
    "data1[\"Unnamed: 0\"] = data1[\"Unnamed: 0\"].str.replace('\\d+', '') # to remove number after book name\n",
    "print(data1.iloc[0:20,0:5])\n",
    "\n",
    "data2=data1.drop(data1.columns[0],axis='columns')\n",
    "data=data2.iloc[:,:].values\n",
    "data=np.array(data)  # tranforming into numpy array\n",
    "data=np.float64(data)   \n",
    "num_rows=data.shape[0]\n",
    "num_columns=data.shape[1]\n",
    "for j in range(0,num_columns):  \n",
    "    count=0\n",
    "    for i in range(0,num_rows):\n",
    "    \tcount+=data[i][j]\n",
    "    for i in range(0,num_rows):\n",
    "        data[i][j]=1.0*data[i][j]*math.log(1.0*(1+num_rows)/(1+count))\n",
    "for i in range(0,num_rows):   #Normalizing each datapoint by dividing by the magnitude\n",
    "\tmagnitude=0\n",
    "\tfor j in range(0,num_columns):\n",
    "\t\tmagnitude+=data[i][j]*data[i][j]\n",
    "\tmagnitude=math.sqrt(magnitude)\n",
    "\tif(magnitude==0):  #There is a single point data point with magnitude zero or which contains an empty row\n",
    "\t\tcontinue\n",
    "\tfor j in range(0,num_columns):\n",
    "\t\tdata[i][j]/=magnitude\n",
    "# Data can be used for furthur calculations\n",
    "print(\"\\n \\n print final value of data: \")\n",
    "print(data[0:15,0:15])"
   ]
  },
  {
   "cell_type": "code",
   "execution_count": 2,
   "metadata": {},
   "outputs": [],
   "source": [
    "def distance(centroids,data,K):\n",
    "    distance1=np.ones(K)\n",
    "    for i in range(K):\n",
    "        distance1[i]=np.dot(centroids[i],data) # centroid was not normalise so we need to normlised it.\n",
    "        dinominator=np.sqrt(np.dot(centroids[i],centroids[i])*np.dot(data,data)) # data was already normalised so np.dot(data,data)=1.\n",
    "        distance1[i]=distance1[i]/dinominator\n",
    "    return(np.exp(-distance1))"
   ]
  },
  {
   "cell_type": "code",
   "execution_count": 3,
   "metadata": {},
   "outputs": [],
   "source": [
    "K=8  # to obtain K=8 clusters of documents\n",
    "iterations=300\n",
    "num_rows1=data.shape[0]\n",
    "num_columns1=data.shape[1]\n",
    "\n",
    "centroids=np.random.rand(K,num_columns1)"
   ]
  },
  {
   "cell_type": "code",
   "execution_count": 12,
   "metadata": {},
   "outputs": [],
   "source": [
    "\n",
    "belongs_to=np.ones(len(data))\n",
    "SSE=np.zeros(iterations)\n",
    "\n",
    "for itr in range(iterations):\n",
    "    for i in range(len(data)):\n",
    "        distances=distance(centroids,data[i],K)\n",
    "\n",
    "        SSE[itr]+=(distances.sum())\n",
    "\n",
    "        min_dist_index=0\n",
    "        min_dist=distances[0]\n",
    "        for j in range(1,K):\n",
    "            if(distances[j]<min_dist):\n",
    "                min_dist=distances[j]\n",
    "                min_dist_index=j\n",
    "\n",
    "        belongs_to[i]=min_dist_index\n",
    "\n",
    "\n",
    "    centroids[:]=0\n",
    "    count=np.zeros(K)\n",
    "    for i in range(len(belongs_to)):\n",
    "        centroids[int(belongs_to[i])]+=data[i]\n",
    "        count[int(belongs_to[i])]+=1\n",
    "\n",
    "    for i in range(K):\n",
    "        if(count[i]!=0):\n",
    "            centroids[i]/=count[i]\n",
    "\n",
    "        \n",
    "    cluster=[[],[],[],[],[],[],[],[]]\n",
    "    for i in range(len(belongs_to)):\n",
    "        cluster[int(belongs_to[i])].append(i)\n",
    "        \n",
    "    sorted_cluster=sorted(cluster)\n",
    "        \n",
    "#return(sorted_cluster,centroids,SSE)"
   ]
  },
  {
   "cell_type": "code",
   "execution_count": 13,
   "metadata": {},
   "outputs": [
    {
     "name": "stdout",
     "output_type": "stream",
     "text": [
      "[[0, 2, 9, 13, 16, 21, 26, 27, 34, 42, 60, 68, 78, 80, 81, 88, 89, 96, 105, 138, 140, 151, 158, 161, 162, 180, 185, 210, 215, 226, 246, 253, 287, 295, 321, 336, 343, 347, 357, 358, 369, 372, 383, 388, 401, 405, 412, 413, 415, 417, 428, 436, 438, 446, 456, 473, 476], [1, 3, 11, 20, 24, 32, 45, 62, 76, 103, 106, 111, 117, 129, 143, 152, 178, 188, 191, 208, 212, 213, 224, 230, 254, 258, 269, 270, 271, 272, 273, 274, 275, 276, 277, 278, 284, 294, 315, 328, 367, 368, 380, 382, 392, 407, 408, 431, 440, 442, 451], [4, 8, 14, 23, 25, 30, 33, 36, 43, 44, 53, 54, 58, 67, 95, 98, 102, 104, 120, 125, 141, 145, 148, 156, 190, 194, 195, 197, 198, 199, 200, 203, 204, 207, 233, 234, 241, 244, 245, 247, 248, 255, 256, 310, 314, 326, 329, 338, 340, 345, 355, 361, 373, 384, 391, 404, 411, 422, 435, 460, 467], [5, 6, 7, 12, 19, 22, 46, 47, 52, 57, 59, 72, 74, 85, 90, 97, 99, 109, 126, 128, 135, 147, 179, 182, 189, 216, 217, 223, 229, 250, 291, 293, 301, 304, 305, 316, 331, 334, 335, 339, 344, 348, 352, 353, 360, 362, 364, 365, 374, 375, 376, 378, 389, 394, 398, 400, 403, 414, 418, 419, 420, 429, 433, 453, 455, 457, 459, 461, 462, 463, 465, 466, 468], [10, 15, 17, 18, 35, 50, 61, 65, 69, 71, 83, 86, 87, 101, 112, 127, 130, 131, 132, 133, 146, 153, 165, 166, 181, 184, 206, 222, 225, 235, 236, 237, 238, 285, 288, 292, 298, 299, 300, 302, 309, 322, 323, 325, 327, 337, 341, 342, 346, 349, 354, 359, 363, 366, 370, 371, 377, 379, 381, 390, 393, 396, 402, 406, 416, 424, 425, 426, 427, 430, 434, 441, 443, 444, 445, 447, 448, 449, 450, 452, 454, 458, 464, 470, 471, 472, 474, 475], [28, 31, 37, 38, 39, 40, 55, 64, 66, 70, 75, 77, 82, 84, 93, 114, 115, 116, 119, 122, 123, 124, 136, 139, 142, 144, 154, 155, 159, 160, 167, 168, 170, 174, 176, 177, 183, 186, 187, 193, 196, 205, 209, 211, 214, 218, 219, 220, 221, 227, 228, 231, 232, 239, 242, 249, 251, 252, 257, 259, 260, 261, 262, 263, 264, 265, 266, 267, 268, 279, 280, 281, 282, 283, 286, 296, 306, 313, 333, 387, 432, 437, 439], [29, 41, 49, 94, 110, 118, 121, 169, 173, 385, 386, 477, 478, 479, 480, 481, 482, 483, 484, 485, 486, 487, 488, 489, 490, 491, 492, 493, 494, 495, 496, 497, 498, 499, 500, 501, 502, 503, 504, 505, 506, 507, 508, 509, 510, 511, 512, 513, 514, 515, 516, 517, 518, 519, 520, 521, 522, 523, 524, 525, 526, 527, 528, 529, 530, 531, 532, 533, 534, 535, 536, 537, 538, 539, 540, 541, 542, 543, 544, 545, 546, 547, 548, 549, 550, 551, 552, 553, 554, 555, 556, 557, 558, 559, 560, 561, 562, 563, 564, 565, 566, 567, 568, 569, 570, 571, 572, 573, 574, 575, 576, 577, 578, 579, 580, 581, 582, 583, 584, 585, 586, 587], [48, 51, 56, 63, 73, 79, 91, 92, 100, 107, 108, 113, 134, 137, 149, 150, 157, 163, 164, 171, 172, 175, 192, 201, 202, 240, 243, 289, 290, 297, 303, 307, 308, 311, 312, 317, 318, 319, 320, 324, 330, 332, 350, 351, 356, 395, 397, 399, 409, 410, 421, 423, 469, 588]]\n"
     ]
    }
   ],
   "source": [
    "Output=sorted_cluster\n",
    "print(Output)"
   ]
  },
  {
   "cell_type": "code",
   "execution_count": 6,
   "metadata": {},
   "outputs": [
    {
     "data": {
      "image/png": "[encoded data removed]",
      "text/plain": [
       "<Figure size 1080x576 with 1 Axes>"
      ]
     },
     "metadata": {
      "needs_background": "light"
     },
     "output_type": "display_data"
    }
   ],
   "source": [
    "#import matplotlib.pyplot as plt\n",
    "plt.figure(figsize=[15,8])\n",
    "plt.plot(range(iterations),SSE,c='g')\n",
    "plt.xlabel('Iteration')\n",
    "plt.ylabel('SSE')\n",
    "plt.show()"
   ]
  },
  {
   "cell_type": "code",
   "execution_count": 7,
   "metadata": {},
   "outputs": [],
   "source": [
    "f=open(\"E:/SEMESTER 6/ML-CS60050/Assgnment/Third/kmeans.txt\",'w')\n",
    "for i in range(8):\n",
    "    for j in sorted_cluster[i]:\n",
    "        f.write(str(j))\n",
    "        f.write(\",\")\n",
    "    f.write(\"\\n\")\n",
    "f.close()"
   ]
  },
  {
   "cell_type": "code",
   "execution_count": 8,
   "metadata": {},
   "outputs": [
    {
     "data": {
      "image/png": "[encoded data removed]",
      "text/plain": [
       "<Figure size 432x288 with 1 Axes>"
      ]
     },
     "metadata": {
      "needs_background": "light"
     },
     "output_type": "display_data"
    }
   ],
   "source": [
    "plt.scatter(data[:,0],data[:,1],c='blue',label='unclustered data')\n",
    "#plt.xlabel('Rows')\n",
    "#plt.ylabel('columns')\n",
    "plt.legend()\n",
    "plt.title('Plot of data points')\n",
    "plt.show()"
   ]
  },
  {
   "cell_type": "code",
   "execution_count": 9,
   "metadata": {},
   "outputs": [],
   "source": [
    "#print(np.dot(data[1],data[1]))"
   ]
  },
  {
   "cell_type": "code",
   "execution_count": 10,
   "metadata": {},
   "outputs": [],
   "source": [
    "#f.write\n"
   ]
  },
  {
   "cell_type": "code",
   "execution_count": 11,
   "metadata": {},
   "outputs": [
    {
     "name": "stdout",
     "output_type": "stream",
     "text": [
      "8\n"
     ]
    }
   ],
   "source": [
    "print(len(sorted_cluster))"
   ]
  },
  {
   "cell_type": "code",
   "execution_count": null,
   "metadata": {},
   "outputs": [],
   "source": []
  }
 ],
 "metadata": {
  "kernelspec": {
   "display_name": "Python 3",
   "language": "python",
   "name": "python3"
  },
  "language_info": {
   "codemirror_mode": {
    "name": "ipython",
    "version": 3
   },
   "file_extension": ".py",
   "mimetype": "text/x-python",
   "name": "python",
   "nbconvert_exporter": "python",
   "pygments_lexer": "ipython3",
   "version": "3.7.3"
  }
 },
 "nbformat": 4,
 "nbformat_minor": 2
}
