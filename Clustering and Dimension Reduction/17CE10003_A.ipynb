{
 "cells": [
  {
   "cell_type": "code",
   "execution_count": 1,
   "metadata": {},
   "outputs": [],
   "source": [
    "# imports\n",
    "import numpy as np\n",
    "import matplotlib.pyplot as plt\n",
    "import pandas as pd\n",
    "from pprint import pprint\n",
    "\n",
    "import math\n",
    "import time"
   ]
  },
  {
   "cell_type": "code",
   "execution_count": 2,
   "metadata": {},
   "outputs": [
    {
     "name": "stdout",
     "output_type": "stream",
     "text": [
      "Number of rows are:  590\n",
      "Number of Columns are:  8267\n"
     ]
    }
   ],
   "source": [
    "data1=pd.read_csv('E:/SEMESTER 6/ML-CS60050/Assgnment/Third/AllBooks_baseline_DTM_Labelled.csv') #importing the data\n",
    "n=len(data1.axes[0]) #to find number of rows in each attribute\n",
    "print('Number of rows are: ', n)\n",
    "print('Number of Columns are: ', len(data1.axes[1]))"
   ]
  },
  {
   "cell_type": "code",
   "execution_count": 3,
   "metadata": {},
   "outputs": [
    {
     "name": "stdout",
     "output_type": "stream",
     "text": [
      "       Unnamed: 0  foolishness  hath  wholesome  takest  feelings  anger  \\\n",
      "0    Buddhism_Ch1            0     0          0       0         0      0   \n",
      "1    Buddhism_Ch2            0     0          0       0         0      0   \n",
      "2    Buddhism_Ch3            0     0          0       0         0      0   \n",
      "3    Buddhism_Ch4            0     0          0       0         0      0   \n",
      "4    Buddhism_Ch5            0     0          0       0         0      0   \n",
      "5    Buddhism_Ch6            0     0          0       0         0      0   \n",
      "6    Buddhism_Ch7            0     0          0       0         0      0   \n",
      "7    Buddhism_Ch8            0     0          0       0         0      0   \n",
      "8    Buddhism_Ch9            0     0          0       0         0      0   \n",
      "9   Buddhism_Ch10            0     0          0       0         0      0   \n",
      "10  Buddhism_Ch11            0     0          0       0         0      0   \n",
      "11  Buddhism_Ch12            0     0          0       0         0      0   \n",
      "12  Buddhism_Ch13            0     0          0       0         0      0   \n",
      "13  Buddhism_Ch14            0     0          0       0         0      0   \n",
      "14  Buddhism_Ch15            0     0          0       0         0      0   \n",
      "15  Buddhism_Ch16            0     0          0       0         0      0   \n",
      "16  Buddhism_Ch17            0     0          0       0         0      0   \n",
      "17  Buddhism_Ch18            0     0          0       0         0      0   \n",
      "18  Buddhism_Ch19            0     0          0       0         0      0   \n",
      "19  Buddhism_Ch20            0     0          0       0         0      0   \n",
      "\n",
      "    vaivaswata  matrix  kindled  ...  erred  thinkest  modern  reigned  \\\n",
      "0            0       0        0  ...      0         0       0        0   \n",
      "1            0       0        0  ...      0         0       0        0   \n",
      "2            0       0        0  ...      0         0       0        0   \n",
      "3            0       0        0  ...      0         0       0        0   \n",
      "4            0       0        0  ...      0         0       0        0   \n",
      "5            0       0        0  ...      0         0       0        0   \n",
      "6            0       0        0  ...      0         0       0        0   \n",
      "7            0       0        0  ...      0         0       0        0   \n",
      "8            0       0        0  ...      0         0       0        0   \n",
      "9            0       0        0  ...      0         0       0        0   \n",
      "10           0       0        0  ...      0         0       0        0   \n",
      "11           0       0        0  ...      0         0       0        0   \n",
      "12           0       0        0  ...      0         0       0        0   \n",
      "13           0       0        0  ...      0         0       0        0   \n",
      "14           0       0        0  ...      0         0       0        0   \n",
      "15           0       0        0  ...      0         0       0        0   \n",
      "16           0       0        0  ...      0         0       0        0   \n",
      "17           0       0        0  ...      0         0       0        0   \n",
      "18           0       0        0  ...      0         0       0        0   \n",
      "19           0       0        0  ...      0         0       0        0   \n",
      "\n",
      "    sparingly  visual  thoughts  illumines  attire  explains  \n",
      "0           0       0         0          0       0         0  \n",
      "1           0       0         0          0       0         0  \n",
      "2           0       0         0          0       0         0  \n",
      "3           0       0         0          0       0         0  \n",
      "4           0       0         0          0       0         0  \n",
      "5           0       0         0          0       0         0  \n",
      "6           0       0         0          0       0         0  \n",
      "7           0       0         0          0       0         0  \n",
      "8           0       0         0          0       0         0  \n",
      "9           0       0         0          0       0         0  \n",
      "10          0       0         0          0       0         0  \n",
      "11          0       0         0          0       0         0  \n",
      "12          0       0         0          0       0         0  \n",
      "13          0       0         0          0       0         0  \n",
      "14          0       0         0          0       0         0  \n",
      "15          0       0         0          0       0         0  \n",
      "16          0       0         0          0       0         0  \n",
      "17          0       0         0          0       0         0  \n",
      "18          0       0         0          0       0         0  \n",
      "19          0       0         0          0       0         0  \n",
      "\n",
      "[20 rows x 8267 columns]\n"
     ]
    }
   ],
   "source": [
    "print(data1.iloc[0:20,:])"
   ]
  },
  {
   "cell_type": "markdown",
   "metadata": {},
   "source": [
    "##  Dataset Preparation:"
   ]
  },
  {
   "cell_type": "code",
   "execution_count": 4,
   "metadata": {},
   "outputs": [],
   "source": [
    "data1.drop([13], inplace = True) # removing \"Buddhism_Ch14\" from Dataframe\n",
    "#print(data.iloc[0:20,0:5])"
   ]
  },
  {
   "cell_type": "code",
   "execution_count": 5,
   "metadata": {},
   "outputs": [
    {
     "name": "stdout",
     "output_type": "stream",
     "text": [
      "       Unnamed: 0  foolishness  hath  wholesome  takest\n",
      "0    Buddhism_Ch1            0     0          0       0\n",
      "1    Buddhism_Ch2            0     0          0       0\n",
      "2    Buddhism_Ch3            0     0          0       0\n",
      "3    Buddhism_Ch4            0     0          0       0\n",
      "4    Buddhism_Ch5            0     0          0       0\n",
      "5    Buddhism_Ch6            0     0          0       0\n",
      "6    Buddhism_Ch7            0     0          0       0\n",
      "7    Buddhism_Ch8            0     0          0       0\n",
      "8    Buddhism_Ch9            0     0          0       0\n",
      "9   Buddhism_Ch10            0     0          0       0\n",
      "10  Buddhism_Ch11            0     0          0       0\n",
      "11  Buddhism_Ch12            0     0          0       0\n",
      "12  Buddhism_Ch13            0     0          0       0\n",
      "13  Buddhism_Ch15            0     0          0       0\n",
      "14  Buddhism_Ch16            0     0          0       0\n",
      "15  Buddhism_Ch17            0     0          0       0\n",
      "16  Buddhism_Ch18            0     0          0       0\n",
      "17  Buddhism_Ch19            0     0          0       0\n",
      "18  Buddhism_Ch20            0     0          0       0\n",
      "19  Buddhism_Ch21            0     0          0       0\n"
     ]
    }
   ],
   "source": [
    "data1.reset_index(drop=True, inplace=True) # to adjust indices accordingly\n",
    "print(data1.iloc[0:20,0:5])"
   ]
  },
  {
   "cell_type": "code",
   "execution_count": 6,
   "metadata": {},
   "outputs": [
    {
     "name": "stdout",
     "output_type": "stream",
     "text": [
      "   Unnamed: 0  foolishness  hath  wholesome  takest\n",
      "0    Buddhism            0     0          0       0\n",
      "1    Buddhism            0     0          0       0\n",
      "2    Buddhism            0     0          0       0\n",
      "3    Buddhism            0     0          0       0\n",
      "4    Buddhism            0     0          0       0\n",
      "5    Buddhism            0     0          0       0\n",
      "6    Buddhism            0     0          0       0\n",
      "7    Buddhism            0     0          0       0\n",
      "8    Buddhism            0     0          0       0\n",
      "9    Buddhism            0     0          0       0\n",
      "10   Buddhism            0     0          0       0\n",
      "11   Buddhism            0     0          0       0\n",
      "12   Buddhism            0     0          0       0\n",
      "13   Buddhism            0     0          0       0\n",
      "14   Buddhism            0     0          0       0\n",
      "15   Buddhism            0     0          0       0\n",
      "16   Buddhism            0     0          0       0\n",
      "17   Buddhism            0     0          0       0\n",
      "18   Buddhism            0     0          0       0\n",
      "19   Buddhism            0     0          0       0\n"
     ]
    }
   ],
   "source": [
    "#data.iloc[:,0] = data.iloc[:,0].str.replace(r'_Ch$', '')\n",
    "data1[\"Unnamed: 0\"]=data1[\"Unnamed: 0\"].str.replace(r'_Ch', '') # to remove \"_Ch\" \n",
    "data1[\"Unnamed: 0\"] = data1[\"Unnamed: 0\"].str.replace('\\d+', '') # to remove number after book name\n",
    "print(data1.iloc[0:20,0:5])"
   ]
  },
  {
   "cell_type": "code",
   "execution_count": 7,
   "metadata": {},
   "outputs": [
    {
     "name": "stdout",
     "output_type": "stream",
     "text": [
      "[[0.        0.        0.        0.        0.        0.        0.\n",
      "  0.        0.        0.        0.        0.        0.        0.\n",
      "  0.       ]\n",
      " [0.        0.        0.        0.        0.        0.        0.\n",
      "  0.        0.        0.        0.        0.        0.        0.\n",
      "  0.       ]\n",
      " [0.        0.        0.        0.        0.        0.        0.\n",
      "  0.        0.        0.        0.        0.        0.        0.\n",
      "  0.       ]\n",
      " [0.        0.        0.        0.        0.        0.        0.\n",
      "  0.        0.        0.        0.        0.        0.        0.\n",
      "  0.       ]\n",
      " [0.        0.        0.        0.        0.        0.        0.\n",
      "  0.        0.        0.        0.        0.        0.        0.\n",
      "  0.       ]\n",
      " [0.        0.        0.        0.        0.        0.        0.\n",
      "  0.        0.        0.        0.        0.        0.        0.\n",
      "  0.       ]\n",
      " [0.        0.        0.        0.        0.        0.        0.\n",
      "  0.        0.        0.        0.        0.        0.        0.\n",
      "  0.       ]\n",
      " [0.        0.        0.        0.        0.        0.        0.\n",
      "  0.        0.        0.        0.        0.        0.        0.\n",
      "  0.       ]\n",
      " [0.        0.        0.        0.        0.        0.        0.\n",
      "  0.        0.        0.        0.        0.        0.        0.\n",
      "  0.       ]\n",
      " [0.        0.        0.        0.        0.        0.        0.\n",
      "  0.        0.        0.        0.        0.        0.        0.\n",
      "  0.       ]\n",
      " [0.        0.        0.        0.        0.        0.        0.\n",
      "  0.        0.        0.        0.        0.        0.0332543 0.\n",
      "  0.       ]\n",
      " [0.        0.        0.        0.        0.        0.        0.\n",
      "  0.        0.        0.        0.        0.        0.        0.\n",
      "  0.       ]\n",
      " [0.        0.        0.        0.        0.        0.        0.\n",
      "  0.        0.        0.        0.        0.        0.        0.\n",
      "  0.       ]\n",
      " [0.        0.        0.        0.        0.        0.        0.\n",
      "  0.        0.        0.        0.        0.        0.        0.\n",
      "  0.       ]\n",
      " [0.        0.        0.        0.        0.        0.        0.\n",
      "  0.        0.        0.        0.        0.        0.        0.\n",
      "  0.       ]\n",
      " [0.        0.        0.        0.        0.        0.        0.\n",
      "  0.        0.        0.        0.        0.        0.        0.\n",
      "  0.       ]\n",
      " [0.        0.        0.        0.        0.        0.        0.\n",
      "  0.        0.        0.        0.        0.        0.        0.\n",
      "  0.       ]\n",
      " [0.        0.        0.        0.        0.        0.        0.\n",
      "  0.        0.        0.        0.        0.        0.        0.\n",
      "  0.       ]\n",
      " [0.        0.        0.        0.        0.        0.        0.\n",
      "  0.        0.        0.        0.        0.        0.        0.\n",
      "  0.       ]\n",
      " [0.        0.        0.        0.        0.        0.        0.\n",
      "  0.        0.        0.        0.        0.        0.        0.\n",
      "  0.       ]]\n"
     ]
    }
   ],
   "source": [
    "#data=data1.copy()\n",
    "data2=data1.drop(data1.columns[0],axis='columns')\n",
    "data=data2.iloc[:,:].values\n",
    "data=np.array(data)  # tranforming into numpy array\n",
    "data=np.float64(data)   \n",
    "num_rows=data.shape[0]\n",
    "num_columns=data.shape[1]\n",
    "#num_rows= len(data.axes[0])           #data.shape[0]\n",
    "#num_columns= len(data.axes[1])          #data.shape[1]\n",
    "for j in range(0,num_columns):  #Calculating the tf idf score for each data point using the frequency \n",
    "    count=0\n",
    "    for i in range(0,num_rows):\n",
    "        #if data[i][j]>0 :\n",
    "            #count+=data[i][j]>0\n",
    "    \tcount+=data[i][j]\n",
    "    for i in range(0,num_rows):\n",
    "        data[i][j]=1.0*data[i][j]*math.log(1.0*(1+num_rows)/(1+count))\n",
    "for i in range(0,num_rows):   #Normalizing each datapoint by dividing by the magnitude\n",
    "\tmagnitude=0\n",
    "\tfor j in range(0,num_columns):\n",
    "\t\tmagnitude+=data[i][j]*data[i][j]\n",
    "\tmagnitude=math.sqrt(magnitude)\n",
    "\tif(magnitude==0):  #There is a single point data point with magnitude zero or which contains an empty row\n",
    "\t\tcontinue\n",
    "\tfor j in range(0,num_columns):\n",
    "\t\tdata[i][j]/=magnitude\n",
    "#for i in range(0,num_rows):\n",
    "\t#for j in range(0,num_columns):\n",
    "print(data[0:20,0:15])\n"
   ]
  },
  {
   "cell_type": "code",
   "execution_count": null,
   "metadata": {},
   "outputs": [],
   "source": []
  }
 ],
 "metadata": {
  "kernelspec": {
   "display_name": "Python 3",
   "language": "python",
   "name": "python3"
  },
  "language_info": {
   "codemirror_mode": {
    "name": "ipython",
    "version": 3
   },
   "file_extension": ".py",
   "mimetype": "text/x-python",
   "name": "python",
   "nbconvert_exporter": "python",
   "pygments_lexer": "ipython3",
   "version": "3.7.3"
  }
 },
 "nbformat": 4,
 "nbformat_minor": 2
}
