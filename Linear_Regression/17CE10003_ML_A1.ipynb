{
 "cells": [
  {
   "cell_type": "code",
   "execution_count": 1,
   "metadata": {},
   "outputs": [],
   "source": [
    "import numpy as np\n",
    "import pandas as pd\n",
    "import matplotlib.pyplot as plt"
   ]
  },
  {
   "cell_type": "code",
   "execution_count": 2,
   "metadata": {},
   "outputs": [],
   "source": [
    "X_train = pd.read_csv('ML_Assignment_1_train.csv')"
   ]
  },
  {
   "cell_type": "code",
   "execution_count": 3,
   "metadata": {},
   "outputs": [
    {
     "data": {
      "text/html": [
       "<div>\n",
       "<style scoped>\n",
       "    .dataframe tbody tr th:only-of-type {\n",
       "        vertical-align: middle;\n",
       "    }\n",
       "\n",
       "    .dataframe tbody tr th {\n",
       "        vertical-align: top;\n",
       "    }\n",
       "\n",
       "    .dataframe thead th {\n",
       "        text-align: right;\n",
       "    }\n",
       "</style>\n",
       "<table border=\"1\" class=\"dataframe\">\n",
       "  <thead>\n",
       "    <tr style=\"text-align: right;\">\n",
       "      <th></th>\n",
       "      <th>Feature</th>\n",
       "      <th>Output</th>\n",
       "    </tr>\n",
       "  </thead>\n",
       "  <tbody>\n",
       "    <tr>\n",
       "      <th>0</th>\n",
       "      <td>0.963585</td>\n",
       "      <td>-0.229634</td>\n",
       "    </tr>\n",
       "    <tr>\n",
       "      <th>1</th>\n",
       "      <td>0.715377</td>\n",
       "      <td>-0.979414</td>\n",
       "    </tr>\n",
       "    <tr>\n",
       "      <th>2</th>\n",
       "      <td>0.896298</td>\n",
       "      <td>-0.608057</td>\n",
       "    </tr>\n",
       "    <tr>\n",
       "      <th>3</th>\n",
       "      <td>0.049025</td>\n",
       "      <td>0.306430</td>\n",
       "    </tr>\n",
       "    <tr>\n",
       "      <th>4</th>\n",
       "      <td>0.299481</td>\n",
       "      <td>0.952607</td>\n",
       "    </tr>\n",
       "  </tbody>\n",
       "</table>\n",
       "</div>"
      ],
      "text/plain": [
       "    Feature    Output\n",
       "0  0.963585 -0.229634\n",
       "1  0.715377 -0.979414\n",
       "2  0.896298 -0.608057\n",
       "3  0.049025  0.306430\n",
       "4  0.299481  0.952607"
      ]
     },
     "execution_count": 3,
     "metadata": {},
     "output_type": "execute_result"
    }
   ],
   "source": [
    "X_train.head()"
   ]
  },
  {
   "cell_type": "code",
   "execution_count": 4,
   "metadata": {},
   "outputs": [
    {
     "data": {
      "text/plain": [
       "(1000, 2)"
      ]
     },
     "execution_count": 4,
     "metadata": {},
     "output_type": "execute_result"
    }
   ],
   "source": [
    "X_train.shape"
   ]
  },
  {
   "cell_type": "code",
   "execution_count": 5,
   "metadata": {},
   "outputs": [
    {
     "data": {
      "text/plain": [
       "Text(0.5, 1.0, 'Train Plot')"
      ]
     },
     "execution_count": 5,
     "metadata": {},
     "output_type": "execute_result"
    },
    {
     "data": {
      "image/png": "[encoded data removed]",
      "text/plain": [
       "<Figure size 432x288 with 1 Axes>"
      ]
     },
     "metadata": {
      "needs_background": "light"
     },
     "output_type": "display_data"
    }
   ],
   "source": [
    "plt.figure()\n",
    "plt.scatter(X_train['Feature'], X_train['Output'])\n",
    "plt.xlabel('Feature')\n",
    "plt.xlabel('Output')\n",
    "plt.title('Train Plot')"
   ]
  },
  {
   "cell_type": "code",
   "execution_count": 6,
   "metadata": {},
   "outputs": [],
   "source": [
    "X_test = pd.read_csv('ML_Assignment_1_test.csv')"
   ]
  },
  {
   "cell_type": "code",
   "execution_count": 7,
   "metadata": {},
   "outputs": [
    {
     "data": {
      "text/html": [
       "<div>\n",
       "<style scoped>\n",
       "    .dataframe tbody tr th:only-of-type {\n",
       "        vertical-align: middle;\n",
       "    }\n",
       "\n",
       "    .dataframe tbody tr th {\n",
       "        vertical-align: top;\n",
       "    }\n",
       "\n",
       "    .dataframe thead th {\n",
       "        text-align: right;\n",
       "    }\n",
       "</style>\n",
       "<table border=\"1\" class=\"dataframe\">\n",
       "  <thead>\n",
       "    <tr style=\"text-align: right;\">\n",
       "      <th></th>\n",
       "      <th>Feature</th>\n",
       "      <th>Output</th>\n",
       "    </tr>\n",
       "  </thead>\n",
       "  <tbody>\n",
       "    <tr>\n",
       "      <th>0</th>\n",
       "      <td>0.355414</td>\n",
       "      <td>0.785368</td>\n",
       "    </tr>\n",
       "    <tr>\n",
       "      <th>1</th>\n",
       "      <td>0.451334</td>\n",
       "      <td>0.302000</td>\n",
       "    </tr>\n",
       "    <tr>\n",
       "      <th>2</th>\n",
       "      <td>0.127785</td>\n",
       "      <td>0.718821</td>\n",
       "    </tr>\n",
       "    <tr>\n",
       "      <th>3</th>\n",
       "      <td>0.734916</td>\n",
       "      <td>-0.990279</td>\n",
       "    </tr>\n",
       "    <tr>\n",
       "      <th>4</th>\n",
       "      <td>0.445669</td>\n",
       "      <td>0.333141</td>\n",
       "    </tr>\n",
       "  </tbody>\n",
       "</table>\n",
       "</div>"
      ],
      "text/plain": [
       "    Feature    Output\n",
       "0  0.355414  0.785368\n",
       "1  0.451334  0.302000\n",
       "2  0.127785  0.718821\n",
       "3  0.734916 -0.990279\n",
       "4  0.445669  0.333141"
      ]
     },
     "execution_count": 7,
     "metadata": {},
     "output_type": "execute_result"
    }
   ],
   "source": [
    "X_test.head()"
   ]
  },
  {
   "cell_type": "code",
   "execution_count": 8,
   "metadata": {},
   "outputs": [
    {
     "data": {
      "text/plain": [
       "(1000, 2)"
      ]
     },
     "execution_count": 8,
     "metadata": {},
     "output_type": "execute_result"
    }
   ],
   "source": [
    "X_train.shape"
   ]
  },
  {
   "cell_type": "code",
   "execution_count": 9,
   "metadata": {},
   "outputs": [
    {
     "data": {
      "text/plain": [
       "Text(0.5, 1.0, 'Test Plot')"
      ]
     },
     "execution_count": 9,
     "metadata": {},
     "output_type": "execute_result"
    },
    {
     "data": {
      "image/png": "[encoded data removed]",
      "text/plain": [
       "<Figure size 432x288 with 1 Axes>"
      ]
     },
     "metadata": {
      "needs_background": "light"
     },
     "output_type": "display_data"
    }
   ],
   "source": [
    "plt.figure()\n",
    "plt.scatter(X_test['Feature'], X_test['Output'])\n",
    "plt.xlabel('Feature')\n",
    "plt.xlabel('Output')\n",
    "plt.title('Test Plot')"
   ]
  },
  {
   "cell_type": "markdown",
   "metadata": {},
   "source": [
    "# Without Regularization "
   ]
  },
  {
   "cell_type": "code",
   "execution_count": 10,
   "metadata": {},
   "outputs": [],
   "source": [
    "list_train_err = []\n",
    "list_test_err = []"
   ]
  },
  {
   "cell_type": "markdown",
   "metadata": {},
   "source": [
    "## Degree 1 Polynomial Training "
   ]
  },
  {
   "cell_type": "code",
   "execution_count": 11,
   "metadata": {},
   "outputs": [],
   "source": [
    "theta0 = 0.5\n",
    "theta1 = 0.5\n",
    "alpha = 0.05\n",
    "\n",
    "x = np.array(X_train['Feature'])\n",
    "y = np.array(X_train['Output'])\n",
    "cost_arr = []\n",
    "for run in range(10000):\n",
    "    cost = 0\n",
    "    dtheta0 = 0\n",
    "    dtheta1 = 0\n",
    "    for i in range(X_train.shape[0]):\n",
    "        cost = cost + (theta0 + theta1*x[i] - y[i])**2\n",
    "        dtheta0 = dtheta0 + (theta0 + theta1*x[i] - y[i])\n",
    "        dtheta1 = dtheta1 + (theta0 + theta1*x[i] - y[i])*x[i]\n",
    "        \n",
    "    cost = cost / (2*X_train.shape[0])\n",
    "    dtheta0 = dtheta0 / X_train.shape[0]\n",
    "    dtheta1 = dtheta1 / X_train.shape[0]\n",
    "    cost_arr.append(cost)\n",
    "    \n",
    "    \n",
    "    theta0 = theta0 - alpha*dtheta0\n",
    "    theta1 = theta1 - alpha*dtheta1    "
   ]
  },
  {
   "cell_type": "markdown",
   "metadata": {},
   "source": [
    "## Cost function vs No. of Iteration"
   ]
  },
  {
   "cell_type": "code",
   "execution_count": 12,
   "metadata": {
    "scrolled": true
   },
   "outputs": [
    {
     "data": {
      "text/plain": [
       "[<matplotlib.lines.Line2D at 0x1b7037ceac8>]"
      ]
     },
     "execution_count": 12,
     "metadata": {},
     "output_type": "execute_result"
    },
    {
     "data": {
      "image/png": "[encoded data removed]",
      "text/plain": [
       "<Figure size 432x288 with 1 Axes>"
      ]
     },
     "metadata": {
      "needs_background": "light"
     },
     "output_type": "display_data"
    }
   ],
   "source": [
    "plt.figure()\n",
    "plt.plot(range(len(cost_arr)), cost_arr)"
   ]
  },
  {
   "cell_type": "markdown",
   "metadata": {},
   "source": [
    "## Training error and Hypothesis Plot"
   ]
  },
  {
   "cell_type": "code",
   "execution_count": 13,
   "metadata": {},
   "outputs": [
    {
     "name": "stdout",
     "output_type": "stream",
     "text": [
      "Train error = 0.19935819425581422\n"
     ]
    },
    {
     "data": {
      "image/png": "[encoded data removed]",
      "text/plain": [
       "<Figure size 432x288 with 1 Axes>"
      ]
     },
     "metadata": {
      "needs_background": "light"
     },
     "output_type": "display_data"
    }
   ],
   "source": [
    "x = np.array(X_train['Feature'])\n",
    "y = np.array(X_train['Output'])\n",
    "\n",
    "train_error = 0\n",
    "plt.figure()\n",
    "plt.scatter(X_train['Feature'], X_train['Output'])\n",
    "y_pred_train=[]\n",
    "for i in range(X_train.shape[0]):\n",
    "    y_pred_train.append(theta0+theta1*x[i])\n",
    "    train_error = train_error + (theta0+theta1*x[i] - y[i])**2\n",
    "train_error = train_error/X_train.shape[0]\n",
    "plt.plot(X_train['Feature'], y_pred_train)\n",
    "list_train_err.append(train_error)\n",
    "print('Train error =', train_error)"
   ]
  },
  {
   "cell_type": "markdown",
   "metadata": {},
   "source": [
    "## Testing error and Hypothesis Plot"
   ]
  },
  {
   "cell_type": "code",
   "execution_count": 14,
   "metadata": {},
   "outputs": [
    {
     "name": "stdout",
     "output_type": "stream",
     "text": [
      "Test error = 0.19112768030883495\n"
     ]
    },
    {
     "data": {
      "image/png": "[encoded data removed]",
      "text/plain": [
       "<Figure size 432x288 with 1 Axes>"
      ]
     },
     "metadata": {
      "needs_background": "light"
     },
     "output_type": "display_data"
    }
   ],
   "source": [
    "x = np.array(X_test['Feature'])\n",
    "y = np.array(X_test['Output'])\n",
    "\n",
    "test_error = 0\n",
    "plt.figure()\n",
    "plt.scatter(X_test['Feature'], X_test['Output'])\n",
    "y_pred_test=[]\n",
    "for i in range(X_test.shape[0]):\n",
    "    y_pred_test.append(theta0+theta1*x[i])\n",
    "    test_error = test_error + (theta0+theta1*x[i] - y[i])**2\n",
    "test_error = test_error/X_test.shape[0]\n",
    "plt.plot(X_test['Feature'], y_pred_test)\n",
    "list_test_err.append(test_error)\n",
    "print('Test error =', test_error)"
   ]
  },
  {
   "cell_type": "markdown",
   "metadata": {},
   "source": [
    "## Degree 2 Polynomial Training"
   ]
  },
  {
   "cell_type": "code",
   "execution_count": 15,
   "metadata": {},
   "outputs": [],
   "source": [
    "theta0 = 0\n",
    "theta1 = 0.5\n",
    "theta2 = 0.5\n",
    "alpha = 0.05\n",
    "\n",
    "x = np.array(X_train['Feature'])\n",
    "x2 = np.array(X_train['Feature'])**2\n",
    "y = np.array(X_train['Output'])\n",
    "\n",
    "cost_arr = []\n",
    "for run in range(10000):\n",
    "    cost = 0\n",
    "    dtheta0 = 0\n",
    "    dtheta1 = 0\n",
    "    dtheta2 = 0\n",
    "    for i in range(X_train.shape[0]):\n",
    "        cost = cost + (theta0 + theta1*x[i] +theta2*x2[i] - y[i])**2\n",
    "        dtheta0 = dtheta0 + (theta0 + theta1*x[i] +theta2*x2[i] - y[i])\n",
    "        dtheta1 = dtheta1 + (theta0 + theta1*x[i] +theta2*x2[i] - y[i])*x[i]\n",
    "        dtheta2 = dtheta2 + (theta0 + theta1*x[i] +theta2*x2[i] - y[i])*x2[i]\n",
    "        \n",
    "    cost = cost / (2*X_train.shape[0])\n",
    "    dtheta0 = dtheta0 / X_train.shape[0]\n",
    "    dtheta1 = dtheta1 / X_train.shape[0]\n",
    "    dtheta2 = dtheta2 / X_train.shape[0]\n",
    "\n",
    "    cost_arr.append(cost)\n",
    "    \n",
    "    \n",
    "    theta0 = theta0 - alpha*dtheta0\n",
    "    theta1 = theta1 - alpha*dtheta1    \n",
    "    theta2 = theta2 - alpha*dtheta2    "
   ]
  },
  {
   "cell_type": "markdown",
   "metadata": {},
   "source": [
    "## Cost function vs No. of Iteration"
   ]
  },
  {
   "cell_type": "code",
   "execution_count": 16,
   "metadata": {},
   "outputs": [
    {
     "data": {
      "text/plain": [
       "[<matplotlib.lines.Line2D at 0x1b70387e4e0>]"
      ]
     },
     "execution_count": 16,
     "metadata": {},
     "output_type": "execute_result"
    },
    {
     "data": {
      "image/png": "[encoded data removed]",
      "text/plain": [
       "<Figure size 432x288 with 1 Axes>"
      ]
     },
     "metadata": {
      "needs_background": "light"
     },
     "output_type": "display_data"
    }
   ],
   "source": [
    "plt.figure()\n",
    "plt.plot(range(len(cost_arr)), cost_arr)"
   ]
  },
  {
   "cell_type": "code",
   "execution_count": 17,
   "metadata": {},
   "outputs": [
    {
     "data": {
      "text/plain": [
       "<matplotlib.collections.PathCollection at 0x1b7038388d0>"
      ]
     },
     "execution_count": 17,
     "metadata": {},
     "output_type": "execute_result"
    },
    {
     "data": {
      "image/png": "[encoded data removed]",
      "text/plain": [
       "<Figure size 432x288 with 1 Axes>"
      ]
     },
     "metadata": {
      "needs_background": "light"
     },
     "output_type": "display_data"
    }
   ],
   "source": [
    "plt.figure()\n",
    "plt.scatter(X_train['Feature'], X_train['Output'])\n",
    "y_pred=[]\n",
    "for i in range(X_train.shape[0]):\n",
    "    y_pred.append(theta0 + theta1*x[i] +theta2*x2[i])\n",
    "\n",
    "plt.scatter(X_train['Feature'], y_pred)"
   ]
  },
  {
   "cell_type": "markdown",
   "metadata": {},
   "source": [
    "## Training error and Hypothesis Plot"
   ]
  },
  {
   "cell_type": "code",
   "execution_count": 18,
   "metadata": {},
   "outputs": [
    {
     "name": "stdout",
     "output_type": "stream",
     "text": [
      "Train error = 0.19903962995082072\n"
     ]
    },
    {
     "data": {
      "image/png": "[encoded data removed]",
      "text/plain": [
       "<Figure size 432x288 with 1 Axes>"
      ]
     },
     "metadata": {
      "needs_background": "light"
     },
     "output_type": "display_data"
    }
   ],
   "source": [
    "x = np.array(X_train['Feature'])\n",
    "x2 = np.array(X_train['Feature'])**2\n",
    "y = np.array(X_train['Output'])\n",
    "\n",
    "train_error = 0\n",
    "plt.figure()\n",
    "plt.scatter(X_train['Feature'], X_train['Output'])\n",
    "y_pred_train=[]\n",
    "for i in range(X_train.shape[0]):\n",
    "    y_pred_train.append(theta0 + theta1*x[i] +theta2*x2[i])\n",
    "    train_error = train_error + (theta0 + theta1*x[i] +theta2*x2[i] - y[i])**2\n",
    "train_error = train_error/X_train.shape[0]\n",
    "plt.scatter(X_train['Feature'], y_pred_train)\n",
    "list_train_err.append(train_error)\n",
    "print('Train error =', train_error)"
   ]
  },
  {
   "cell_type": "markdown",
   "metadata": {},
   "source": [
    "## Testing error and Hypothesis Plot"
   ]
  },
  {
   "cell_type": "code",
   "execution_count": 19,
   "metadata": {},
   "outputs": [
    {
     "name": "stdout",
     "output_type": "stream",
     "text": [
      "Test error = 0.1909782364291979\n"
     ]
    },
    {
     "data": {
      "image/png": "[encoded data removed]",
      "text/plain": [
       "<Figure size 432x288 with 1 Axes>"
      ]
     },
     "metadata": {
      "needs_background": "light"
     },
     "output_type": "display_data"
    }
   ],
   "source": [
    "x = np.array(X_test['Feature'])\n",
    "x2 = np.array(X_test['Feature'])**2\n",
    "y = np.array(X_test['Output'])\n",
    "\n",
    "test_error = 0\n",
    "plt.figure()\n",
    "plt.scatter(X_test['Feature'], X_test['Output'])\n",
    "y_pred_test=[]\n",
    "for i in range(X_test.shape[0]):\n",
    "    y_pred_test.append(theta0 + theta1*x[i] +theta2*x2[i])\n",
    "    test_error = test_error + (theta0 + theta1*x[i] +theta2*x2[i] - y[i])**2\n",
    "test_error = test_error/X_test.shape[0]\n",
    "plt.scatter(X_test['Feature'], y_pred_test)\n",
    "list_test_err.append(test_error)\n",
    "print('Test error =', test_error)"
   ]
  },
  {
   "cell_type": "markdown",
   "metadata": {},
   "source": [
    "## Degree 3 Polynomial Training"
   ]
  },
  {
   "cell_type": "code",
   "execution_count": 20,
   "metadata": {},
   "outputs": [],
   "source": [
    "theta0 = 0.5\n",
    "theta1 = 0.5\n",
    "theta2 = 0.5\n",
    "theta3 = 0.5\n",
    "alpha = 0.05\n",
    "\n",
    "x = np.array(X_train['Feature'])\n",
    "x2 = np.array(X_train['Feature'])**2\n",
    "x3 = np.array(X_train['Feature'])**3\n",
    "y = np.array(X_train['Output'])\n",
    "\n",
    "cost_arr = []\n",
    "for run in range(10000):\n",
    "    cost = 0\n",
    "    dtheta0 = 0\n",
    "    dtheta1 = 0\n",
    "    dtheta2 = 0\n",
    "    dtheta3 = 0\n",
    "    for i in range(X_train.shape[0]):\n",
    "        cost = cost + (theta0 + theta1*x[i] +theta2*x2[i] + theta3*x3[i]- y[i])**2\n",
    "        dtheta0 = dtheta0 + (theta0 + theta1*x[i] +theta2*x2[i] + theta3*x3[i] - y[i])\n",
    "        dtheta1 = dtheta1 + (theta0 + theta1*x[i] +theta2*x2[i] + theta3*x3[i]- y[i])*x[i]\n",
    "        dtheta2 = dtheta2 + (theta0 + theta1*x[i] +theta2*x2[i]+ theta3*x3[i] - y[i])*x2[i]\n",
    "        dtheta3 = dtheta3 + (theta0 + theta1*x[i] +theta2*x2[i] + theta3*x3[i] - y[i])*x3[i]\n",
    "        \n",
    "    cost = cost / (2*X_train.shape[0])\n",
    "    dtheta0 = dtheta0 / X_train.shape[0]\n",
    "    dtheta1 = dtheta1 / X_train.shape[0]\n",
    "    dtheta2 = dtheta2 / X_train.shape[0]\n",
    "    dtheta3 = dtheta3 / X_train.shape[0]\n",
    "\n",
    "    cost_arr.append(cost)\n",
    "    \n",
    "    \n",
    "    theta0 = theta0 - alpha*dtheta0\n",
    "    theta1 = theta1 - alpha*dtheta1    \n",
    "    theta2 = theta2 - alpha*dtheta2    \n",
    "    theta3 = theta3 - alpha*dtheta3    "
   ]
  },
  {
   "cell_type": "markdown",
   "metadata": {},
   "source": [
    "## Cost function vs No. of Iteration"
   ]
  },
  {
   "cell_type": "code",
   "execution_count": 21,
   "metadata": {},
   "outputs": [
    {
     "data": {
      "text/plain": [
       "[<matplotlib.lines.Line2D at 0x1b7049c2e80>]"
      ]
     },
     "execution_count": 21,
     "metadata": {},
     "output_type": "execute_result"
    },
    {
     "data": {
      "image/png": "[encoded data removed]",
      "text/plain": [
       "<Figure size 432x288 with 1 Axes>"
      ]
     },
     "metadata": {
      "needs_background": "light"
     },
     "output_type": "display_data"
    }
   ],
   "source": [
    "plt.figure()\n",
    "plt.plot(range(len(cost_arr)), cost_arr)"
   ]
  },
  {
   "cell_type": "code",
   "execution_count": 22,
   "metadata": {},
   "outputs": [
    {
     "data": {
      "text/plain": [
       "<matplotlib.collections.PathCollection at 0x1b704a2c5f8>"
      ]
     },
     "execution_count": 22,
     "metadata": {},
     "output_type": "execute_result"
    },
    {
     "data": {
      "image/png": "[encoded data removed]",
      "text/plain": [
       "<Figure size 432x288 with 1 Axes>"
      ]
     },
     "metadata": {
      "needs_background": "light"
     },
     "output_type": "display_data"
    }
   ],
   "source": [
    "plt.figure()\n",
    "plt.scatter(X_train['Feature'], X_train['Output'])\n",
    "y_pred=[]\n",
    "for i in range(X_train.shape[0]):\n",
    "    y_pred.append(theta0 + theta1*x[i] +theta2*x2[i]+ theta3*x3[i])\n",
    "\n",
    "plt.scatter(X_train['Feature'], y_pred)"
   ]
  },
  {
   "cell_type": "markdown",
   "metadata": {},
   "source": [
    "## Training error and Hypothesis Plot"
   ]
  },
  {
   "cell_type": "code",
   "execution_count": 23,
   "metadata": {},
   "outputs": [
    {
     "name": "stdout",
     "output_type": "stream",
     "text": [
      "Train error = 0.16795526979875586\n"
     ]
    },
    {
     "data": {
      "image/png": "[encoded data removed]",
      "text/plain": [
       "<Figure size 432x288 with 1 Axes>"
      ]
     },
     "metadata": {
      "needs_background": "light"
     },
     "output_type": "display_data"
    }
   ],
   "source": [
    "x = np.array(X_train['Feature'])\n",
    "x2 = np.array(X_train['Feature'])**2\n",
    "x3 = np.array(X_train['Feature'])**3\n",
    "y = np.array(X_train['Output'])\n",
    "\n",
    "train_error = 0\n",
    "plt.figure()\n",
    "plt.scatter(X_train['Feature'], X_train['Output'])\n",
    "y_pred_train=[]\n",
    "for i in range(X_train.shape[0]):\n",
    "    y_pred_train.append(theta0 + theta1*x[i] +theta2*x2[i]+ theta3*x3[i])\n",
    "    train_error = train_error + (theta0 + theta1*x[i] +theta2*x2[i]+ theta3*x3[i] - y[i])**2\n",
    "train_error = train_error/X_train.shape[0]\n",
    "plt.scatter(X_train['Feature'], y_pred_train)\n",
    "list_train_err.append(train_error)\n",
    "print('Train error =', train_error)"
   ]
  },
  {
   "cell_type": "markdown",
   "metadata": {},
   "source": [
    "## Testing error and Hypothesis Plot"
   ]
  },
  {
   "cell_type": "code",
   "execution_count": 24,
   "metadata": {},
   "outputs": [
    {
     "name": "stdout",
     "output_type": "stream",
     "text": [
      "Test error = 0.1663922920692988\n"
     ]
    },
    {
     "data": {
      "image/png": "[encoded data removed]",
      "text/plain": [
       "<Figure size 432x288 with 1 Axes>"
      ]
     },
     "metadata": {
      "needs_background": "light"
     },
     "output_type": "display_data"
    }
   ],
   "source": [
    "x = np.array(X_test['Feature'])\n",
    "x2 = np.array(X_test['Feature'])**2\n",
    "x3 = np.array(X_test['Feature'])**3\n",
    "y = np.array(X_test['Output'])\n",
    "\n",
    "test_error = 0\n",
    "plt.figure()\n",
    "plt.scatter(X_test['Feature'], X_test['Output'])\n",
    "y_pred_test=[]\n",
    "for i in range(X_test.shape[0]):\n",
    "    y_pred_test.append(theta0 + theta1*x[i] +theta2*x2[i]+ theta3*x3[i])\n",
    "    test_error = test_error + (theta0 + theta1*x[i] +theta2*x2[i] + theta3*x3[i]- y[i])**2\n",
    "test_error = test_error/X_test.shape[0]\n",
    "plt.scatter(X_test['Feature'], y_pred_test)\n",
    "list_test_err.append(test_error)\n",
    "print('Test error =', test_error)"
   ]
  },
  {
   "cell_type": "markdown",
   "metadata": {},
   "source": [
    "## Degree 4 Polynomial Training"
   ]
  },
  {
   "cell_type": "code",
   "execution_count": 25,
   "metadata": {},
   "outputs": [],
   "source": [
    "theta0 = 0.5\n",
    "theta1 = 0.5\n",
    "theta2 = 0.5\n",
    "theta3 = 0.5\n",
    "theta4 = 0.5\n",
    "alpha = 0.05\n",
    "\n",
    "x = np.array(X_train['Feature'])\n",
    "x2 = np.array(X_train['Feature'])**2\n",
    "x3 = np.array(X_train['Feature'])**3\n",
    "x4 = np.array(X_train['Feature'])**4\n",
    "y = np.array(X_train['Output'])\n",
    "\n",
    "cost_arr = []\n",
    "for run in range(10000):\n",
    "    cost = 0\n",
    "    dtheta0 = 0\n",
    "    dtheta1 = 0\n",
    "    dtheta2 = 0\n",
    "    dtheta3 = 0\n",
    "    dtheta4 = 0\n",
    "    for i in range(X_train.shape[0]):\n",
    "        cost = cost + (theta0 + theta1*x[i] +theta2*x2[i] + theta3*x3[i]+ theta4*x4[i] - y[i])**2\n",
    "        dtheta0 = dtheta0 + (theta0 + theta1*x[i] +theta2*x2[i] + theta3*x3[i] + theta4*x4[i] - y[i])\n",
    "        dtheta1 = dtheta1 + (theta0 + theta1*x[i] +theta2*x2[i] + theta3*x3[i] + theta4*x4[i] - y[i])*x[i]\n",
    "        dtheta2 = dtheta2 + (theta0 + theta1*x[i] +theta2*x2[i] + theta3*x3[i] + theta4*x4[i] - y[i])*x2[i]\n",
    "        dtheta3 = dtheta3 + (theta0 + theta1*x[i] +theta2*x2[i] + theta3*x3[i] + theta4*x4[i] - y[i])*x3[i]\n",
    "        dtheta4 = dtheta4 + (theta0 + theta1*x[i] +theta2*x2[i] + theta3*x3[i] + theta4*x4[i] - y[i])*x4[i]\n",
    "        \n",
    "    cost = cost / (2*X_train.shape[0])\n",
    "    dtheta0 = dtheta0 / X_train.shape[0]\n",
    "    dtheta1 = dtheta1 / X_train.shape[0]\n",
    "    dtheta2 = dtheta2 / X_train.shape[0]\n",
    "    dtheta3 = dtheta3 / X_train.shape[0]\n",
    "    dtheta4 = dtheta4 / X_train.shape[0]\n",
    "\n",
    "    cost_arr.append(cost)\n",
    "    \n",
    "    \n",
    "    theta0 = theta0 - alpha*dtheta0\n",
    "    theta1 = theta1 - alpha*dtheta1    \n",
    "    theta2 = theta2 - alpha*dtheta2    \n",
    "    theta3 = theta3 - alpha*dtheta3 \n",
    "    theta4 = theta4 - alpha*dtheta4 "
   ]
  },
  {
   "cell_type": "markdown",
   "metadata": {},
   "source": [
    "## Cost function vs No. of Iteration"
   ]
  },
  {
   "cell_type": "code",
   "execution_count": 26,
   "metadata": {},
   "outputs": [
    {
     "data": {
      "text/plain": [
       "[<matplotlib.lines.Line2D at 0x1b704b61048>]"
      ]
     },
     "execution_count": 26,
     "metadata": {},
     "output_type": "execute_result"
    },
    {
     "data": {
      "image/png": "[encoded data removed]",
      "text/plain": [
       "<Figure size 432x288 with 1 Axes>"
      ]
     },
     "metadata": {
      "needs_background": "light"
     },
     "output_type": "display_data"
    }
   ],
   "source": [
    "plt.figure()\n",
    "plt.plot(range(len(cost_arr)), cost_arr)"
   ]
  },
  {
   "cell_type": "code",
   "execution_count": 27,
   "metadata": {},
   "outputs": [
    {
     "data": {
      "text/plain": [
       "<matplotlib.collections.PathCollection at 0x1b704bc6390>"
      ]
     },
     "execution_count": 27,
     "metadata": {},
     "output_type": "execute_result"
    },
    {
     "data": {
      "image/png": "[encoded data removed]",
      "text/plain": [
       "<Figure size 432x288 with 1 Axes>"
      ]
     },
     "metadata": {
      "needs_background": "light"
     },
     "output_type": "display_data"
    }
   ],
   "source": [
    "plt.figure()\n",
    "plt.scatter(X_train['Feature'], X_train['Output'])\n",
    "y_pred=[]\n",
    "for i in range(X_train.shape[0]):\n",
    "    y_pred.append(theta0 + theta1*x[i] +theta2*x2[i] + theta3*x3[i] + theta4*x4[i] )\n",
    "\n",
    "plt.scatter(X_train['Feature'], y_pred)"
   ]
  },
  {
   "cell_type": "markdown",
   "metadata": {},
   "source": [
    "## Training error and Hypothesis Plot"
   ]
  },
  {
   "cell_type": "code",
   "execution_count": 28,
   "metadata": {},
   "outputs": [
    {
     "name": "stdout",
     "output_type": "stream",
     "text": [
      "Train error = 0.12508366658182418\n"
     ]
    },
    {
     "data": {
      "image/png": "[encoded data removed]",
      "text/plain": [
       "<Figure size 432x288 with 1 Axes>"
      ]
     },
     "metadata": {
      "needs_background": "light"
     },
     "output_type": "display_data"
    }
   ],
   "source": [
    "x = np.array(X_train['Feature'])\n",
    "x2 = np.array(X_train['Feature'])**2\n",
    "x3 = np.array(X_train['Feature'])**3\n",
    "x4 = np.array(X_train['Feature'])**4\n",
    "y = np.array(X_train['Output'])\n",
    "\n",
    "train_error = 0\n",
    "plt.figure()\n",
    "plt.scatter(X_train['Feature'], X_train['Output'])\n",
    "y_pred_train=[]\n",
    "for i in range(X_train.shape[0]):\n",
    "    y_pred_train.append(theta0 + theta1*x[i] +theta2*x2[i] + theta3*x3[i] + theta4*x4[i])\n",
    "    train_error = train_error + (theta0 + theta1*x[i] +theta2*x2[i] + theta3*x3[i] + theta4*x4[i]- y[i])**2\n",
    "train_error = train_error/X_train.shape[0]\n",
    "plt.scatter(X_train['Feature'], y_pred_train)\n",
    "list_train_err.append(train_error)\n",
    "print('Train error =', train_error)"
   ]
  },
  {
   "cell_type": "markdown",
   "metadata": {},
   "source": [
    "## Testing error and Hypothesis Plot"
   ]
  },
  {
   "cell_type": "code",
   "execution_count": 29,
   "metadata": {},
   "outputs": [
    {
     "name": "stdout",
     "output_type": "stream",
     "text": [
      "Test error = 0.12747796071827916\n"
     ]
    },
    {
     "data": {
      "image/png": "[encoded data removed]",
      "text/plain": [
       "<Figure size 432x288 with 1 Axes>"
      ]
     },
     "metadata": {
      "needs_background": "light"
     },
     "output_type": "display_data"
    }
   ],
   "source": [
    "x = np.array(X_test['Feature'])\n",
    "x2 = np.array(X_test['Feature'])**2\n",
    "x3 = np.array(X_test['Feature'])**3\n",
    "x4 = np.array(X_test['Feature'])**4\n",
    "y = np.array(X_test['Output'])\n",
    "\n",
    "test_error = 0\n",
    "plt.figure()\n",
    "plt.scatter(X_test['Feature'], X_test['Output'])\n",
    "y_pred_test=[]\n",
    "for i in range(X_test.shape[0]):\n",
    "    y_pred_test.append(theta0 + theta1*x[i] +theta2*x2[i] + theta3*x3[i] + theta4*x4[i])\n",
    "    test_error = test_error + (theta0 + theta1*x[i] +theta2*x2[i] + theta3*x3[i] + theta4*x4[i]- y[i])**2\n",
    "test_error = test_error/X_test.shape[0]\n",
    "plt.scatter(X_test['Feature'], y_pred_test)\n",
    "list_test_err.append(test_error)\n",
    "print('Test error =', test_error)"
   ]
  },
  {
   "cell_type": "markdown",
   "metadata": {},
   "source": [
    "## Degree 5 Polynomial Training"
   ]
  },
  {
   "cell_type": "code",
   "execution_count": 30,
   "metadata": {},
   "outputs": [],
   "source": [
    "theta0 = 0.5\n",
    "theta1 = 0.5\n",
    "theta2 = 0.5\n",
    "theta3 = 0.5\n",
    "theta4 = 0.5\n",
    "theta5 = 0.5\n",
    "alpha = 0.05\n",
    "\n",
    "x = np.array(X_train['Feature'])\n",
    "x2 = np.array(X_train['Feature'])**2\n",
    "x3 = np.array(X_train['Feature'])**3\n",
    "x4 = np.array(X_train['Feature'])**4\n",
    "x5 = np.array(X_train['Feature'])**5\n",
    "y = np.array(X_train['Output'])\n",
    "\n",
    "cost_arr = []\n",
    "for run in range(10000):\n",
    "    cost = 0\n",
    "    dtheta0 = 0\n",
    "    dtheta1 = 0\n",
    "    dtheta2 = 0\n",
    "    dtheta3 = 0\n",
    "    dtheta4 = 0\n",
    "    dtheta5 = 0\n",
    "    for i in range(X_train.shape[0]):\n",
    "        cost = cost + (theta0 + theta1*x[i] +theta2*x2[i] + theta3*x3[i] + theta4*x4[i] + theta5*x5[i]- y[i])**2\n",
    "        dtheta0 = dtheta0 + (theta0 + theta1*x[i] +theta2*x2[i] + theta3*x3[i] + theta4*x4[i] + theta5*x5[i] - y[i])\n",
    "        dtheta1 = dtheta1 + (theta0 + theta1*x[i] +theta2*x2[i] + theta3*x3[i] + theta4*x4[i] + theta5*x5[i] - y[i])*x[i]\n",
    "        dtheta2 = dtheta2 + (theta0 + theta1*x[i] +theta2*x2[i] + theta3*x3[i] + theta4*x4[i] + theta5*x5[i] - y[i])*x2[i]\n",
    "        dtheta3 = dtheta3 + (theta0 + theta1*x[i] +theta2*x2[i] + theta3*x3[i] + theta4*x4[i] + theta5*x5[i] - y[i])*x3[i]\n",
    "        dtheta4 = dtheta4 + (theta0 + theta1*x[i] +theta2*x2[i] + theta3*x3[i] + theta4*x4[i] + theta5*x5[i] - y[i])*x4[i]\n",
    "        dtheta5 = dtheta5 + (theta0 + theta1*x[i] +theta2*x2[i] + theta3*x3[i] + theta4*x4[i] + theta5*x5[i] - y[i])*x5[i]\n",
    "        \n",
    "    cost = cost / (2*X_train.shape[0])\n",
    "    dtheta0 = dtheta0 / X_train.shape[0]\n",
    "    dtheta1 = dtheta1 / X_train.shape[0]\n",
    "    dtheta2 = dtheta2 / X_train.shape[0]\n",
    "    dtheta3 = dtheta3 / X_train.shape[0]\n",
    "    dtheta4 = dtheta4 / X_train.shape[0]\n",
    "    dtheta5 = dtheta5 / X_train.shape[0]\n",
    "\n",
    "    cost_arr.append(cost)\n",
    "    \n",
    "    \n",
    "    theta0 = theta0 - alpha*dtheta0\n",
    "    theta1 = theta1 - alpha*dtheta1    \n",
    "    theta2 = theta2 - alpha*dtheta2    \n",
    "    theta3 = theta3 - alpha*dtheta3 \n",
    "    theta4 = theta4 - alpha*dtheta4 \n",
    "    theta5 = theta5 - alpha*dtheta5 "
   ]
  },
  {
   "cell_type": "markdown",
   "metadata": {},
   "source": [
    "## Cost function vs No. of Iteration"
   ]
  },
  {
   "cell_type": "code",
   "execution_count": 31,
   "metadata": {},
   "outputs": [
    {
     "data": {
      "text/plain": [
       "[<matplotlib.lines.Line2D at 0x1b7049d5828>]"
      ]
     },
     "execution_count": 31,
     "metadata": {},
     "output_type": "execute_result"
    },
    {
     "data": {
      "image/png": "[encoded data removed]",
      "text/plain": [
       "<Figure size 432x288 with 1 Axes>"
      ]
     },
     "metadata": {
      "needs_background": "light"
     },
     "output_type": "display_data"
    }
   ],
   "source": [
    "plt.figure()\n",
    "plt.plot(range(len(cost_arr)), cost_arr)"
   ]
  },
  {
   "cell_type": "code",
   "execution_count": 32,
   "metadata": {},
   "outputs": [
    {
     "data": {
      "text/plain": [
       "<matplotlib.collections.PathCollection at 0x1b704924668>"
      ]
     },
     "execution_count": 32,
     "metadata": {},
     "output_type": "execute_result"
    },
    {
     "data": {
      "image/png": "[encoded data removed]",
      "text/plain": [
       "<Figure size 432x288 with 1 Axes>"
      ]
     },
     "metadata": {
      "needs_background": "light"
     },
     "output_type": "display_data"
    }
   ],
   "source": [
    "plt.figure()\n",
    "plt.scatter(X_train['Feature'], X_train['Output'])\n",
    "y_pred=[]\n",
    "for i in range(X_train.shape[0]):\n",
    "    y_pred.append(theta0 + theta1*x[i] +theta2*x2[i] + theta3*x3[i] + theta4*x4[i] + theta5*x5[i])\n",
    "\n",
    "plt.scatter(X_train['Feature'], y_pred)"
   ]
  },
  {
   "cell_type": "markdown",
   "metadata": {},
   "source": [
    "## Training error and Hypothesis Plot"
   ]
  },
  {
   "cell_type": "code",
   "execution_count": 33,
   "metadata": {},
   "outputs": [
    {
     "name": "stdout",
     "output_type": "stream",
     "text": [
      "Train error = 0.08988765117440943\n"
     ]
    },
    {
     "data": {
      "image/png": "[encoded data removed]",
      "text/plain": [
       "<Figure size 432x288 with 1 Axes>"
      ]
     },
     "metadata": {
      "needs_background": "light"
     },
     "output_type": "display_data"
    }
   ],
   "source": [
    "x = np.array(X_train['Feature'])\n",
    "x2 = np.array(X_train['Feature'])**2\n",
    "x3 = np.array(X_train['Feature'])**3\n",
    "x4 = np.array(X_train['Feature'])**4\n",
    "x5 = np.array(X_train['Feature'])**5\n",
    "y = np.array(X_train['Output'])\n",
    "\n",
    "train_error = 0\n",
    "plt.figure()\n",
    "plt.scatter(X_train['Feature'], X_train['Output'])\n",
    "y_pred_train=[]\n",
    "for i in range(X_train.shape[0]):\n",
    "    y_pred_train.append(theta0 + theta1*x[i] +theta2*x2[i] + theta3*x3[i] + theta4*x4[i] + theta5*x5[i])\n",
    "    train_error = train_error + (theta0 + theta1*x[i] +theta2*x2[i] + theta3*x3[i] + theta4*x4[i] + theta5*x5[i]- y[i])**2\n",
    "train_error = train_error/X_train.shape[0]\n",
    "plt.scatter(X_train['Feature'], y_pred_train)\n",
    "list_train_err.append(train_error)\n",
    "print('Train error =', train_error)"
   ]
  },
  {
   "cell_type": "markdown",
   "metadata": {},
   "source": [
    "## Testing error and Hypothesis Plot"
   ]
  },
  {
   "cell_type": "code",
   "execution_count": 34,
   "metadata": {},
   "outputs": [
    {
     "name": "stdout",
     "output_type": "stream",
     "text": [
      "Test error = 0.0937104719449461\n"
     ]
    },
    {
     "data": {
      "image/png": "[encoded data removed]",
      "text/plain": [
       "<Figure size 432x288 with 1 Axes>"
      ]
     },
     "metadata": {
      "needs_background": "light"
     },
     "output_type": "display_data"
    }
   ],
   "source": [
    "x = np.array(X_test['Feature'])\n",
    "x2 = np.array(X_test['Feature'])**2\n",
    "x3 = np.array(X_test['Feature'])**3\n",
    "x4 = np.array(X_test['Feature'])**4\n",
    "x5 = np.array(X_test['Feature'])**5\n",
    "y = np.array(X_test['Output'])\n",
    "\n",
    "test_error = 0\n",
    "plt.figure()\n",
    "plt.scatter(X_test['Feature'], X_test['Output'])\n",
    "y_pred_test=[]\n",
    "for i in range(X_test.shape[0]):\n",
    "    y_pred_test.append(theta0 + theta1*x[i] +theta2*x2[i] + theta3*x3[i] + theta4*x4[i] + theta5*x5[i])\n",
    "    test_error = test_error + (theta0 + theta1*x[i] +theta2*x2[i] + theta3*x3[i] + theta4*x4[i] + theta5*x5[i]- y[i])**2\n",
    "test_error = test_error/X_test.shape[0]\n",
    "plt.scatter(X_test['Feature'], y_pred_test)\n",
    "list_test_err.append(test_error)\n",
    "print('Test error =', test_error)"
   ]
  },
  {
   "cell_type": "markdown",
   "metadata": {},
   "source": [
    "## Degree 6 Polynomil"
   ]
  },
  {
   "cell_type": "code",
   "execution_count": 35,
   "metadata": {},
   "outputs": [],
   "source": [
    "theta0 = 0.5\n",
    "theta1 = 0.5\n",
    "theta2 = 0.5\n",
    "theta3 = 0.5\n",
    "theta4 = 0.5\n",
    "theta5 = 0.5\n",
    "theta6 = 0.5\n",
    "alpha = 0.05\n",
    "lamba = 0.75\n",
    "\n",
    "x = np.array(X_train['Feature'])\n",
    "x2 = np.array(X_train['Feature'])**2\n",
    "x3 = np.array(X_train['Feature'])**3\n",
    "x4 = np.array(X_train['Feature'])**4\n",
    "x5 = np.array(X_train['Feature'])**5\n",
    "x6 = np.array(X_train['Feature'])**6\n",
    "y = np.array(X_train['Output'])\n",
    "\n",
    "cost_arr = []\n",
    "for run in range(10000):\n",
    "    cost = 0\n",
    "    dtheta0 = 0\n",
    "    dtheta1 = 0\n",
    "    dtheta2 = 0\n",
    "    dtheta3 = 0\n",
    "    dtheta4 = 0\n",
    "    dtheta5 = 0\n",
    "    dtheta6 = 0\n",
    "    for i in range(X_train.shape[0]):\n",
    "        cost = cost + (theta0 + theta1*x[i] +theta2*x2[i] + theta3*x3[i] + theta4*x4[i] + theta5*x5[i] +theta6*x6[i] - y[i])**2\n",
    "        dtheta0 = dtheta0 + (theta0 + theta1*x[i] +theta2*x2[i] + theta3*x3[i] + theta4*x4[i] + theta5*x5[i] +theta6*x6[i] - y[i])\n",
    "        dtheta1 = dtheta1 + (theta0 + theta1*x[i] +theta2*x2[i] + theta3*x3[i] + theta4*x4[i] + theta5*x5[i] +theta6*x6[i] - y[i])*x[i]\n",
    "        dtheta2 = dtheta2 + (theta0 + theta1*x[i] +theta2*x2[i] + theta3*x3[i] + theta4*x4[i] + theta5*x5[i] +theta6*x6[i] - y[i])*x2[i]\n",
    "        dtheta3 = dtheta3 + (theta0 + theta1*x[i] +theta2*x2[i] + theta3*x3[i] + theta4*x4[i] + theta5*x5[i] +theta6*x6[i] - y[i])*x3[i]\n",
    "        dtheta4 = dtheta4 + (theta0 + theta1*x[i] +theta2*x2[i] + theta3*x3[i] + theta4*x4[i] + theta5*x5[i] +theta6*x6[i] - y[i])*x4[i]\n",
    "        dtheta5 = dtheta5 + (theta0 + theta1*x[i] +theta2*x2[i] + theta3*x3[i] + theta4*x4[i] + theta5*x5[i] +theta6*x6[i] - y[i])*x5[i]\n",
    "        dtheta6 = dtheta6 + (theta0 + theta1*x[i] +theta2*x2[i] + theta3*x3[i] + theta4*x4[i] + theta5*x5[i] +theta6*x6[i] - y[i])*x6[i]\n",
    "        \n",
    "    cost = cost / (2*X_train.shape[0])\n",
    "    \n",
    "    dtheta0 = dtheta0 / X_train.shape[0]\n",
    "    dtheta1 = dtheta1 / X_train.shape[0]\n",
    "    dtheta2 = dtheta2 / X_train.shape[0]\n",
    "    dtheta3 = dtheta3 / X_train.shape[0]\n",
    "    dtheta4 = dtheta4 / X_train.shape[0]\n",
    "    dtheta5 = dtheta5 / X_train.shape[0]\n",
    "    dtheta6 = dtheta6 / X_train.shape[0]\n",
    "\n",
    "    cost_arr.append(cost)\n",
    "    \n",
    "    \n",
    "    theta0 = theta0 - alpha*dtheta0\n",
    "    theta1 = theta1 - alpha*dtheta1    \n",
    "    theta2 = theta2 - alpha*dtheta2    \n",
    "    theta3 = theta3 - alpha*dtheta3 \n",
    "    theta4 = theta4 - alpha*dtheta4 \n",
    "    theta5 = theta5 - alpha*dtheta5 \n",
    "    theta6 = theta6 - alpha*dtheta6"
   ]
  },
  {
   "cell_type": "markdown",
   "metadata": {},
   "source": [
    "## Cost function vs No. of Iteration"
   ]
  },
  {
   "cell_type": "code",
   "execution_count": 36,
   "metadata": {},
   "outputs": [
    {
     "data": {
      "text/plain": [
       "[<matplotlib.lines.Line2D at 0x1b704cb39b0>]"
      ]
     },
     "execution_count": 36,
     "metadata": {},
     "output_type": "execute_result"
    },
    {
     "data": {
      "image/png": "[encoded data removed]",
      "text/plain": [
       "<Figure size 432x288 with 1 Axes>"
      ]
     },
     "metadata": {
      "needs_background": "light"
     },
     "output_type": "display_data"
    }
   ],
   "source": [
    "plt.figure()\n",
    "plt.plot(range(len(cost_arr)), cost_arr)"
   ]
  },
  {
   "cell_type": "code",
   "execution_count": 37,
   "metadata": {},
   "outputs": [
    {
     "data": {
      "text/plain": [
       "<matplotlib.collections.PathCollection at 0x1b704d246d8>"
      ]
     },
     "execution_count": 37,
     "metadata": {},
     "output_type": "execute_result"
    },
    {
     "data": {
      "image/png": "[encoded data removed]",
      "text/plain": [
       "<Figure size 432x288 with 1 Axes>"
      ]
     },
     "metadata": {
      "needs_background": "light"
     },
     "output_type": "display_data"
    }
   ],
   "source": [
    "plt.figure()\n",
    "plt.scatter(X_train['Feature'], X_train['Output'])\n",
    "y_pred=[]\n",
    "for i in range(X_train.shape[0]):\n",
    "    y_pred.append(theta0 + theta1*x[i] +theta2*x2[i] + theta3*x3[i] + theta4*x4[i] + theta5*x5[i] +theta6*x6[i])\n",
    "\n",
    "plt.scatter(X_train['Feature'], y_pred)"
   ]
  },
  {
   "cell_type": "markdown",
   "metadata": {},
   "source": [
    "## Training error and Hypothesis Plot"
   ]
  },
  {
   "cell_type": "code",
   "execution_count": 38,
   "metadata": {},
   "outputs": [
    {
     "name": "stdout",
     "output_type": "stream",
     "text": [
      "Train error = 0.06943099039020913\n"
     ]
    },
    {
     "data": {
      "image/png": "[encoded data removed]",
      "text/plain": [
       "<Figure size 432x288 with 1 Axes>"
      ]
     },
     "metadata": {
      "needs_background": "light"
     },
     "output_type": "display_data"
    }
   ],
   "source": [
    "x = np.array(X_train['Feature'])\n",
    "x2 = np.array(X_train['Feature'])**2\n",
    "x3 = np.array(X_train['Feature'])**3\n",
    "x4 = np.array(X_train['Feature'])**4\n",
    "x5 = np.array(X_train['Feature'])**5\n",
    "x6 = np.array(X_train['Feature'])**6\n",
    "y = np.array(X_train['Output'])\n",
    "\n",
    "train_error = 0\n",
    "plt.figure()\n",
    "plt.scatter(X_train['Feature'], X_train['Output'])\n",
    "y_pred_train=[]\n",
    "for i in range(X_train.shape[0]):\n",
    "    y_pred_train.append(theta0 + theta1*x[i] +theta2*x2[i] + theta3*x3[i] + theta4*x4[i] + theta5*x5[i] +theta6*x6[i])\n",
    "    train_error = train_error + (theta0 + theta1*x[i] +theta2*x2[i] + theta3*x3[i] + theta4*x4[i] + theta5*x5[i] +theta6*x6[i]- y[i])**2\n",
    "train_error = train_error/X_train.shape[0]\n",
    "list_train_err.append(train_error)\n",
    "plt.scatter(X_train['Feature'], y_pred_train)\n",
    "print('Train error =', train_error)"
   ]
  },
  {
   "cell_type": "markdown",
   "metadata": {},
   "source": [
    "## Testing error and Hypothesis Plot"
   ]
  },
  {
   "cell_type": "code",
   "execution_count": 39,
   "metadata": {},
   "outputs": [
    {
     "name": "stdout",
     "output_type": "stream",
     "text": [
      "Test error = 0.07342313916745902\n"
     ]
    },
    {
     "data": {
      "image/png": "[encoded data removed]",
      "text/plain": [
       "<Figure size 432x288 with 1 Axes>"
      ]
     },
     "metadata": {
      "needs_background": "light"
     },
     "output_type": "display_data"
    }
   ],
   "source": [
    "x = np.array(X_test['Feature'])\n",
    "x2 = np.array(X_test['Feature'])**2\n",
    "x3 = np.array(X_test['Feature'])**3\n",
    "x4 = np.array(X_test['Feature'])**4\n",
    "x5 = np.array(X_test['Feature'])**5\n",
    "x6 = np.array(X_test['Feature'])**6\n",
    "y = np.array(X_test['Output'])\n",
    "\n",
    "test_error = 0\n",
    "plt.figure()\n",
    "plt.scatter(X_test['Feature'], X_test['Output'])\n",
    "y_pred_test=[]\n",
    "for i in range(X_test.shape[0]):\n",
    "    y_pred_test.append(theta0 + theta1*x[i] +theta2*x2[i] + theta3*x3[i] + theta4*x4[i] + theta5*x5[i] +theta6*x6[i])\n",
    "    test_error = test_error + (theta0 + theta1*x[i] +theta2*x2[i] + theta3*x3[i] + theta4*x4[i] + theta5*x5[i] +theta6*x6[i]- y[i])**2\n",
    "test_error = test_error/X_test.shape[0]\n",
    "list_test_err.append(test_error)\n",
    "plt.scatter(X_test['Feature'], y_pred_test)\n",
    "print('Test error =', test_error)"
   ]
  },
  {
   "cell_type": "markdown",
   "metadata": {},
   "source": [
    "## Train error with degree"
   ]
  },
  {
   "cell_type": "code",
   "execution_count": 40,
   "metadata": {},
   "outputs": [
    {
     "data": {
      "text/plain": [
       "[<matplotlib.lines.Line2D at 0x1b704e4c518>]"
      ]
     },
     "execution_count": 40,
     "metadata": {},
     "output_type": "execute_result"
    },
    {
     "data": {
      "image/png": "[encoded data removed]",
      "text/plain": [
       "<Figure size 432x288 with 1 Axes>"
      ]
     },
     "metadata": {
      "needs_background": "light"
     },
     "output_type": "display_data"
    }
   ],
   "source": [
    "plt.figure()\n",
    "plt.plot(np.arange(1, 7), list_train_err)"
   ]
  },
  {
   "cell_type": "markdown",
   "metadata": {},
   "source": [
    "## Test error with degree"
   ]
  },
  {
   "cell_type": "code",
   "execution_count": 41,
   "metadata": {},
   "outputs": [
    {
     "data": {
      "text/plain": [
       "[<matplotlib.lines.Line2D at 0x1b704ea7e10>]"
      ]
     },
     "execution_count": 41,
     "metadata": {},
     "output_type": "execute_result"
    },
    {
     "data": {
      "image/png": "[encoded data removed]",
      "text/plain": [
       "<Figure size 432x288 with 1 Axes>"
      ]
     },
     "metadata": {
      "needs_background": "light"
     },
     "output_type": "display_data"
    }
   ],
   "source": [
    "plt.figure()\n",
    "plt.plot(np.arange(1, 7), list_test_err)"
   ]
  },
  {
   "cell_type": "markdown",
   "metadata": {},
   "source": [
    "# Lasso Regularization"
   ]
  },
  {
   "cell_type": "markdown",
   "metadata": {},
   "source": [
    "## Degree 1 Polynomial"
   ]
  },
  {
   "cell_type": "code",
   "execution_count": 42,
   "metadata": {},
   "outputs": [],
   "source": [
    "theta0 = 0.5\n",
    "theta1 = 0.5\n",
    "alpha = 0.05\n",
    "lamba = 0.75\n",
    "\n",
    "x = np.array(X_train['Feature'])\n",
    "y = np.array(X_train['Output'])\n",
    "cost_arr = []\n",
    "for run in range(10000):\n",
    "    cost = 0\n",
    "    dtheta0 = 0\n",
    "    dtheta1 = 0\n",
    "    for i in range(X_train.shape[0]):\n",
    "        cost = cost + (theta0 + theta1*x[i] - y[i])**2\n",
    "        dtheta0 = dtheta0 + (theta0 + theta1*x[i] - y[i])\n",
    "        dtheta1 = dtheta1 + (theta0 + theta1*x[i] - y[i])*x[i]\n",
    "        \n",
    "    cost = cost + lamba*(theta0**2 + theta1**2)\n",
    "    cost = cost / (2*X_train.shape[0])\n",
    "    dtheta0 = dtheta0 + lamba * theta0\n",
    "    dtheta1 = dtheta1 + lamba * theta1\n",
    "    dtheta0 = dtheta0 / X_train.shape[0]\n",
    "    dtheta1 = dtheta1 / X_train.shape[0]\n",
    "    cost_arr.append(cost)\n",
    "    \n",
    "    \n",
    "    theta0 = theta0 - alpha*dtheta0\n",
    "    theta1 = theta1 - alpha*dtheta1    "
   ]
  },
  {
   "cell_type": "markdown",
   "metadata": {},
   "source": [
    "## Cost function vs No. of Iteration"
   ]
  },
  {
   "cell_type": "code",
   "execution_count": 43,
   "metadata": {},
   "outputs": [
    {
     "data": {
      "text/plain": [
       "[<matplotlib.lines.Line2D at 0x1b704db36a0>]"
      ]
     },
     "execution_count": 43,
     "metadata": {},
     "output_type": "execute_result"
    },
    {
     "data": {
      "image/png": "[encoded data removed]",
      "text/plain": [
       "<Figure size 432x288 with 1 Axes>"
      ]
     },
     "metadata": {
      "needs_background": "light"
     },
     "output_type": "display_data"
    }
   ],
   "source": [
    "plt.figure()\n",
    "plt.plot(range(len(cost_arr)), cost_arr)"
   ]
  },
  {
   "cell_type": "markdown",
   "metadata": {},
   "source": [
    "## Training error and Hypothesis Plot"
   ]
  },
  {
   "cell_type": "code",
   "execution_count": 44,
   "metadata": {},
   "outputs": [
    {
     "name": "stdout",
     "output_type": "stream",
     "text": [
      "Train error = 0.19939259771692405\n"
     ]
    },
    {
     "data": {
      "image/png": "[encoded data removed]",
      "text/plain": [
       "<Figure size 432x288 with 1 Axes>"
      ]
     },
     "metadata": {
      "needs_background": "light"
     },
     "output_type": "display_data"
    }
   ],
   "source": [
    "x = np.array(X_train['Feature'])\n",
    "y = np.array(X_train['Output'])\n",
    "\n",
    "train_error = 0\n",
    "plt.figure()\n",
    "plt.scatter(X_train['Feature'], X_train['Output'])\n",
    "y_pred_train=[]\n",
    "for i in range(X_train.shape[0]):\n",
    "    y_pred_train.append(theta0+theta1*x[i])\n",
    "    train_error = train_error + (theta0+theta1*x[i] - y[i])**2\n",
    "train_error = train_error/X_train.shape[0]\n",
    "plt.plot(X_train['Feature'], y_pred_train)\n",
    "print('Train error =', train_error)"
   ]
  },
  {
   "cell_type": "markdown",
   "metadata": {},
   "source": [
    "## Testing error and Hypothesis Plot"
   ]
  },
  {
   "cell_type": "code",
   "execution_count": 45,
   "metadata": {},
   "outputs": [
    {
     "name": "stdout",
     "output_type": "stream",
     "text": [
      "Test error = 0.1909224070718628\n"
     ]
    },
    {
     "data": {
      "image/png": "[encoded data removed]",
      "text/plain": [
       "<Figure size 432x288 with 1 Axes>"
      ]
     },
     "metadata": {
      "needs_background": "light"
     },
     "output_type": "display_data"
    }
   ],
   "source": [
    "x = np.array(X_test['Feature'])\n",
    "y = np.array(X_test['Output'])\n",
    "\n",
    "test_error = 0\n",
    "plt.figure()\n",
    "plt.scatter(X_test['Feature'], X_test['Output'])\n",
    "y_pred_test=[]\n",
    "for i in range(X_test.shape[0]):\n",
    "    y_pred_test.append(theta0+theta1*x[i])\n",
    "    test_error = test_error + (theta0+theta1*x[i] - y[i])**2\n",
    "test_error = test_error/X_test.shape[0]\n",
    "plt.plot(X_test['Feature'], y_pred_test)\n",
    "print('Test error =', test_error)"
   ]
  },
  {
   "cell_type": "markdown",
   "metadata": {},
   "source": [
    "## Degree 6 Polynomial Training"
   ]
  },
  {
   "cell_type": "code",
   "execution_count": 46,
   "metadata": {},
   "outputs": [],
   "source": [
    "theta0 = 0.5\n",
    "theta1 = 0.5\n",
    "theta2 = 0.5\n",
    "theta3 = 0.5\n",
    "theta4 = 0.5\n",
    "theta5 = 0.5\n",
    "theta6 = 0.5\n",
    "alpha = 0.05\n",
    "\n",
    "x = np.array(X_train['Feature'])\n",
    "x2 = np.array(X_train['Feature'])**2\n",
    "x3 = np.array(X_train['Feature'])**3\n",
    "x4 = np.array(X_train['Feature'])**4\n",
    "x5 = np.array(X_train['Feature'])**5\n",
    "x6 = np.array(X_train['Feature'])**6\n",
    "y = np.array(X_train['Output'])\n",
    "\n",
    "cost_arr = []\n",
    "for run in range(10000):\n",
    "    cost = 0\n",
    "    dtheta0 = 0\n",
    "    dtheta1 = 0\n",
    "    dtheta2 = 0\n",
    "    dtheta3 = 0\n",
    "    dtheta4 = 0\n",
    "    dtheta5 = 0\n",
    "    dtheta6 = 0\n",
    "    for i in range(X_train.shape[0]):\n",
    "        cost = cost + (theta0 + theta1*x[i] +theta2*x2[i] + theta3*x3[i] + theta4*x4[i] + theta5*x5[i] +theta6*x6[i] - y[i])**2\n",
    "        dtheta0 = dtheta0 + (theta0 + theta1*x[i] +theta2*x2[i] + theta3*x3[i] + theta4*x4[i] + theta5*x5[i] +theta6*x6[i] - y[i])\n",
    "        dtheta1 = dtheta1 + (theta0 + theta1*x[i] +theta2*x2[i] + theta3*x3[i] + theta4*x4[i] + theta5*x5[i] +theta6*x6[i] - y[i])*x[i]\n",
    "        dtheta2 = dtheta2 + (theta0 + theta1*x[i] +theta2*x2[i] + theta3*x3[i] + theta4*x4[i] + theta5*x5[i] +theta6*x6[i] - y[i])*x2[i]\n",
    "        dtheta3 = dtheta3 + (theta0 + theta1*x[i] +theta2*x2[i] + theta3*x3[i] + theta4*x4[i] + theta5*x5[i] +theta6*x6[i] - y[i])*x3[i]\n",
    "        dtheta4 = dtheta4 + (theta0 + theta1*x[i] +theta2*x2[i] + theta3*x3[i] + theta4*x4[i] + theta5*x5[i] +theta6*x6[i] - y[i])*x4[i]\n",
    "        dtheta5 = dtheta5 + (theta0 + theta1*x[i] +theta2*x2[i] + theta3*x3[i] + theta4*x4[i] + theta5*x5[i] +theta6*x6[i] - y[i])*x5[i]\n",
    "        dtheta6 = dtheta6 + (theta0 + theta1*x[i] +theta2*x2[i] + theta3*x3[i] + theta4*x4[i] + theta5*x5[i] +theta6*x6[i] - y[i])*x6[i]\n",
    "        \n",
    "    cost = cost + lamba*(theta0**2 +theta1**2 + theta2**2 +theta3**2 + theta4**2 +theta5**2 + theta6**2)    \n",
    "    cost = cost / (2*X_train.shape[0])\n",
    "    \n",
    "    dtheta0 = dtheta0 + lamba * theta0\n",
    "    dtheta1 = dtheta1 + lamba * theta1\n",
    "    dtheta2 = dtheta2 + lamba * theta2\n",
    "    dtheta3 = dtheta3 + lamba * theta3\n",
    "    dtheta4 = dtheta4 + lamba * theta4\n",
    "    dtheta5 = dtheta5 + lamba * theta5\n",
    "    dtheta6 = dtheta6 + lamba * theta6\n",
    "    \n",
    "    dtheta0 = dtheta0 / X_train.shape[0]\n",
    "    dtheta1 = dtheta1 / X_train.shape[0]\n",
    "    dtheta2 = dtheta2 / X_train.shape[0]\n",
    "    dtheta3 = dtheta3 / X_train.shape[0]\n",
    "    dtheta4 = dtheta4 / X_train.shape[0]\n",
    "    dtheta5 = dtheta5 / X_train.shape[0]\n",
    "    dtheta6 = dtheta6 / X_train.shape[0]\n",
    "\n",
    "    cost_arr.append(cost)\n",
    "    \n",
    "    \n",
    "    theta0 = theta0 - alpha*dtheta0\n",
    "    theta1 = theta1 - alpha*dtheta1    \n",
    "    theta2 = theta2 - alpha*dtheta2    \n",
    "    theta3 = theta3 - alpha*dtheta3 \n",
    "    theta4 = theta4 - alpha*dtheta4 \n",
    "    theta5 = theta5 - alpha*dtheta5 \n",
    "    theta6 = theta6 - alpha*dtheta6"
   ]
  },
  {
   "cell_type": "markdown",
   "metadata": {},
   "source": [
    "## Cost function vs No. of Iteration"
   ]
  },
  {
   "cell_type": "code",
   "execution_count": 47,
   "metadata": {},
   "outputs": [
    {
     "data": {
      "text/plain": [
       "[<matplotlib.lines.Line2D at 0x1b704ec1240>]"
      ]
     },
     "execution_count": 47,
     "metadata": {},
     "output_type": "execute_result"
    },
    {
     "data": {
      "image/png": "[encoded data removed]",
      "text/plain": [
       "<Figure size 432x288 with 1 Axes>"
      ]
     },
     "metadata": {
      "needs_background": "light"
     },
     "output_type": "display_data"
    }
   ],
   "source": [
    "plt.figure()\n",
    "plt.plot(range(len(cost_arr)), cost_arr)"
   ]
  },
  {
   "cell_type": "code",
   "execution_count": 48,
   "metadata": {},
   "outputs": [
    {
     "data": {
      "text/plain": [
       "<matplotlib.collections.PathCollection at 0x1b704deee48>"
      ]
     },
     "execution_count": 48,
     "metadata": {},
     "output_type": "execute_result"
    },
    {
     "data": {
      "image/png": "[encoded data removed]",
      "text/plain": [
       "<Figure size 432x288 with 1 Axes>"
      ]
     },
     "metadata": {
      "needs_background": "light"
     },
     "output_type": "display_data"
    }
   ],
   "source": [
    "plt.figure()\n",
    "plt.scatter(X_train['Feature'], X_train['Output'])\n",
    "y_pred=[]\n",
    "for i in range(X_train.shape[0]):\n",
    "    y_pred.append(theta0 + theta1*x[i] +theta2*x2[i] + theta3*x3[i] + theta4*x4[i] + theta5*x5[i] +theta6*x6[i])\n",
    "\n",
    "plt.scatter(X_train['Feature'], y_pred)"
   ]
  },
  {
   "cell_type": "markdown",
   "metadata": {},
   "source": [
    "## Training error and Hypothesis Plot"
   ]
  },
  {
   "cell_type": "code",
   "execution_count": 49,
   "metadata": {},
   "outputs": [
    {
     "name": "stdout",
     "output_type": "stream",
     "text": [
      "Train error = 0.07753055549435169\n"
     ]
    },
    {
     "data": {
      "image/png": "[encoded data removed]",
      "text/plain": [
       "<Figure size 432x288 with 1 Axes>"
      ]
     },
     "metadata": {
      "needs_background": "light"
     },
     "output_type": "display_data"
    }
   ],
   "source": [
    "x = np.array(X_train['Feature'])\n",
    "x2 = np.array(X_train['Feature'])**2\n",
    "x3 = np.array(X_train['Feature'])**3\n",
    "x4 = np.array(X_train['Feature'])**4\n",
    "x5 = np.array(X_train['Feature'])**5\n",
    "x6 = np.array(X_train['Feature'])**6\n",
    "\n",
    "y = np.array(X_train['Output'])\n",
    "\n",
    "train_error = 0\n",
    "plt.figure()\n",
    "plt.scatter(X_train['Feature'], X_train['Output'])\n",
    "y_pred_train=[]\n",
    "for i in range(X_train.shape[0]):\n",
    "    y_pred_train.append(theta0 + theta1*x[i] +theta2*x2[i] + theta3*x3[i] + theta4*x4[i] + theta5*x5[i] +theta6*x6[i])\n",
    "    train_error = train_error + (theta0 + theta1*x[i] +theta2*x2[i] + theta3*x3[i] + theta4*x4[i] + theta5*x5[i] +theta6*x6[i]- y[i])**2\n",
    "train_error = train_error/X_train.shape[0]\n",
    "plt.scatter(X_train['Feature'], y_pred_train)\n",
    "list_train_err.append(train_error)\n",
    "print('Train error =', train_error)"
   ]
  },
  {
   "cell_type": "markdown",
   "metadata": {},
   "source": [
    "## Testing error and Hypothesis Plot"
   ]
  },
  {
   "cell_type": "code",
   "execution_count": 50,
   "metadata": {},
   "outputs": [
    {
     "name": "stdout",
     "output_type": "stream",
     "text": [
      "Test error = 0.081230001741069\n"
     ]
    },
    {
     "data": {
      "image/png": "[encoded data removed]",
      "text/plain": [
       "<Figure size 432x288 with 1 Axes>"
      ]
     },
     "metadata": {
      "needs_background": "light"
     },
     "output_type": "display_data"
    }
   ],
   "source": [
    "x = np.array(X_test['Feature'])\n",
    "x2 = np.array(X_test['Feature'])**2\n",
    "x3 = np.array(X_test['Feature'])**3\n",
    "x4 = np.array(X_test['Feature'])**4\n",
    "x5 = np.array(X_test['Feature'])**5\n",
    "x6 = np.array(X_test['Feature'])**6\n",
    "y = np.array(X_test['Output'])\n",
    "\n",
    "test_error = 0\n",
    "plt.figure()\n",
    "plt.scatter(X_test['Feature'], X_test['Output'])\n",
    "y_pred_test=[]\n",
    "for i in range(X_test.shape[0]):\n",
    "    y_pred_test.append(theta0 + theta1*x[i] +theta2*x2[i] + theta3*x3[i] + theta4*x4[i] + theta5*x5[i] +theta6*x6[i])\n",
    "    test_error = test_error + (theta0 + theta1*x[i] +theta2*x2[i] + theta3*x3[i] + theta4*x4[i] + theta5*x5[i] +theta6*x6[i]- y[i])**2\n",
    "test_error = test_error/X_test.shape[0]\n",
    "plt.scatter(X_test['Feature'], y_pred_test)\n",
    "list_test_err.append(test_error)\n",
    "print('Test error =', test_error)"
   ]
  },
  {
   "cell_type": "markdown",
   "metadata": {},
   "source": [
    "\n",
    "# Degree 7 Polynomial Training\n"
   ]
  },
  {
   "cell_type": "code",
   "execution_count": 51,
   "metadata": {},
   "outputs": [],
   "source": [
    "theta0 = 0.5\n",
    "theta1 = 0.5\n",
    "theta2 = 0.5\n",
    "theta3 = 0.5\n",
    "theta4 = 0.5\n",
    "theta5 = 0.5\n",
    "theta6 = 0.5\n",
    "theta7 = 0.5\n",
    "\n",
    "alpha = 0.05\n",
    "\n",
    "x = np.array(X_train['Feature'])\n",
    "x2 = np.array(X_train['Feature'])**2\n",
    "x3 = np.array(X_train['Feature'])**3\n",
    "x4 = np.array(X_train['Feature'])**4\n",
    "x5 = np.array(X_train['Feature'])**5\n",
    "x6 = np.array(X_train['Feature'])**6\n",
    "x7 = np.array(X_train['Feature'])**7\n",
    "\n",
    "y = np.array(X_train['Output'])\n",
    "\n",
    "cost_arr = []\n",
    "for run in range(10000):\n",
    "    cost = 0\n",
    "    dtheta0 = 0\n",
    "    dtheta1 = 0\n",
    "    dtheta2 = 0\n",
    "    dtheta3 = 0\n",
    "    dtheta4 = 0\n",
    "    dtheta5 = 0\n",
    "    dtheta6 = 0\n",
    "    dtheta7 = 0\n",
    "\n",
    "    for i in range(X_train.shape[0]):\n",
    "        cost = cost + (theta0 + theta1*x[i] +theta2*x2[i] + theta3*x3[i] + theta4*x4[i] + theta5*x5[i] +theta6*x6[i]+theta7*x7[i] - y[i])**2\n",
    "        dtheta0 = dtheta0 + (theta0 + theta1*x[i] +theta2*x2[i] + theta3*x3[i] + theta4*x4[i] + theta5*x5[i] +theta6*x6[i]+theta7*x7[i] - y[i])\n",
    "        dtheta1 = dtheta1 + (theta0 + theta1*x[i] +theta2*x2[i] + theta3*x3[i] + theta4*x4[i] + theta5*x5[i] +theta6*x6[i]+theta7*x7[i] - y[i])*x[i]\n",
    "        dtheta2 = dtheta2 + (theta0 + theta1*x[i] +theta2*x2[i] + theta3*x3[i] + theta4*x4[i] + theta5*x5[i] +theta6*x6[i]+theta7*x7[i] - y[i])*x2[i]\n",
    "        dtheta3 = dtheta3 + (theta0 + theta1*x[i] +theta2*x2[i] + theta3*x3[i] + theta4*x4[i] + theta5*x5[i] +theta6*x6[i]+theta7*x7[i] - y[i])*x3[i]\n",
    "        dtheta4 = dtheta4 + (theta0 + theta1*x[i] +theta2*x2[i] + theta3*x3[i] + theta4*x4[i] + theta5*x5[i] +theta6*x6[i]+theta7*x7[i] - y[i])*x4[i]\n",
    "        dtheta5 = dtheta5 + (theta0 + theta1*x[i] +theta2*x2[i] + theta3*x3[i] + theta4*x4[i] + theta5*x5[i] +theta6*x6[i]+theta7*x7[i] - y[i])*x5[i]\n",
    "        dtheta6 = dtheta6 + (theta0 + theta1*x[i] +theta2*x2[i] + theta3*x3[i] + theta4*x4[i] + theta5*x5[i] +theta6*x6[i]+theta7*x7[i] - y[i])*x6[i]\n",
    "        dtheta7 = dtheta7 + (theta0 + theta1*x[i] +theta2*x2[i] + theta3*x3[i] + theta4*x4[i] + theta5*x5[i] +theta6*x6[i]+theta7*x7[i] - y[i])*x7[i]\n",
    "      \n",
    "    cost = cost + lamba*(theta0**2 +theta1**2 + theta2**2 +theta3**2 + theta4**2 +theta5**2 + theta6**2+theta7**2)    \n",
    "    cost = cost / (2*X_train.shape[0])\n",
    "    \n",
    "    dtheta0 = dtheta0 + lamba * theta0\n",
    "    dtheta1 = dtheta1 + lamba * theta1\n",
    "    dtheta2 = dtheta2 + lamba * theta2\n",
    "    dtheta3 = dtheta3 + lamba * theta3\n",
    "    dtheta4 = dtheta4 + lamba * theta4\n",
    "    dtheta5 = dtheta5 + lamba * theta5\n",
    "    dtheta6 = dtheta6 + lamba * theta6\n",
    "    dtheta7 = dtheta7 + lamba * theta7\n",
    "    \n",
    "    dtheta0 = dtheta0 / X_train.shape[0]\n",
    "    dtheta1 = dtheta1 / X_train.shape[0]\n",
    "    dtheta2 = dtheta2 / X_train.shape[0]\n",
    "    dtheta3 = dtheta3 / X_train.shape[0]\n",
    "    dtheta4 = dtheta4 / X_train.shape[0]\n",
    "    dtheta5 = dtheta5 / X_train.shape[0]\n",
    "    dtheta6 = dtheta6 / X_train.shape[0]\n",
    "    dtheta7 = dtheta7 / X_train.shape[0]\n",
    "\n",
    "    cost_arr.append(cost)\n",
    "    \n",
    "    \n",
    "    theta0 = theta0 - alpha*dtheta0\n",
    "    theta1 = theta1 - alpha*dtheta1    \n",
    "    theta2 = theta2 - alpha*dtheta2    \n",
    "    theta3 = theta3 - alpha*dtheta3 \n",
    "    theta4 = theta4 - alpha*dtheta4 \n",
    "    theta5 = theta5 - alpha*dtheta5 \n",
    "    theta6 = theta6 - alpha*dtheta6\n",
    "    theta7 = theta7 - alpha*dtheta7"
   ]
  },
  {
   "cell_type": "markdown",
   "metadata": {},
   "source": [
    "# Cost function vs No. of Iteration\n"
   ]
  },
  {
   "cell_type": "code",
   "execution_count": 52,
   "metadata": {},
   "outputs": [
    {
     "data": {
      "text/plain": [
       "[<matplotlib.lines.Line2D at 0x1b704fee2b0>]"
      ]
     },
     "execution_count": 52,
     "metadata": {},
     "output_type": "execute_result"
    },
    {
     "data": {
      "image/png": "[encoded data removed]",
      "text/plain": [
       "<Figure size 432x288 with 1 Axes>"
      ]
     },
     "metadata": {
      "needs_background": "light"
     },
     "output_type": "display_data"
    }
   ],
   "source": [
    "plt.figure()\n",
    "plt.plot(range(len(cost_arr)), cost_arr)"
   ]
  },
  {
   "cell_type": "code",
   "execution_count": 53,
   "metadata": {},
   "outputs": [
    {
     "data": {
      "text/plain": [
       "<matplotlib.collections.PathCollection at 0x1b70602ba90>"
      ]
     },
     "execution_count": 53,
     "metadata": {},
     "output_type": "execute_result"
    },
    {
     "data": {
      "image/png": "[encoded data removed]",
      "text/plain": [
       "<Figure size 432x288 with 1 Axes>"
      ]
     },
     "metadata": {
      "needs_background": "light"
     },
     "output_type": "display_data"
    }
   ],
   "source": [
    "plt.figure()\n",
    "plt.scatter(X_train['Feature'], X_train['Output'])\n",
    "y_pred=[]\n",
    "for i in range(X_train.shape[0]):\n",
    "    y_pred.append(theta0 + theta1*x[i] +theta2*x2[i] + theta3*x3[i] + theta4*x4[i] + theta5*x5[i] +theta6*x6[i]+theta7*x7[i])\n",
    "\n",
    "plt.scatter(X_train['Feature'], y_pred)"
   ]
  },
  {
   "cell_type": "markdown",
   "metadata": {},
   "source": [
    "## Training error and Hypothesis Plot"
   ]
  },
  {
   "cell_type": "code",
   "execution_count": 54,
   "metadata": {},
   "outputs": [
    {
     "name": "stdout",
     "output_type": "stream",
     "text": [
      "Train error = 0.06803025579506189\n"
     ]
    },
    {
     "data": {
      "image/png": "[encoded data removed]",
      "text/plain": [
       "<Figure size 432x288 with 1 Axes>"
      ]
     },
     "metadata": {
      "needs_background": "light"
     },
     "output_type": "display_data"
    }
   ],
   "source": [
    "x = np.array(X_train['Feature'])\n",
    "x2 = np.array(X_train['Feature'])**2\n",
    "x3 = np.array(X_train['Feature'])**3\n",
    "x4 = np.array(X_train['Feature'])**4\n",
    "x5 = np.array(X_train['Feature'])**5\n",
    "x6 = np.array(X_train['Feature'])**6\n",
    "x7 = np.array(X_train['Feature'])**7\n",
    "\n",
    "\n",
    "y = np.array(X_train['Output'])\n",
    "\n",
    "train_error = 0\n",
    "plt.figure()\n",
    "plt.scatter(X_train['Feature'], X_train['Output'])\n",
    "y_pred_train=[]\n",
    "for i in range(X_train.shape[0]):\n",
    "    y_pred_train.append(theta0 + theta1*x[i] +theta2*x2[i] + theta3*x3[i] + theta4*x4[i] + theta5*x5[i] +theta6*x6[i] +theta7*x7[i])\n",
    "    train_error = train_error + (theta0 + theta1*x[i] +theta2*x2[i] + theta3*x3[i] + theta4*x4[i] + theta5*x5[i] +theta6*x6[i]+theta7*x7[i]- y[i])**2\n",
    "train_error = train_error/X_train.shape[0]\n",
    "plt.scatter(X_train['Feature'], y_pred_train)\n",
    "list_train_err.append(train_error)\n",
    "print('Train error =', train_error)"
   ]
  },
  {
   "cell_type": "markdown",
   "metadata": {},
   "source": [
    "## Testing error and Hypothesis Plot"
   ]
  },
  {
   "cell_type": "code",
   "execution_count": 55,
   "metadata": {},
   "outputs": [
    {
     "name": "stdout",
     "output_type": "stream",
     "text": [
      "Test error = 0.07184093915145913\n"
     ]
    },
    {
     "data": {
      "image/png": "[encoded data removed]",
      "text/plain": [
       "<Figure size 432x288 with 1 Axes>"
      ]
     },
     "metadata": {
      "needs_background": "light"
     },
     "output_type": "display_data"
    }
   ],
   "source": [
    "x = np.array(X_test['Feature'])\n",
    "x2 = np.array(X_test['Feature'])**2\n",
    "x3 = np.array(X_test['Feature'])**3\n",
    "x4 = np.array(X_test['Feature'])**4\n",
    "x5 = np.array(X_test['Feature'])**5\n",
    "x6 = np.array(X_test['Feature'])**6\n",
    "x7 = np.array(X_test['Feature'])**7\n",
    "y = np.array(X_test['Output'])\n",
    "\n",
    "test_error = 0\n",
    "plt.figure()\n",
    "plt.scatter(X_test['Feature'], X_test['Output'])\n",
    "y_pred_test=[]\n",
    "for i in range(X_test.shape[0]):\n",
    "    y_pred_test.append(theta0 + theta1*x[i] +theta2*x2[i] + theta3*x3[i] + theta4*x4[i] + theta5*x5[i] +theta6*x6[i] +theta7*x7[i])\n",
    "    test_error = test_error + (theta0 + theta1*x[i] +theta2*x2[i] + theta3*x3[i] + theta4*x4[i] + theta5*x5[i] +theta6*x6[i]+theta7*x7[i]- y[i])**2\n",
    "test_error = test_error/X_test.shape[0]\n",
    "plt.scatter(X_test['Feature'], y_pred_test)\n",
    "list_test_err.append(test_error)\n",
    "print('Test error =', test_error)"
   ]
  },
  {
   "cell_type": "markdown",
   "metadata": {},
   "source": [
    "# Degree 8 Polynomial Training\n"
   ]
  },
  {
   "cell_type": "code",
   "execution_count": 56,
   "metadata": {},
   "outputs": [
    {
     "ename": "IndentationError",
     "evalue": "unexpected indent (<ipython-input-56-da142cc9f12c>, line 56)",
     "output_type": "error",
     "traceback": [
      "\u001b[1;36m  File \u001b[1;32m\"<ipython-input-56-da142cc9f12c>\"\u001b[1;36m, line \u001b[1;32m56\u001b[0m\n\u001b[1;33m    dtheta1 = dtheta1 + lamba * theta1\u001b[0m\n\u001b[1;37m    ^\u001b[0m\n\u001b[1;31mIndentationError\u001b[0m\u001b[1;31m:\u001b[0m unexpected indent\n"
     ]
    }
   ],
   "source": [
    "theta0 = 0.5\n",
    "theta1 = 0.5\n",
    "theta2 = 0.5\n",
    "theta3 = 0.5\n",
    "theta4 = 0.5\n",
    "theta5 = 0.5\n",
    "theta6 = 0.5\n",
    "theta7 = 0.5\n",
    "theta8 = 0.5\n",
    "\n",
    "\n",
    "alpha = 0.05\n",
    "\n",
    "x = np.array(X_train['Feature'])\n",
    "x2 = np.array(X_train['Feature'])**2\n",
    "x3 = np.array(X_train['Feature'])**3\n",
    "x4 = np.array(X_train['Feature'])**4\n",
    "x5 = np.array(X_train['Feature'])**5\n",
    "x6 = np.array(X_train['Feature'])**6\n",
    "x7 = np.array(X_train['Feature'])**7\n",
    "x8 = np.array(X_train['Feature'])**8\n",
    "\n",
    "\n",
    "y = np.array(X_train['Output'])\n",
    "\n",
    "cost_arr = []\n",
    "for run in range(10000):\n",
    "    cost = 0\n",
    "    dtheta0 = 0\n",
    "    dtheta1 = 0\n",
    "    dtheta2 = 0\n",
    "    dtheta3 = 0\n",
    "    dtheta4 = 0\n",
    "    dtheta5 = 0\n",
    "    dtheta6 = 0\n",
    "    dtheta7 = 0\n",
    "    dtheta8 = 0\n",
    "\n",
    "    for i in range(X_train.shape[0]):\n",
    "        cost = cost + (theta0 + theta1*x[i] +theta2*x2[i] + theta3*x3[i] + theta4*x4[i] + theta5*x5[i] +theta6*x6[i]+theta7*x7[i]+theta8*x8[i] - y[i])**2\n",
    "        dtheta0 = dtheta0 + (theta0 + theta1*x[i] +theta2*x2[i] + theta3*x3[i] + theta4*x4[i] + theta5*x5[i] +theta6*x6[i]+theta7*x7[i]+theta8*x8[i] - y[i])\n",
    "        dtheta1 = dtheta1 + (theta0 + theta1*x[i] +theta2*x2[i] + theta3*x3[i] + theta4*x4[i] + theta5*x5[i] +theta6*x6[i]+theta7*x7[i]+theta8*x8[i] - y[i])*x[i]\n",
    "        dtheta2 = dtheta2 + (theta0 + theta1*x[i] +theta2*x2[i] + theta3*x3[i] + theta4*x4[i] + theta5*x5[i] +theta6*x6[i]+theta7*x7[i]+theta8*x8[i] - y[i])*x2[i]\n",
    "        dtheta3 = dtheta3 + (theta0 + theta1*x[i] +theta2*x2[i] + theta3*x3[i] + theta4*x4[i] + theta5*x5[i] +theta6*x6[i]+theta7*x7[i]+theta8*x8[i] - y[i])*x3[i]\n",
    "        dtheta4 = dtheta4 + (theta0 + theta1*x[i] +theta2*x2[i] + theta3*x3[i] + theta4*x4[i] + theta5*x5[i] +theta6*x6[i]+theta7*x7[i]+theta8*x8[i] - y[i])*x4[i]\n",
    "        dtheta5 = dtheta5 + (theta0 + theta1*x[i] +theta2*x2[i] + theta3*x3[i] + theta4*x4[i] + theta5*x5[i] +theta6*x6[i]+theta7*x7[i]+theta8*x8[i] - y[i])*x5[i]\n",
    "        dtheta6 = dtheta6 + (theta0 + theta1*x[i] +theta2*x2[i] + theta3*x3[i] + theta4*x4[i] + theta5*x5[i] +theta6*x6[i]+theta7*x7[i]+theta8*x8[i] - y[i])*x6[i]\n",
    "        dtheta7 = dtheta7 + (theta0 + theta1*x[i] +theta2*x2[i] + theta3*x3[i] + theta4*x4[i] + theta5*x5[i] +theta6*x6[i]+theta7*x7[i]+theta8*x8[i] - y[i])*x7[i]\n",
    "        dtheta8 = dtheta8 + (theta0 + theta1*x[i] +theta2*x2[i] + theta3*x3[i] + theta4*x4[i] + theta5*x5[i] +theta6*x6[i]+theta7*x7[i]+theta8*x8[i] - y[i])*x8[i]\n",
    "\n",
    "    cost = cost + lamba*(theta0**2 +theta1**2 + theta2**2 +theta3**2 + theta4**2 +theta5**2 + theta6**2+theta7**2+theta8**2)    \n",
    "    cost = cost / (2*X_train.shape[0])\n",
    "    \n",
    "    dtheta0 = dtheta0 + lamba * theta0\n",
    "    dtheta1 = dtheta1 + lamba * theta1\n",
    "    dtheta2 = dtheta2 + lamba * theta2\n",
    "    dtheta3 = dtheta3 + lamba * theta3\n",
    "    dtheta4 = dtheta4 + lamba * theta4\n",
    "    dtheta5 = dtheta5 + lamba * theta5\n",
    "    dtheta6 = dtheta6 + lamba * theta6\n",
    "    dtheta7 = dtheta7 + lamba * theta7\n",
    "    dtheta8 = dtheta8 + lamba * theta8\n",
    "    \n",
    "    dtheta0 = dtheta0 / X_train.shape[0]\n",
    "    dtheta1 = dtheta1 / X_train.shape[0]\n",
    "    dtheta2 = dtheta2 / X_train.shape[0]\n",
    "    dtheta3 = dtheta3 / X_train.shape[0]\n",
    "    dtheta4 = dtheta4 / X_train.shape[0]\n",
    "    dtheta5 = dtheta5 / X_train.shape[0]\n",
    "    dtheta6 = dtheta6 / X_train.shape[0]\n",
    "    dtheta7 = dtheta7 / X_train.shape[0]\n",
    "    dtheta8 = dtheta8 / X_train.shape[0]\n",
    "\n",
    "    cost_arr.append(cost)\n",
    "    \n",
    "    \n",
    "    theta0 = theta0 - alpha*dtheta0\n",
    "    theta1 = theta1 - alpha*dtheta1    \n",
    "    theta2 = theta2 - alpha*dtheta2    \n",
    "    theta3 = theta3 - alpha*dtheta3 \n",
    "    theta4 = theta4 - alpha*dtheta4 \n",
    "    theta5 = theta5 - alpha*dtheta5 \n",
    "    theta6 = theta6 - alpha*dtheta6\n",
    "    theta7 = theta7 - alpha*dtheta7\n",
    "    theta8 = theta8 - alpha*dtheta8"
   ]
  },
  {
   "cell_type": "markdown",
   "metadata": {},
   "source": [
    "# Cost function vs No. of Iteration\n"
   ]
  },
  {
   "cell_type": "code",
   "execution_count": null,
   "metadata": {},
   "outputs": [],
   "source": [
    "plt.figure()\n",
    "plt.plot(range(len(cost_arr)), cost_arr)"
   ]
  },
  {
   "cell_type": "code",
   "execution_count": null,
   "metadata": {},
   "outputs": [],
   "source": [
    "plt.figure()\n",
    "plt.scatter(X_train['Feature'], X_train['Output'])\n",
    "y_pred=[]\n",
    "for i in range(X_train.shape[0]):\n",
    "    y_pred.append(theta0 + theta1*x[i] +theta2*x2[i] + theta3*x3[i] + theta4*x4[i] + theta5*x5[i] +theta6*x6[i]+theta7*x7[i] +theta8*x8[i])\n",
    "\n",
    "plt.scatter(X_train['Feature'], y_pred)"
   ]
  },
  {
   "cell_type": "markdown",
   "metadata": {},
   "source": [
    "## Training error and Hypothesis Plot"
   ]
  },
  {
   "cell_type": "code",
   "execution_count": null,
   "metadata": {},
   "outputs": [],
   "source": [
    "x = np.array(X_train['Feature'])\n",
    "x2 = np.array(X_train['Feature'])**2\n",
    "x3 = np.array(X_train['Feature'])**3\n",
    "x4 = np.array(X_train['Feature'])**4\n",
    "x5 = np.array(X_train['Feature'])**5\n",
    "x6 = np.array(X_train['Feature'])**6\n",
    "x7 = np.array(X_train['Feature'])**7\n",
    "x8 = np.array(X_train['Feature'])**8\n",
    "\n",
    "y = np.array(X_train['Output'])\n",
    "\n",
    "train_error = 0\n",
    "plt.figure()\n",
    "plt.scatter(X_train['Feature'], X_train['Output'])\n",
    "y_pred_train=[]\n",
    "for i in range(X_train.shape[0]):\n",
    "    y_pred_train.append(theta0 + theta1*x[i] +theta2*x2[i] + theta3*x3[i] + theta4*x4[i] + theta5*x5[i] +theta6*x6[i] +theta7*x7[i] +theta8*x8[i])\n",
    "    train_error = train_error + (theta0 + theta1*x[i] +theta2*x2[i] + theta3*x3[i] + theta4*x4[i] + theta5*x5[i] +theta6*x6[i]+theta7*x7[i]+theta8*x8[i]- y[i])**2\n",
    "train_error = train_error/X_train.shape[0]\n",
    "plt.scatter(X_train['Feature'], y_pred_train)\n",
    "list_train_err.append(train_error)\n",
    "print('Train error =', train_error)"
   ]
  },
  {
   "cell_type": "markdown",
   "metadata": {},
   "source": [
    "## Testing error and Hypothesis Plot"
   ]
  },
  {
   "cell_type": "code",
   "execution_count": null,
   "metadata": {},
   "outputs": [],
   "source": [
    "x = np.array(X_test['Feature'])\n",
    "x2 = np.array(X_test['Feature'])**2\n",
    "x3 = np.array(X_test['Feature'])**3\n",
    "x4 = np.array(X_test['Feature'])**4\n",
    "x5 = np.array(X_test['Feature'])**5\n",
    "x6 = np.array(X_test['Feature'])**6\n",
    "x7 = np.array(X_test['Feature'])**7\n",
    "x8 = np.array(X_test['Feature'])**8\n",
    "y = np.array(X_test['Output'])\n",
    "\n",
    "test_error = 0\n",
    "plt.figure()\n",
    "plt.scatter(X_test['Feature'], X_test['Output'])\n",
    "y_pred_test=[]\n",
    "for i in range(X_test.shape[0]):\n",
    "    y_pred_test.append(theta0 + theta1*x[i] +theta2*x2[i] + theta3*x3[i] + theta4*x4[i] + theta5*x5[i] +theta6*x6[i] +theta7*x7[i] +theta8*x8[i])\n",
    "    test_error = test_error + (theta0 + theta1*x[i] +theta2*x2[i] + theta3*x3[i] + theta4*x4[i] + theta5*x5[i] +theta6*x6[i]+theta7*x7[i]+theta8*x8[i]- y[i])**2\n",
    "test_error = test_error/X_test.shape[0]\n",
    "plt.scatter(X_test['Feature'], y_pred_test)\n",
    "list_test_err.append(test_error)\n",
    "print('Test error =', test_error)"
   ]
  },
  {
   "cell_type": "markdown",
   "metadata": {},
   "source": [
    "# Degree 9 Polynomial Training\n"
   ]
  },
  {
   "cell_type": "code",
   "execution_count": null,
   "metadata": {},
   "outputs": [],
   "source": [
    "theta0 = 0.5\n",
    "theta1 = 0.5\n",
    "theta2 = 0.5\n",
    "theta3 = 0.5\n",
    "theta4 = 0.5\n",
    "theta5 = 0.5\n",
    "theta6 = 0.5\n",
    "theta7 = 0.5\n",
    "theta8 = 0.5\n",
    "theta9 = 0.5\n",
    "\n",
    "\n",
    "alpha = 0.05\n",
    "\n",
    "x = np.array(X_train['Feature'])\n",
    "x2 = np.array(X_train['Feature'])**2\n",
    "x3 = np.array(X_train['Feature'])**3\n",
    "x4 = np.array(X_\n",
    "              train['Feature'])**4\n",
    "x5 = np.array(X_train['Feature'])**5\n",
    "x6 = np.array(X_train['Feature'])**6\n",
    "x7 = np.array(X_train['Feature'])**7\n",
    "x8 = np.array(X_train['Feature'])**8\n",
    "x9 = np.array(X_train['Feature'])**9\n",
    "\n",
    "\n",
    "y = np.array(X_train['Output'])\n",
    "\n",
    "cost_arr = []\n",
    "for run in range(10000):\n",
    "    cost = 0\n",
    "    dtheta0 = 0\n",
    "    dtheta1 = 0\n",
    "    dtheta2 = 0\n",
    "    dtheta3 = 0\n",
    "    dtheta4 = 0\n",
    "    dtheta5 = 0\n",
    "    dtheta6 = 0\n",
    "    dtheta7 = 0\n",
    "    dtheta8 = 0\n",
    "    dtheta9 = 0\n",
    "\n",
    "    for i in range(X_train.shape[0]):\n",
    "        cost = cost + (theta0 + theta1*x[i] +theta2*x2[i] + theta3*x3[i] + theta4*x4[i] + theta5*x5[i] +theta6*x6[i]+theta7*x7[i]+theta8*x8[i]+theta9*x9[i] - y[i])**2\n",
    "        dtheta0 = dtheta0 + (theta0 + theta1*x[i] +theta2*x2[i] + theta3*x3[i] + theta4*x4[i] + theta5*x5[i] +theta6*x6[i]+theta7*x7[i]+theta8*x8[i]+theta9*x9[i] - y[i])\n",
    "        dtheta1 = dtheta1 + (theta0 + theta1*x[i] +theta2*x2[i] + theta3*x3[i] + theta4*x4[i] + theta5*x5[i] +theta6*x6[i]+theta7*x7[i]+theta8*x8[i] +theta9*x9[i]- y[i])*x[i]\n",
    "        dtheta2 = dtheta2 + (theta0 + theta1*x[i] +theta2*x2[i] + theta3*x3[i] + theta4*x4[i] + theta5*x5[i] +theta6*x6[i]+theta7*x7[i]+theta8*x8[i]+theta9*x9[i] - y[i])*x2[i]\n",
    "        dtheta3 = dtheta3 + (theta0 + theta1*x[i] +theta2*x2[i] + theta3*x3[i] + theta4*x4[i] + theta5*x5[i] +theta6*x6[i]+theta7*x7[i]+theta8*x8[i]+theta9*x9[i] - y[i])*x3[i]\n",
    "        dtheta4 = dtheta4 + (theta0 + theta1*x[i] +theta2*x2[i] + theta3*x3[i] + theta4*x4[i] + theta5*x5[i] +theta6*x6[i]+theta7*x7[i]+theta8*x8[i]+theta9*x9[i] - y[i])*x4[i]\n",
    "        dtheta5 = dtheta5 + (theta0 + theta1*x[i] +theta2*x2[i] + theta3*x3[i] + theta4*x4[i] + theta5*x5[i] +theta6*x6[i]+theta7*x7[i]+theta8*x8[i]+theta9*x9[i] - y[i])*x5[i]\n",
    "        dtheta6 = dtheta6 + (theta0 + theta1*x[i] +theta2*x2[i] + theta3*x3[i] + theta4*x4[i] + theta5*x5[i] +theta6*x6[i]+theta7*x7[i]+theta8*x8[i]+theta9*x9[i] - y[i])*x6[i]\n",
    "        dtheta7 = dtheta7 + (theta0 + theta1*x[i] +theta2*x2[i] + theta3*x3[i] + theta4*x4[i] + theta5*x5[i] +theta6*x6[i]+theta7*x7[i]+theta8*x8[i] +theta9*x9[i]- y[i])*x7[i]\n",
    "        dtheta8 = dtheta8 + (theta0 + theta1*x[i] +theta2*x2[i] + theta3*x3[i] + theta4*x4[i] + theta5*x5[i] +theta6*x6[i]+theta7*x7[i]+theta8*x8[i]+theta9*x9[i] - y[i])*x8[i]\n",
    "        dtheta8 = dtheta8 + (theta0 + theta1*x[i] +theta2*x2[i] + theta3*x3[i] + theta4*x4[i] + theta5*x5[i] +theta6*x6[i]+theta7*x7[i]+theta8*x8[i]+theta9*x9[i] - y[i])*x9[i]\n",
    "\n",
    "    cost = cost + lamba*(theta0**2 +theta1**2 + theta2**2 +theta3**2 + theta4**2 +theta5**2 + theta6**2+theta7**2+theta8**2+theta9**2)    \n",
    "    cost = cost / (2*X_train.shape[0])\n",
    "    \n",
    "    dtheta0 = dtheta0 + lamba * theta0\n",
    "    dtheta1 = dtheta1 + lamba * theta1\n",
    "    dtheta2 = dtheta2 + lamba * theta2\n",
    "    dtheta3 = dtheta3 + lamba * theta3\n",
    "    dtheta4 = dtheta4 + lamba * theta4\n",
    "    dtheta5 = dtheta5 + lamba * theta5\n",
    "    dtheta6 = dtheta6 + lamba * theta6\n",
    "    dtheta7 = dtheta7 + lamba * theta7\n",
    "    dtheta8 = dtheta8 + lamba * theta8\n",
    "    dtheta9 = dtheta9 + lamba * theta9\n",
    "    \n",
    "    dtheta0 = dtheta0 / X_train.shape[0]\n",
    "    dtheta1 = dtheta1 / X_train.shape[0]\n",
    "    dtheta2 = dtheta2 / X_train.shape[0]\n",
    "    dtheta3 = dtheta3 / X_train.shape[0]\n",
    "    dtheta4 = dtheta4 / X_train.shape[0]\n",
    "    dtheta5 = dtheta5 / X_train.shape[0]\n",
    "    dtheta6 = dtheta6 / X_train.shape[0]\n",
    "    dtheta7 = dtheta7 / X_train.shape[0]\n",
    "    dtheta8 = dtheta8 / X_train.shape[0]\n",
    "    dtheta9 = dtheta9 / X_train.shape[0]\n",
    "\n",
    "    cost_arr.append(cost)\n",
    "    \n",
    "    \n",
    "    theta0 = theta0 - alpha*dtheta0\n",
    "    theta1 = theta1 - alpha*dtheta1    \n",
    "    theta2 = theta2 - alpha*dtheta2    \n",
    "    theta3 = theta3 - alpha*dtheta3 \n",
    "    theta4 = theta4 - alpha*dtheta4 \n",
    "    theta5 = theta5 - alpha*dtheta5 \n",
    "    theta6 = theta6 - alpha*dtheta6\n",
    "    theta7 = theta7 - alpha*dtheta7\n",
    "    theta8 = theta8 - alpha*dtheta8\n",
    "    theta9 = theta9 - alpha*dtheta9"
   ]
  },
  {
   "cell_type": "markdown",
   "metadata": {},
   "source": [
    "# Cost function vs No. of Iteration\n"
   ]
  },
  {
   "cell_type": "code",
   "execution_count": null,
   "metadata": {},
   "outputs": [],
   "source": [
    "plt.figure()\n",
    "plt.plot(range(len(cost_arr)), cost_arr)"
   ]
  },
  {
   "cell_type": "code",
   "execution_count": null,
   "metadata": {},
   "outputs": [],
   "source": [
    "plt.figure()\n",
    "plt.scatter(X_train['Feature'], X_train['Output'])\n",
    "y_pred=[]\n",
    "for i in range(X_train.shape[0]):\n",
    "    y_pred.append(theta0 + theta1*x[i] +theta2*x2[i] + theta3*x3[i] + theta4*x4[i] + theta5*x5[i] +theta6*x6[i]+theta7*x7[i] +theta8*x8[i] +theta9*x9[i])\n",
    "\n",
    "plt.scatter(X_train['Feature'], y_pred)"
   ]
  },
  {
   "cell_type": "markdown",
   "metadata": {},
   "source": [
    "## Training error and Hypothesis Plot"
   ]
  },
  {
   "cell_type": "code",
   "execution_count": null,
   "metadata": {},
   "outputs": [],
   "source": [
    "x = np.array(X_train['Feature'])\n",
    "x2 = np.array(X_train['Feature'])**2\n",
    "x3 = np.array(X_train['Feature'])**3\n",
    "x4 = np.array(X_train['Feature'])**4\n",
    "x5 = np.array(X_train['Feature'])**5\n",
    "x6 = np.array(X_train['Feature'])**6\n",
    "x7 = np.array(X_train['Feature'])**7\n",
    "x8 = np.array(X_train['Feature'])**8\n",
    "x9 = np.array(X_train['Feature'])**9\n",
    "\n",
    "y = np.array(X_train['Output'])\n",
    "\n",
    "train_error = 0\n",
    "plt.figure()\n",
    "plt.scatter(X_train['Feature'], X_train['Output'])\n",
    "y_pred_train=[]\n",
    "for i in range(X_train.shape[0]):\n",
    "    y_pred_train.append(theta0 + theta1*x[i] +theta2*x2[i] + theta3*x3[i] + theta4*x4[i] + theta5*x5[i] +theta6*x6[i] +theta7*x7[i] +theta8*x8[i] +theta9*x9[i])\n",
    "    train_error = train_error + (theta0 + theta1*x[i] +theta2*x2[i] + theta3*x3[i] + theta4*x4[i] + theta5*x5[i] +theta6*x6[i]+theta7*x7[i]+theta8*x8[i]+theta9*x9[i]- y[i])**2\n",
    "train_error = train_error/X_train.shape[0]\n",
    "plt.scatter(X_train['Feature'], y_pred_train)\n",
    "list_train_err.append(train_error)\n",
    "print('Train error =', train_error)"
   ]
  },
  {
   "cell_type": "markdown",
   "metadata": {},
   "source": [
    "## Testing error and Hypothesis Plot"
   ]
  },
  {
   "cell_type": "code",
   "execution_count": null,
   "metadata": {},
   "outputs": [],
   "source": [
    "x = np.array(X_test['Feature'])\n",
    "x2 = np.array(X_test['Feature'])**2\n",
    "x3 = np.array(X_test['Feature'])**3\n",
    "x4 = np.array(X_test['Feature'])**4\n",
    "x5 = np.array(X_test['Feature'])**5\n",
    "x6 = np.array(X_test['Feature'])**6\n",
    "x7 = np.array(X_test['Feature'])**7\n",
    "x8 = np.array(X_test['Feature'])**8\n",
    "x9 = np.array(X_test['Feature'])**9\n",
    "\n",
    "y = np.array(X_test['Output'])\n",
    "\n",
    "test_error = 0\n",
    "plt.figure()\n",
    "plt.scatter(X_test['Feature'], X_test['Output'])\n",
    "y_pred_test=[]\n",
    "for i in range(X_test.shape[0]):\n",
    "    y_pred_test.append(theta0 + theta1*x[i] +theta2*x2[i] + theta3*x3[i] + theta4*x4[i] + theta5*x5[i] +theta6*x6[i] +theta7*x7[i] +theta8*x8[i] +theta9*x9[i])\n",
    "    test_error = test_error + (theta0 + theta1*x[i] +theta2*x2[i] + theta3*x3[i] + theta4*x4[i] + theta5*x5[i] +theta6*x6[i]+theta7*x7[i]+theta8*x8[i]+theta9*x9[i]- y[i])**2\n",
    "test_error = test_error/X_test.shape[0]\n",
    "plt.scatter(X_test['Feature'], y_pred_test)\n",
    "list_test_err.append(test_error)\n",
    "print('Test error =', test_error)"
   ]
  },
  {
   "cell_type": "markdown",
   "metadata": {},
   "source": [
    "# 3. Ridge Regularization"
   ]
  },
  {
   "cell_type": "markdown",
   "metadata": {},
   "source": [
    "## Degree 1 Polynomial"
   ]
  },
  {
   "cell_type": "code",
   "execution_count": null,
   "metadata": {},
   "outputs": [],
   "source": [
    "theta0 = 0.5\n",
    "theta1 = 0.5\n",
    "alpha = 0.05\n",
    "lamba = 0.75\n",
    "\n",
    "x = np.array(X_train['Feature'])\n",
    "y = np.array(X_train['Output'])\n",
    "cost_arr = []\n",
    "for run in range(10000):\n",
    "    cost = 0\n",
    "    dtheta0 = 0\n",
    "    dtheta1 = 0\n",
    "    for i in range(X_train.shape[0]):\n",
    "        cost = cost + (theta0 + theta1*x[i] - y[i])**2\n",
    "        dtheta0 = dtheta0 + (theta0 + theta1*x[i] - y[i])\n",
    "        dtheta1 = dtheta1 + (theta0 + theta1*x[i] - y[i])*x[i]\n",
    "        \n",
    "    cost = cost + lamba*(abs(theta0) + abs(theta1))\n",
    "    cost = cost / (2*X_train.shape[0])\n",
    "    dtheta0 = dtheta0 + (lamba/2) * (abs(theta0)/theta0)\n",
    "    dtheta1 = dtheta1 + (lamba/2) * (abs(theta1)/theta1)\n",
    "    dtheta0 = dtheta0 / X_train.shape[0]\n",
    "    dtheta1 = dtheta1 / X_train.shape[0]\n",
    "    cost_arr.append(cost)\n",
    "    \n",
    "    \n",
    "    theta0 = theta0 - alpha*dtheta0\n",
    "    theta1 = theta1 - alpha*dtheta1    "
   ]
  },
  {
   "cell_type": "markdown",
   "metadata": {},
   "source": [
    "## Cost function vs No. of Iteration"
   ]
  },
  {
   "cell_type": "code",
   "execution_count": null,
   "metadata": {},
   "outputs": [],
   "source": [
    "plt.figure()\n",
    "plt.plot(range(len(cost_arr)), cost_arr)"
   ]
  },
  {
   "cell_type": "markdown",
   "metadata": {},
   "source": [
    "## Training error and Hypothesis Plot"
   ]
  },
  {
   "cell_type": "code",
   "execution_count": null,
   "metadata": {},
   "outputs": [],
   "source": [
    "x = np.array(X_train['Feature'])\n",
    "y = np.array(X_train['Output'])\n",
    "\n",
    "train_error = 0\n",
    "plt.figure()\n",
    "plt.scatter(X_train['Feature'], X_train['Output'])\n",
    "y_pred_train=[]\n",
    "for i in range(X_train.shape[0]):\n",
    "    y_pred_train.append(theta0+theta1*x[i])\n",
    "    train_error = train_error + (theta0+theta1*x[i] - y[i])**2\n",
    "train_error = train_error/X_train.shape[0]\n",
    "plt.plot(X_train['Feature'], y_pred_train)\n",
    "print('Train error =', train_error)"
   ]
  },
  {
   "cell_type": "markdown",
   "metadata": {},
   "source": [
    "## Testing error and Hypothesis Plot"
   ]
  },
  {
   "cell_type": "code",
   "execution_count": null,
   "metadata": {},
   "outputs": [],
   "source": [
    "x = np.array(X_test['Feature'])\n",
    "y = np.array(X_test['Output'])\n",
    "\n",
    "test_error = 0\n",
    "plt.figure()\n",
    "plt.scatter(X_test['Feature'], X_test['Output'])\n",
    "y_pred_test=[]\n",
    "for i in range(X_test.shape[0]):\n",
    "    y_pred_test.append(theta0+theta1*x[i])\n",
    "    test_error = test_error + (theta0+theta1*x[i] - y[i])**2\n",
    "test_error = test_error/X_test.shape[0]\n",
    "plt.plot(X_test['Feature'], y_pred_test)\n",
    "print('Test error =', test_error)"
   ]
  },
  {
   "cell_type": "markdown",
   "metadata": {},
   "source": [
    "## Degree 9 Polynomial Training"
   ]
  },
  {
   "cell_type": "code",
   "execution_count": null,
   "metadata": {},
   "outputs": [],
   "source": [
    "theta0 = 0.5\n",
    "theta1 = 0.5\n",
    "theta2 = 0.5\n",
    "theta3 = 0.5\n",
    "theta4 = 0.5\n",
    "theta5 = 0.5\n",
    "theta6 = 0.5\n",
    "theta7 = 0.5\n",
    "theta8 = 0.5\n",
    "theta9 = 0.5\n",
    "alpha = 0.05\n",
    "\n",
    "x = np.array(X_train['Feature'])\n",
    "x2 = np.array(X_train['Feature'])**2\n",
    "x3 = np.array(X_train['Feature'])**3\n",
    "x4 = np.array(X_train['Feature'])**4\n",
    "x5 = np.array(X_train['Feature'])**5\n",
    "x6 = np.array(X_train['Feature'])**6\n",
    "x7 = np.array(X_train['Feature'])**7\n",
    "x8 = np.array(X_train['Feature'])**8\n",
    "x9 = np.array(X_train['Feature'])**9\n",
    "y = np.array(X_train['Output'])\n",
    "\n",
    "cost_arr = []\n",
    "for run in range(10000):\n",
    "    cost = 0\n",
    "    dtheta0 = 0\n",
    "    dtheta1 = 0\n",
    "    dtheta2 = 0\n",
    "    dtheta3 = 0\n",
    "    dtheta4 = 0\n",
    "    dtheta5 = 0\n",
    "    dtheta6 = 0\n",
    "    dtheta7 = 0\n",
    "    dtheta8 = 0\n",
    "    dtheta9 = 0\n",
    "    for i in range(X_train.shape[0]):\n",
    "        cost = cost + (theta0 + theta1*x[i] +theta2*x2[i] + theta3*x3[i] + theta4*x4[i] + theta5*x5[i] +theta6*x6[i]+ theta7*x7[i] + theta8*x8[i] +theta9*x9[i] - y[i])**2\n",
    "        dtheta0 = dtheta0 + (theta0 + theta1*x[i] +theta2*x2[i] + theta3*x3[i] + theta4*x4[i] + theta5*x5[i] +theta6*x6[i]+ theta7*x7[i] + theta8*x8[i] +theta9*x9[i] - y[i])\n",
    "        dtheta1 = dtheta1 + (theta0 + theta1*x[i] +theta2*x2[i] + theta3*x3[i] + theta4*x4[i] + theta5*x5[i] +theta6*x6[i]+ theta7*x7[i] + theta8*x8[i] +theta9*x9[i] - y[i])*x[i]\n",
    "        dtheta2 = dtheta2 + (theta0 + theta1*x[i] +theta2*x2[i] + theta3*x3[i] + theta4*x4[i] + theta5*x5[i] +theta6*x6[i] + theta7*x7[i] + theta8*x8[i] +theta9*x9[i]- y[i])*x2[i]\n",
    "        dtheta3 = dtheta3 + (theta0 + theta1*x[i] +theta2*x2[i] + theta3*x3[i] + theta4*x4[i] + theta5*x5[i] +theta6*x6[i] + theta7*x7[i] + theta8*x8[i] +theta9*x9[i]- y[i])*x3[i]\n",
    "        dtheta4 = dtheta4 + (theta0 + theta1*x[i] +theta2*x2[i] + theta3*x3[i] + theta4*x4[i] + theta5*x5[i] +theta6*x6[i]+ theta7*x7[i] + theta8*x8[i] +theta9*x9[i] - y[i])*x4[i]\n",
    "        dtheta5 = dtheta5 + (theta0 + theta1*x[i] +theta2*x2[i] + theta3*x3[i] + theta4*x4[i] + theta5*x5[i] +theta6*x6[i]+ theta7*x7[i] + theta8*x8[i] +theta9*x9[i] - y[i])*x5[i]\n",
    "        dtheta6 = dtheta6 + (theta0 + theta1*x[i] +theta2*x2[i] + theta3*x3[i] + theta4*x4[i] + theta5*x5[i] +theta6*x6[i]+ theta7*x7[i] + theta8*x8[i] +theta9*x9[i] - y[i])*x6[i]\n",
    "        dtheta7 = dtheta7 + (theta0 + theta1*x[i] +theta2*x2[i] + theta3*x3[i] + theta4*x4[i] + theta5*x5[i] +theta6*x6[i]+ theta7*x7[i] + theta8*x8[i] +theta9*x9[i] - y[i])*x4[i]\n",
    "        dtheta8 = dtheta8 + (theta0 + theta1*x[i] +theta2*x2[i] + theta3*x3[i] + theta4*x4[i] + theta5*x5[i] +theta6*x6[i]+ theta7*x7[i] + theta8*x8[i] +theta9*x9[i] - y[i])*x5[i]\n",
    "        dtheta9 = dtheta9 + (theta0 + theta1*x[i] +theta2*x2[i] + theta3*x3[i] + theta4*x4[i] + theta5*x5[i] +theta6*x6[i]+ theta7*x7[i] + theta8*x8[i] +theta9*x9[i] - y[i])*x6[i]\n",
    "     \n",
    "    cost = cost + lamba*(abs(theta0) + abs(theta1)+ abs(theta2) + abs(theta3)+ abs(theta4) + abs(theta5)+ abs(theta6))\n",
    "    cost = cost / (2*X_train.shape[0])\n",
    "    \n",
    "    dtheta0 = dtheta0 + (lamba/2) * (abs(theta0)/theta0)\n",
    "    dtheta1 = dtheta1 + (lamba/2) * (abs(theta1)/theta1)\n",
    "    dtheta2 = dtheta2 + (lamba/2) * (abs(theta2)/theta2)\n",
    "    dtheta3 = dtheta3 + (lamba/2) * (abs(theta3)/theta3)\n",
    "    dtheta4 = dtheta4 + (lamba/2) * (abs(theta4)/theta4)\n",
    "    dtheta5 = dtheta5 + (lamba/2) * (abs(theta5)/theta5)\n",
    "    dtheta6 = dtheta6 + (lamba/2) * (abs(theta6)/theta6)\n",
    "    dtheta7 = dtheta7 + (lamba/2) * (abs(theta7)/theta7)\n",
    "    dtheta8 = dtheta8 + (lamba/2) * (abs(theta8)/theta8)\n",
    "    dtheta9 = dtheta9 + (lamba/2) * (abs(theta9)/theta9)\n",
    "    \n",
    "    dtheta0 = dtheta0 / X_train.shape[0]\n",
    "    dtheta1 = dtheta1 / X_train.shape[0]\n",
    "    dtheta2 = dtheta2 / X_train.shape[0]\n",
    "    dtheta3 = dtheta3 / X_train.shape[0]\n",
    "    dtheta4 = dtheta4 / X_train.shape[0]\n",
    "    dtheta5 = dtheta5 / X_train.shape[0]\n",
    "    dtheta6 = dtheta6 / X_train.shape[0]\n",
    "    dtheta7 = dtheta7 / X_train.shape[0]\n",
    "    dtheta8 = dtheta8 / X_train.shape[0]\n",
    "    dtheta9 = dtheta9 / X_train.shape[0]\n",
    "\n",
    "    cost_arr.append(cost)\n",
    "    \n",
    "    \n",
    "    theta0 = theta0 - alpha*dtheta0\n",
    "    theta1 = theta1 - alpha*dtheta1    \n",
    "    theta2 = theta2 - alpha*dtheta2    \n",
    "    theta3 = theta3 - alpha*dtheta3 \n",
    "    theta4 = theta4 - alpha*dtheta4 \n",
    "    theta5 = theta5 - alpha*dtheta5 \n",
    "    theta6 = theta6 - alpha*dtheta6\n",
    "    theta7 = theta7 - alpha*dtheta7 \n",
    "    theta8 = theta8 - alpha*dtheta8 \n",
    "    theta9 = theta9 - alpha*dtheta9"
   ]
  },
  {
   "cell_type": "markdown",
   "metadata": {},
   "source": [
    "## Cost function vs No. of Iteration"
   ]
  },
  {
   "cell_type": "code",
   "execution_count": null,
   "metadata": {},
   "outputs": [],
   "source": [
    "plt.figure()\n",
    "plt.plot(range(len(cost_arr)), cost_arr)"
   ]
  },
  {
   "cell_type": "code",
   "execution_count": null,
   "metadata": {},
   "outputs": [],
   "source": [
    "plt.figure()\n",
    "plt.scatter(X_train['Feature'], X_train['Output'])\n",
    "y_pred=[]\n",
    "for i in range(X_train.shape[0]):\n",
    "    y_pred.append(theta0 + theta1*x[i] +theta2*x2[i] + theta3*x3[i] + theta4*x4[i] + theta5*x5[i] +theta6*x6[i]+ theta7*x7[i] + theta8*x8[i] +theta9*x9[i])\n",
    "\n",
    "plt.scatter(X_train['Feature'], y_pred)"
   ]
  },
  {
   "cell_type": "markdown",
   "metadata": {},
   "source": [
    "## Training error and Hypothesis Plot"
   ]
  },
  {
   "cell_type": "code",
   "execution_count": null,
   "metadata": {},
   "outputs": [],
   "source": [
    "x = np.array(X_train['Feature'])\n",
    "x2 = np.array(X_train['Feature'])**2\n",
    "x3 = np.array(X_train['Feature'])**3\n",
    "x4 = np.array(X_train['Feature'])**4\n",
    "x5 = np.array(X_train['Feature'])**5\n",
    "x6 = np.array(X_train['Feature'])**6\n",
    "x7 = np.array(X_train['Feature'])**7\n",
    "x8 = np.array(X_train['Feature'])**8\n",
    "x9 = np.array(X_train['Feature'])**9\n",
    "y = np.array(X_train['Output'])\n",
    "\n",
    "train_error = 0\n",
    "plt.figure()\n",
    "plt.scatter(X_train['Feature'], X_train['Output'])\n",
    "y_pred_train=[]\n",
    "for i in range(X_train.shape[0]):\n",
    "    y_pred_train.append(theta0 + theta1*x[i] +theta2*x2[i] + theta3*x3[i] + theta4*x4[i] + theta5*x5[i] +theta6*x6[i]+ theta7*x7[i] + theta8*x8[i] +theta9*x9[i])\n",
    "    train_error = train_error + (theta0 + theta1*x[i] +theta2*x2[i] + theta3*x3[i] + theta4*x4[i] + theta5*x5[i] +theta6*x6[i]+ theta7*x7[i] + theta8*x8[i] +theta9*x9[i]- y[i])**2\n",
    "train_error = train_error/X_train.shape[0]\n",
    "plt.scatter(X_train['Feature'], y_pred_train)\n",
    "list_train_err.append(train_error)\n",
    "print('Train error =', train_error)"
   ]
  },
  {
   "cell_type": "markdown",
   "metadata": {},
   "source": [
    "## Testing error and Hypothesis Plot"
   ]
  },
  {
   "cell_type": "code",
   "execution_count": null,
   "metadata": {},
   "outputs": [],
   "source": [
    "x = np.array(X_test['Feature'])\n",
    "x2 = np.array(X_test['Feature'])**2\n",
    "x3 = np.array(X_test['Feature'])**3\n",
    "x4 = np.array(X_test['Feature'])**4\n",
    "x5 = np.array(X_test['Feature'])**5\n",
    "x6 = np.array(X_test['Feature'])**6\n",
    "x7 = np.array(X_test['Feature'])**7\n",
    "x8 = np.array(X_test['Feature'])**8\n",
    "x9 = np.array(X_test['Feature'])**9\n",
    "\n",
    "y = np.array(X_test['Output'])\n",
    "\n",
    "test_error = 0\n",
    "plt.figure()\n",
    "plt.scatter(X_test['Feature'], X_test['Output'])\n",
    "y_pred_test=[]\n",
    "for i in range(X_test.shape[0]):\n",
    "    y_pred_test.append(theta0 + theta1*x[i] +theta2*x2[i] + theta3*x3[i] + theta4*x4[i] + theta5*x5[i] +theta6*x6[i]+ theta7*x7[i] + theta8*x8[i] +theta9*x9[i])\n",
    "    test_error = test_error + (theta0 + theta1*x[i] +theta2*x2[i] + theta3*x3[i] + theta4*x4[i] + theta5*x5[i] +theta6*x6[i]+ theta7*x7[i] + theta8*x8[i] +theta9*x9[i]- y[i])**2\n",
    "test_error = test_error/X_test.shape[0]\n",
    "plt.scatter(X_test['Feature'], y_pred_test)\n",
    "list_test_err.append(test_error)\n",
    "print('Test error =', test_error)"
   ]
  },
  {
   "cell_type": "code",
   "execution_count": null,
   "metadata": {},
   "outputs": [],
   "source": []
  }
 ],
 "metadata": {
  "kernelspec": {
   "display_name": "Python 3",
   "language": "python",
   "name": "python3"
  },
  "language_info": {
   "codemirror_mode": {
    "name": "ipython",
    "version": 3
   },
   "file_extension": ".py",
   "mimetype": "text/x-python",
   "name": "python",
   "nbconvert_exporter": "python",
   "pygments_lexer": "ipython3",
   "version": "3.7.3"
  }
 },
 "nbformat": 4,
 "nbformat_minor": 2
}
