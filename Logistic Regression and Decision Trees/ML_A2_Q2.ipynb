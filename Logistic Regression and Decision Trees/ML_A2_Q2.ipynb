{
  "nbformat": 4,
  "nbformat_minor": 0,
  "metadata": {
    "colab": {
      "name": "ML_A2_q2.ipynb",
      "provenance": [],
      "collapsed_sections": []
    },
    "kernelspec": {
      "name": "python3",
      "display_name": "Python 3"
    }
  },
  "cells": [
    {
      "cell_type": "code",
      "metadata": {
        "id": "e2DLzv-gfPrS",
        "colab_type": "code",
        "colab": {}
      },
      "source": [
        "# imports\n",
        "import numpy as np\n",
        "import matplotlib.pyplot as plt\n",
        "import pandas as pd\n",
        "import seaborn as sns"
      ],
      "execution_count": 0,
      "outputs": []
    },
    {
      "cell_type": "code",
      "metadata": {
        "id": "qUZR3ORciKxW",
        "colab_type": "code",
        "colab": {}
      },
      "source": [
        "data=pd.read_csv('winequality-red.csv', sep=';') #importing the data\n",
        "for i in range(11): # except quality feature every column included here\n",
        "   x=data.iloc[:,i]\n",
        "   x_minmax_scaled=(x-x.min())/(x.max()-x.min()) # Normalization using min-max scaling\n",
        "   data.iloc[:,i]=x_minmax_scaled\n"
      ],
      "execution_count": 0,
      "outputs": []
    },
    {
      "cell_type": "code",
      "metadata": {
        "id": "GptufKWWiOrH",
        "colab_type": "code",
        "outputId": "cc36e62a-c343-4d99-aabd-727ecdff65ae",
        "colab": {
          "base_uri": "https://localhost:8080/",
          "height": 907
        }
      },
      "source": [
        "#n=len(data.axes[0]) #to find number of rows in each attribute\n",
        "#print('Number of rows are: ', n)\n",
        "n=1599\n",
        "for i in range(n):\n",
        "  x=data.iloc[i,11]\n",
        "  if(x<=6) :\n",
        "    x=0\n",
        "  else :\n",
        "    x=1\n",
        "  data.iloc[i,11]=x   \n",
        "  \n",
        "  \n",
        "\n",
        "print(data.iloc[0:50,:])\n"
      ],
      "execution_count": 458,
      "outputs": [
        {
          "output_type": "stream",
          "text": [
            "    fixed acidity  volatile acidity  citric acid  ...  sulphates   alcohol  quality\n",
            "0        0.247788          0.397260         0.00  ...   0.137725  0.153846        0\n",
            "1        0.283186          0.520548         0.00  ...   0.209581  0.215385        0\n",
            "2        0.283186          0.438356         0.04  ...   0.191617  0.215385        0\n",
            "3        0.584071          0.109589         0.56  ...   0.149701  0.215385        0\n",
            "4        0.247788          0.397260         0.00  ...   0.137725  0.153846        0\n",
            "5        0.247788          0.369863         0.00  ...   0.137725  0.153846        0\n",
            "6        0.292035          0.328767         0.06  ...   0.077844  0.153846        0\n",
            "7        0.238938          0.363014         0.00  ...   0.083832  0.246154        1\n",
            "8        0.283186          0.315068         0.02  ...   0.143713  0.169231        1\n",
            "9        0.256637          0.260274         0.36  ...   0.281437  0.323077        0\n",
            "10       0.185841          0.315068         0.08  ...   0.125749  0.123077        0\n",
            "11       0.256637          0.260274         0.36  ...   0.281437  0.323077        0\n",
            "12       0.088496          0.339041         0.00  ...   0.113772  0.230769        0\n",
            "13       0.283186          0.335616         0.29  ...   0.736527  0.107692        0\n",
            "14       0.380531          0.342466         0.18  ...   0.329341  0.123077        0\n",
            "15       0.380531          0.342466         0.19  ...   0.359281  0.123077        0\n",
            "16       0.345133          0.109589         0.56  ...   0.251497  0.323077        1\n",
            "17       0.309735          0.301370         0.28  ...   0.568862  0.138462        0\n",
            "18       0.247788          0.321918         0.08  ...   0.101796  0.092308        0\n",
            "19       0.292035          0.136986         0.51  ...   0.449102  0.123077        0\n",
            "20       0.380531          0.068493         0.48  ...   0.119760  0.153846        0\n",
            "21       0.265487          0.184932         0.31  ...   0.191617  0.200000        0\n",
            "22       0.292035          0.212329         0.21  ...   0.347305  0.169231        0\n",
            "23       0.345133          0.253425         0.11  ...   0.119760  0.153846        0\n",
            "24       0.203540          0.191781         0.14  ...   0.179641  0.200000        0\n",
            "25       0.150442          0.184932         0.16  ...   0.137725  0.138462        0\n",
            "26       0.265487          0.198630         0.24  ...   0.155689  0.169231        0\n",
            "27       0.292035          0.212329         0.21  ...   0.347305  0.169231        0\n",
            "28       0.221239          0.404110         0.00  ...   0.131737  0.153846        0\n",
            "29       0.283186          0.359589         0.00  ...   0.155689  0.215385        0\n",
            "30       0.185841          0.380137         0.07  ...   0.125749  0.261538        0\n",
            "31       0.203540          0.386986         0.00  ...   0.143713  0.338462        0\n",
            "32       0.327434          0.366438         0.12  ...   0.197605  0.215385        0\n",
            "33       0.203540          0.332192         0.12  ...   0.113772  0.153846        0\n",
            "34       0.053097          0.136986         0.25  ...   0.131737  0.123077        0\n",
            "35       0.283186          0.359589         0.00  ...   0.131737  0.184615        0\n",
            "36       0.283186          0.328767         0.14  ...   0.161677  0.369231        0\n",
            "37       0.309735          0.178082         0.28  ...   0.239521  0.200000        1\n",
            "38       0.097345          0.691781         0.09  ...   0.089820  0.215385        0\n",
            "39       0.238938          0.226027         0.36  ...   0.299401  0.323077        0\n",
            "40       0.238938          0.226027         0.36  ...   0.299401  0.323077        0\n",
            "41       0.371681          0.335616         0.30  ...   0.107784  0.138462        0\n",
            "42       0.256637          0.253425         0.20  ...   0.341317  0.323077        0\n",
            "43       0.309735          0.369863         0.22  ...   0.520958  0.292308        0\n",
            "44       0.194690          0.376712         0.02  ...   0.113772  0.169231        0\n",
            "45       0.000000          0.273973         0.15  ...   0.137725  0.723077        0\n",
            "46       0.274336          0.558219         0.43  ...   0.239521  0.123077        0\n",
            "47       0.362832          0.116438         0.52  ...   0.149701  0.169231        0\n",
            "48       0.159292          0.191781         0.23  ...   0.137725  0.123077        0\n",
            "49       0.088496          0.130137         0.37  ...   0.149701  0.123077        0\n",
            "\n",
            "[50 rows x 12 columns]\n"
          ],
          "name": "stdout"
        }
      ]
    },
    {
      "cell_type": "code",
      "metadata": {
        "id": "f1XAQw8wKVeR",
        "colab_type": "code",
        "colab": {}
      },
      "source": [
        ""
      ],
      "execution_count": 0,
      "outputs": []
    },
    {
      "cell_type": "markdown",
      "metadata": {
        "id": "UWWDuYlKLSzx",
        "colab_type": "text"
      },
      "source": [
        "# Defining All function here"
      ]
    },
    {
      "cell_type": "code",
      "metadata": {
        "id": "EpByA81hiX_j",
        "colab_type": "code",
        "colab": {}
      },
      "source": [
        "def cost_function(X, y, theta): # to compute cost, cost function is defined\n",
        "    m = len(y)\n",
        "    z=(X @ theta) # dot production between input X and params \n",
        "    h_theta=1 / (1 + np.exp(-z)) #defining logistic hypothesis function i.e. sigmoid function\n",
        "    # here '@' is used for dot product or matrix multiplication    \n",
        "    cost = (1/m)*(((-y).T @ np.log(h_theta))-((1-y).T @ np.log(1-h_theta)))\n",
        "    return cost\n",
        "\n",
        "\n",
        "def GD(X, y, params, lr, itr): #to udate parameter gradient descent is defined\n",
        "    m = len(y) # size of sample\n",
        "    J_theta = np.zeros((itr,1)) # recording history of cost function over iteration\n",
        "\n",
        "    for i in range(itr):\n",
        "        z=(X @ params) # dot production between input X and params \n",
        "        h=1 / (1 + np.exp(-z)) #defining logistic hypothesis function i.e. sigmoid function\n",
        "        params = params - (lr/m) * (X.T @ (h - y)) \n",
        "        J_theta[i] = cost_function(X, y, params)\n",
        "\n",
        "    return (J_theta, params)"
      ],
      "execution_count": 0,
      "outputs": []
    },
    {
      "cell_type": "markdown",
      "metadata": {
        "id": "N7IxxxpXI080",
        "colab_type": "text"
      },
      "source": [
        "# NOW FOR CALCULATING PARAMS, COST FUNCTION AND PREDICTED VALUE"
      ]
    },
    {
      "cell_type": "code",
      "metadata": {
        "id": "0LdqPHRGJK71",
        "colab_type": "code",
        "outputId": "2395c966-ae87-43b6-a177-aaa3caa28dfe",
        "colab": {
          "base_uri": "https://localhost:8080/",
          "height": 286
        }
      },
      "source": [
        "# initialisation\n",
        "X=data.iloc[:,0:11]\n",
        "y=data.iloc[:,11]\n",
        "m = len(y)\n",
        "\n",
        "X = np.hstack((np.ones((m,1)),X)) # adding/inserting bias as 1 \n",
        "y = y[:,np.newaxis]\n",
        "n = np.size(X,1)\n",
        "params = np.zeros((n,1))\n",
        "\n",
        "iterations = 1500\n",
        "learning_rate = 0.01\n",
        "# Assigning value to function now\n",
        "cost_function_initial = cost_function(X, y, params) # initial  value of cost function before start of iteration\n",
        "\n",
        "print(\"Initial Cost is: {} \\n\".format(cost_function_initial))\n",
        "\n",
        "(J_theta, params_final) = GD(X, y, params, learning_rate, iterations) # to calculater J_theta over iteration and parameter final updated value\n",
        "\n",
        "print(\" Final Updated value of Parameters are: \\n\", params_final, \"\\n\")\n",
        "\n"
      ],
      "execution_count": 460,
      "outputs": [
        {
          "output_type": "stream",
          "text": [
            "Initial Cost is: [[0.69314718]] \n",
            "\n",
            " Final Updated value of Parameters are: \n",
            " [[-0.97950192]\n",
            " [-0.21439513]\n",
            " [-0.43750352]\n",
            " [-0.04074204]\n",
            " [-0.07839054]\n",
            " [-0.1592965 ]\n",
            " [-0.24889738]\n",
            " [-0.21465394]\n",
            " [-0.56623354]\n",
            " [-0.47626792]\n",
            " [-0.08432961]\n",
            " [ 0.03089778]] \n",
            "\n"
          ],
          "name": "stdout"
        }
      ]
    },
    {
      "cell_type": "code",
      "metadata": {
        "id": "V5bZ0ef0JZZr",
        "colab_type": "code",
        "outputId": "780173a3-d018-4236-b3c6-56867bdda794",
        "colab": {
          "base_uri": "https://localhost:8080/",
          "height": 295
        }
      },
      "source": [
        "# for plotting graph between Cost function and iteration\n",
        "plt.figure()\n",
        "\n",
        "plt.plot(range(iterations),J_theta)\n",
        "plt.title(\"Cost vs iteration\")\n",
        "plt.xlabel(\"Number of Iterations\")\n",
        "plt.ylabel(\"Cost or J_ theta\")\n",
        "plt.show()"
      ],
      "execution_count": 461,
      "outputs": [
        {
          "output_type": "display_data",
          "data": {
            "image/png": "[encoded data removed]",
            "text/plain": [
              "<Figure size 432x288 with 1 Axes>"
            ]
          },
          "metadata": {
            "tags": []
          }
        }
      ]
    },
    {
      "cell_type": "code",
      "metadata": {
        "id": "1ZlYjzb1LM7X",
        "colab_type": "code",
        "outputId": "7049a985-66c3-4584-99f7-125f6b384347",
        "colab": {
          "base_uri": "https://localhost:8080/",
          "height": 34
        }
      },
      "source": [
        "# to calculate accuracy\n",
        "z=(X @ params) # dot production between input X and params \n",
        "h=1 / (1 + np.exp(-z)) #defining logistic hypothesis function i.e. sigmoid function\n",
        "y_pred = np.round(h) # using threshold vaue 0.5 we just rounding up it\n",
        "accuracy = float(sum(y_pred == y))/ float(len(y))*100\n",
        "\n",
        "print('Accuracy without scikit learn modal=',accuracy) # Accuracy without any model impletation"
      ],
      "execution_count": 462,
      "outputs": [
        {
          "output_type": "stream",
          "text": [
            "Accuracy without scikit learn modal= 86.42901813633522\n"
          ],
          "name": "stdout"
        }
      ]
    },
    {
      "cell_type": "code",
      "metadata": {
        "id": "7SFDmSUXDVi_",
        "colab_type": "code",
        "colab": {}
      },
      "source": [
        ""
      ],
      "execution_count": 0,
      "outputs": []
    },
    {
      "cell_type": "markdown",
      "metadata": {
        "id": "cXxtpvFpU-yI",
        "colab_type": "text"
      },
      "source": [
        "# Part 2: using scikit learn package"
      ]
    },
    {
      "cell_type": "code",
      "metadata": {
        "id": "vZIoH08XVIMV",
        "colab_type": "code",
        "colab": {}
      },
      "source": [
        "from sklearn.linear_model import LogisticRegression"
      ],
      "execution_count": 0,
      "outputs": []
    },
    {
      "cell_type": "code",
      "metadata": {
        "id": "9JRAo5IsVJwI",
        "colab_type": "code",
        "outputId": "a950725a-168d-494b-d294-e687caf2af70",
        "colab": {
          "base_uri": "https://localhost:8080/",
          "height": 87
        }
      },
      "source": [
        "'''X1=X # taking from above part\n",
        "y1=y # taking value from above part\n",
        "clf = LogisticRegression(random_state=0).fit(X1, y1)\n",
        "y_pred_sklearn= LogisticRegression.predict(X1)'''\n",
        "from sklearn.model_selection import train_test_split\n",
        "from sklearn.linear_model import LogisticRegression\n",
        "from sklearn.metrics import classification_report\n",
        "from sklearn.metrics import confusion_matrix,accuracy_score\n",
        " \n",
        "x1 = X\n",
        "y1 = y\n",
        "x_train, x_test, y_train, y_test = train_test_split(x1, y1, test_size=0.33, random_state=1)\n",
        "logmodel = LogisticRegression()\n",
        "logmodel.fit(x_train, y_train)\n",
        " \n",
        "y_pred_sklearn = logmodel.predict(x_test)\n",
        "\n",
        "print('Accuracy from scikit learn model=',accuracy_score(y_test, y_pred_sklearn)*100)"
      ],
      "execution_count": 464,
      "outputs": [
        {
          "output_type": "stream",
          "text": [
            "Accuracy from scikit learn model= 87.68939393939394\n"
          ],
          "name": "stdout"
        },
        {
          "output_type": "stream",
          "text": [
            "/usr/local/lib/python3.6/dist-packages/sklearn/utils/validation.py:760: DataConversionWarning: A column-vector y was passed when a 1d array was expected. Please change the shape of y to (n_samples, ), for example using ravel().\n",
            "  y = column_or_1d(y, warn=True)\n"
          ],
          "name": "stderr"
        }
      ]
    },
    {
      "cell_type": "code",
      "metadata": {
        "id": "7zxkaPvtV9c2",
        "colab_type": "code",
        "outputId": "fc7d281d-3825-420c-f39e-9370736d8ddc",
        "colab": {
          "base_uri": "https://localhost:8080/",
          "height": 34
        }
      },
      "source": [
        "'''accuracy1=clf.score(X, y) * 100\n",
        "print('Accuracy from scikit learn model=',accuracy1)'''"
      ],
      "execution_count": 465,
      "outputs": [
        {
          "output_type": "execute_result",
          "data": {
            "text/plain": [
              "\"accuracy1=clf.score(X, y) * 100\\nprint('Accuracy from scikit learn model=',accuracy1)\""
            ]
          },
          "metadata": {
            "tags": []
          },
          "execution_count": 465
        }
      ]
    },
    {
      "cell_type": "code",
      "metadata": {
        "id": "5F-8ILHSWCFM",
        "colab_type": "code",
        "colab": {}
      },
      "source": [
        ""
      ],
      "execution_count": 0,
      "outputs": []
    },
    {
      "cell_type": "markdown",
      "metadata": {
        "id": "Igrcth83W42S",
        "colab_type": "text"
      },
      "source": [
        "# Part 3: 3 fold Cross validation"
      ]
    },
    {
      "cell_type": "code",
      "metadata": {
        "id": "-BPalEaAXIwk",
        "colab_type": "code",
        "colab": {}
      },
      "source": [
        "from sklearn.model_selection import train_test_split\n",
        "from sklearn.neighbors import KNeighborsClassifier\n",
        "from sklearn import metrics"
      ],
      "execution_count": 0,
      "outputs": []
    },
    {
      "cell_type": "code",
      "metadata": {
        "id": "SWZM_WACjb48",
        "colab_type": "code",
        "colab": {}
      },
      "source": [
        "X2=X # taking from above part\n",
        "y2=y # taking value from above part\n",
        "#X_train, X_test, y_train, y_test = train_test_split(X2, y2, random_state=6)\n",
        "\n"
      ],
      "execution_count": 0,
      "outputs": []
    },
    {
      "cell_type": "code",
      "metadata": {
        "id": "xLoXDKa2oARq",
        "colab_type": "code",
        "outputId": "13c773cc-9836-4f46-d0af-51aee714a2b5",
        "colab": {
          "base_uri": "https://localhost:8080/",
          "height": 154
        }
      },
      "source": [
        "from sklearn.linear_model import LogisticRegression\n",
        "logreg = LogisticRegression()\n",
        "accuracy_logistic=cross_val_score(logreg, X2, y2, cv=3, scoring='accuracy').mean()\n",
        "print('Mean accuracy of 3 fold cross validation for logistic regression=',accuracy_logistic*100)"
      ],
      "execution_count": 468,
      "outputs": [
        {
          "output_type": "stream",
          "text": [
            "/usr/local/lib/python3.6/dist-packages/sklearn/utils/validation.py:760: DataConversionWarning: A column-vector y was passed when a 1d array was expected. Please change the shape of y to (n_samples, ), for example using ravel().\n",
            "  y = column_or_1d(y, warn=True)\n",
            "/usr/local/lib/python3.6/dist-packages/sklearn/utils/validation.py:760: DataConversionWarning: A column-vector y was passed when a 1d array was expected. Please change the shape of y to (n_samples, ), for example using ravel().\n",
            "  y = column_or_1d(y, warn=True)\n",
            "/usr/local/lib/python3.6/dist-packages/sklearn/utils/validation.py:760: DataConversionWarning: A column-vector y was passed when a 1d array was expected. Please change the shape of y to (n_samples, ), for example using ravel().\n",
            "  y = column_or_1d(y, warn=True)\n"
          ],
          "name": "stderr"
        },
        {
          "output_type": "stream",
          "text": [
            "Mean accuracy of 3 fold cross validation for logistic regression= 86.9918699186992\n"
          ],
          "name": "stdout"
        }
      ]
    },
    {
      "cell_type": "code",
      "metadata": {
        "id": "AmBi5GpK1h5n",
        "colab_type": "code",
        "outputId": "041476a6-d012-4651-816b-3102cf5c9c23",
        "colab": {
          "base_uri": "https://localhost:8080/",
          "height": 121
        }
      },
      "source": [
        "#precision recall for Logistic regresion without sklearn\n",
        "from sklearn.metrics import precision_recall_fscore_support as score\n",
        "\n",
        "#predicted = [1,2,3,4,5,1,2,1,1,4,5] \n",
        "#y_test = [1,2,3,4,5,1,2,1,1,4,1]\n",
        "\n",
        "precision, recall, fscore, support = score(y1, y_pred) # y_pred is value from logistic regression classifier\n",
        "\n",
        "print('precision: {}'.format(precision))\n",
        "print('recall: {}'.format(recall))\n",
        "print('fscore: {}'.format(fscore))"
      ],
      "execution_count": 469,
      "outputs": [
        {
          "output_type": "stream",
          "text": [
            "precision: [0.86429018 0.        ]\n",
            "recall: [1. 0.]\n",
            "fscore: [0.92720564 0.        ]\n"
          ],
          "name": "stdout"
        },
        {
          "output_type": "stream",
          "text": [
            "/usr/local/lib/python3.6/dist-packages/sklearn/metrics/_classification.py:1272: UndefinedMetricWarning: Precision and F-score are ill-defined and being set to 0.0 in labels with no predicted samples. Use `zero_division` parameter to control this behavior.\n",
            "  _warn_prf(average, modifier, msg_start, len(result))\n"
          ],
          "name": "stderr"
        }
      ]
    },
    {
      "cell_type": "code",
      "metadata": {
        "id": "xqBM1EK12fNz",
        "colab_type": "code",
        "outputId": "b3d4c546-f818-4f67-bd63-6bba6d55f4f2",
        "colab": {
          "base_uri": "https://localhost:8080/",
          "height": 67
        }
      },
      "source": [
        "\n",
        "#precision recall with sklearn classifier\n",
        "from sklearn.metrics import precision_recall_fscore_support as score\n",
        "\n",
        "\n",
        "precision, recall, fscore, support = score(y_test, y_pred_sklearn) # y_pred is value from logistic regression classifier\n",
        "\n",
        "print('precision: {}'.format(precision))\n",
        "print('recall: {}'.format(recall))\n",
        "print('fscore: {}'.format(fscore))\n"
      ],
      "execution_count": 470,
      "outputs": [
        {
          "output_type": "stream",
          "text": [
            "precision: [0.89065606 0.6       ]\n",
            "recall: [0.97816594 0.21428571]\n",
            "fscore: [0.93236212 0.31578947]\n"
          ],
          "name": "stdout"
        }
      ]
    },
    {
      "cell_type": "code",
      "metadata": {
        "id": "uhrS_GZr26Y9",
        "colab_type": "code",
        "colab": {}
      },
      "source": [
        ""
      ],
      "execution_count": 0,
      "outputs": []
    }
  ]
}