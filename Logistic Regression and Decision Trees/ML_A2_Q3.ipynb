{
  "nbformat": 4,
  "nbformat_minor": 0,
  "metadata": {
    "colab": {
      "name": "ML_A2_q3.ipynb",
      "provenance": [],
      "collapsed_sections": []
    },
    "kernelspec": {
      "name": "python3",
      "display_name": "Python 3"
    }
  },
  "cells": [
    {
      "cell_type": "code",
      "metadata": {
        "id": "6q_gKXc-DJXx",
        "colab_type": "code",
        "colab": {}
      },
      "source": [
        "# imports\n",
        "import numpy as np\n",
        "import matplotlib.pyplot as plt\n",
        "import pandas as pd\n",
        "from pprint import pprint"
      ],
      "execution_count": 0,
      "outputs": []
    },
    {
      "cell_type": "code",
      "metadata": {
        "id": "d2dL9cqQDb_g",
        "colab_type": "code",
        "colab": {
          "base_uri": "https://localhost:8080/",
          "height": 420
        },
        "outputId": "3c84d95d-bb84-49f9-dfb9-6738cac2d422"
      },
      "source": [
        "data2=pd.read_csv('winequality-red.csv', sep=';') #importing the data\n",
        "n=len(data2.axes[0]) #to find number of rows in each attribute\n",
        "print('Number of rows are: ', n)\n",
        "for i in range(n):\n",
        "  x=data2.iloc[i,-1] #for 'quality' attribute\n",
        "  \n",
        "  if(x<5):\n",
        "    x=0\n",
        "  elif(x==6 or x==5):\n",
        "    x=1\n",
        "  else:\n",
        "    x=2\n",
        "  data2.iloc[i,-1]=x\n",
        "\n",
        "# for making four BINs\n",
        "for i in data2:\n",
        "  if (i=='quality'):\n",
        "    break\n",
        "  assign=pd.cut(data2[i],4,labels=['0','1','2','3'],precision=100)\n",
        "  data2.drop( [i],inplace=True, axis=1 )\n",
        "  data2.insert(0,i,assign)\n",
        "\n",
        "print(data2.iloc[0:20,:])"
      ],
      "execution_count": 83,
      "outputs": [
        {
          "output_type": "stream",
          "text": [
            "Number of rows are:  1599\n",
            "   alcohol sulphates pH  ... volatile acidity fixed acidity quality\n",
            "0        0         0  2  ...                1             0       1\n",
            "1        0         0  1  ...                2             1       1\n",
            "2        0         0  1  ...                1             1       1\n",
            "3        0         0  1  ...                0             2       1\n",
            "4        0         0  2  ...                1             0       1\n",
            "5        0         0  2  ...                1             0       1\n",
            "6        0         0  1  ...                1             1       1\n",
            "7        0         0  2  ...                1             0       2\n",
            "8        0         0  1  ...                1             1       2\n",
            "9        1         1  1  ...                1             1       1\n",
            "10       0         0  1  ...                1             0       1\n",
            "11       1         1  1  ...                1             1       1\n",
            "12       0         0  2  ...                1             0       1\n",
            "13       0         2  1  ...                1             1       1\n",
            "14       0         1  1  ...                1             1       1\n",
            "15       0         1  1  ...                1             1       1\n",
            "16       1         1  1  ...                0             1       2\n",
            "17       0         2  1  ...                1             1       1\n",
            "18       0         0  2  ...                1             0       0\n",
            "19       0         1  0  ...                0             1       1\n",
            "\n",
            "[20 rows x 12 columns]\n"
          ],
          "name": "stdout"
        }
      ]
    },
    {
      "cell_type": "code",
      "metadata": {
        "id": "IXuXSaczez6v",
        "colab_type": "code",
        "colab": {}
      },
      "source": [
        ""
      ],
      "execution_count": 0,
      "outputs": []
    },
    {
      "cell_type": "code",
      "metadata": {
        "id": "U-ppWBSXH7O8",
        "colab_type": "code",
        "colab": {
          "base_uri": "https://localhost:8080/",
          "height": 1000
        },
        "outputId": "225206e2-8e4a-4db2-e6ba-24e92cfca8ff"
      },
      "source": [
        "dataset =data2 \n",
        "\n",
        "\n",
        "def entropy(target_col):\n",
        "    elements,counts = np.unique(target_col,return_counts = True)\n",
        "    entropy = np.sum([(-counts[i]/np.sum(counts))*np.log2(counts[i]/np.sum(counts)) for i in range(len(elements))])\n",
        "    return entropy\n",
        "\n",
        "def InfoGain(data,split_attribute_name,target_name=\"quality\"): \n",
        "    elements,counts = np.unique(data[target_name],return_counts = True)\n",
        "    total_entropy = np.sum([(-counts[i]/np.sum(counts))*np.log2(counts[i]/np.sum(counts)) for i in range(len(elements))]) #Calculate the entropy of the total dataset\n",
        "    #total_entropy = entropy(data[target_name]) \n",
        "    vals,counts= np.unique(data[split_attribute_name],return_counts=True)\n",
        "    Weighted_Entropy = np.sum([(counts[i]/np.sum(counts))*entropy(data.where(data[split_attribute_name]==vals[i]).dropna()[target_name]) for i in range(len(vals))])\n",
        "\n",
        "    Information_Gain = total_entropy - Weighted_Entropy    # the information gain value\n",
        "    return Information_Gain\n",
        "\n",
        "\n",
        "def ID3(data,originaldata,features,target_attribute_name=\"quality\",parent_node_class = None):\n",
        "    if len(np.unique(data[target_attribute_name])) <= 1:\n",
        "        return np.unique(data[target_attribute_name])[0]\n",
        "\n",
        "    elif len(data)<10:\n",
        "        return np.unique(originaldata[target_attribute_name])[np.argmax(np.unique(originaldata[target_attribute_name],return_counts=True)[1])]\n",
        "    \n",
        "    elif len(features)==0: # stop splitting if it has value less than 10\n",
        "        return parent_node_class\n",
        "    \n",
        "    #If none of the above holds true, grow the tree!\n",
        "    \n",
        "    else:\n",
        "        parent_node_class = np.unique(data[target_attribute_name])[np.argmax(np.unique(data[target_attribute_name],return_counts=True)[1])]        #Set the default value for this node --> The mode target feature value of the current node\n",
        "        \n",
        "        #Select the feature which best splits the dataset\n",
        "        item_values = [InfoGain(data,feature,target_attribute_name) for feature in features] #Return the information gain values for the features in the dataset\n",
        "        best_feature_index = np.argmax(item_values)\n",
        "        best_feature = features[best_feature_index]\n",
        "        tree = {best_feature:{}}\n",
        "        features = [i for i in features if i != best_feature]        #Remove the feature with the best inforamtion gain from the feature space\n",
        "        \n",
        "        for value in np.unique(data[best_feature]):   # a branch under the root node for each possible value of the root node feature\n",
        "            value = value\n",
        "            sub_data = data.where(data[best_feature] == value).dropna()\n",
        "            subtree = ID3(sub_data,dataset,features,target_attribute_name,parent_node_class)\n",
        "            tree[best_feature][value] = subtree\n",
        "            \n",
        "        return(tree)    \n",
        "\n",
        "\n",
        "def predict(query,tree,default = 1):    # to find predicted value\n",
        "    for key in list(query.keys()):\n",
        "        if key in list(tree.keys()):\n",
        "            try:\n",
        "                result = tree[key][query[key]] \n",
        "            except:\n",
        "                return default\n",
        "            result = tree[key][query[key]]  \n",
        "            if isinstance(result,dict):\n",
        "                return predict(query,result)\n",
        "            else:\n",
        "                return result\n",
        "\n",
        "\n",
        "training_data = dataset.iloc[:1200].reset_index(drop=True)  #We drop the index respectively relabel the index\n",
        "testing_data = dataset.iloc[1200:].reset_index(drop=True)    #starting form 0, because we do not want to run into errors regarding the row labels / indexes\n",
        "\n",
        "\n",
        "def test(data,tree):\n",
        "    queries = data.iloc[:,:-1].to_dict(orient = \"records\")      # Create new query instances by simply removing the target feature column from the original dataset and convert it to a dictionary\n",
        "    predicted = pd.DataFrame(columns=[\"predicted\"])    #Create a empty DataFrame in whose columns the prediction of the tree are stored\n",
        "    \n",
        "    #Calculate the prediction accuracy\n",
        "    for i in range(len(data)):\n",
        "        predicted.loc[i,\"predicted\"] = predict(queries[i],tree,1.0) \n",
        "    print('The accuracy of Decision tree model is: ',(np.sum(predicted[\"predicted\"] == data[\"quality\"])/len(data))*100,'%')\n",
        "\n",
        "tree = ID3(training_data,training_data,training_data.columns[:-1])\n",
        "pprint(tree)\n",
        "\n",
        "test(testing_data,tree)\n",
        "'''queries = testing_data.iloc[:,:-1].to_dict(orient = \"records\")      # Create new query instances by simply removing the target feature column from the original dataset and convert it to a dictionary\n",
        "predicted = pd.DataFrame(columns=[\"predicted\"])    #Create a empty DataFrame in whose columns the prediction of the tree are stored\n",
        "    \n",
        "#Calculate the prediction accuracy\n",
        "for i in range(len(testing_data)):\n",
        "  predicted.loc[i,\"predicted\"] = predict(queries[i],tree,1.0) \n",
        "  print('The accuracy of Decision tree model is: ',(np.sum(predicted[\"predicted\"] == testing_data[\"quality\"])/len(testing_data))*100,'%')'''"
      ],
      "execution_count": 84,
      "outputs": [
        {
          "output_type": "stream",
          "text": [
            "{'alcohol': {'0': {'fixed acidity': {'0': {'volatile acidity': {'0': {'free sulfur dioxide': {'0': 1.0,\n",
            "                                                                                              '1': {'citric acid': {'0': 1,\n",
            "                                                                                                                    '1': 1.0}},\n",
            "                                                                                              '2': 1.0,\n",
            "                                                                                              '3': 1.0}},\n",
            "                                                                '1': {'density': {'1': {'pH': {'0': 1.0,\n",
            "                                                                                               '1': {'total sulfur dioxide': {'0': {'sulphates': {'0': {'free sulfur dioxide': {'0': {'chlorides': {'0': {'citric acid': {'0': {'residual sugar': {'0': 1.0}},\n",
            "                                                                                                                                                                                                                          '1': 1.0}},\n",
            "                                                                                                                                                                                                    '1': 1.0}},\n",
            "                                                                                                                                                                                '1': 1.0}},\n",
            "                                                                                                                                                  '1': 1.0}},\n",
            "                                                                                                                              '1': 1.0}},\n",
            "                                                                                               '2': {'total sulfur dioxide': {'0': {'chlorides': {'0': {'sulphates': {'0': {'free sulfur dioxide': {'0': {'residual sugar': {'0': {'citric acid': {'0': 1.0}}}}}}}},\n",
            "                                                                                                                                                  '1': 1.0}},\n",
            "                                                                                                                              '1': 1.0}}}},\n",
            "                                                                                  '2': {'total sulfur dioxide': {'0': {'sulphates': {'0': {'pH': {'1': 1.0,\n",
            "                                                                                                                                                  '2': {'free sulfur dioxide': {'0': {'chlorides': {'0': {'residual sugar': {'0': {'citric acid': {'0': 1.0}}}}}},\n",
            "                                                                                                                                                                                '1': 1.0}}}},\n",
            "                                                                                                                                     '1': 1.0}},\n",
            "                                                                                                                 '1': 1.0}}}},\n",
            "                                                                '2': 1}},\n",
            "                                     '1': {'volatile acidity': {'0': {'free sulfur dioxide': {'0': {'citric acid': {'0': 1.0,\n",
            "                                                                                                                    '1': {'sulphates': {'0': {'total sulfur dioxide': {'0': {'density': {'1': 1,\n",
            "                                                                                                                                                                                         '2': {'pH': {'1': {'chlorides': {'0': {'residual sugar': {'0': 1.0}}}},\n",
            "                                                                                                                                                                                                      '2': 1.0}}}},\n",
            "                                                                                                                                                                       '1': 1.0}},\n",
            "                                                                                                                                        '1': 1.0}},\n",
            "                                                                                                                    '2': {'sulphates': {'0': 1.0,\n",
            "                                                                                                                                        '1': 1,\n",
            "                                                                                                                                        '2': 1.0}},\n",
            "                                                                                                                    '3': 1.0}},\n",
            "                                                                                              '1': {'total sulfur dioxide': {'0': 1.0,\n",
            "                                                                                                                             '1': {'citric acid': {'0': 1.0,\n",
            "                                                                                                                                                   '1': {'sulphates': {'0': {'pH': {'1': {'density': {'2': {'chlorides': {'0': {'residual sugar': {'0': 1.0}}}}}},\n",
            "                                                                                                                                                                                    '2': 1.0}},\n",
            "                                                                                                                                                                       '1': 1.0,\n",
            "                                                                                                                                                                       '2': 1.0}},\n",
            "                                                                                                                                                   '2': 1.0}}}},\n",
            "                                                                                              '2': 1.0}},\n",
            "                                                                '1': {'chlorides': {'0': {'sulphates': {'0': {'density': {'1': {'total sulfur dioxide': {'0': {'pH': {'1': {'citric acid': {'0': {'free sulfur dioxide': {'0': {'residual sugar': {'0': 1.0}},\n",
            "                                                                                                                                                                                                                          '1': 1.0}},\n",
            "                                                                                                                                                                                            '1': 1.0}},\n",
            "                                                                                                                                                                      '2': {'free sulfur dioxide': {'0': 1,\n",
            "                                                                                                                                                                                                    '1': 1.0}}}},\n",
            "                                                                                                                                                         '1': 1.0}},\n",
            "                                                                                                                          '2': {'free sulfur dioxide': {'0': {'citric acid': {'0': {'pH': {'1': {'total sulfur dioxide': {'0': {'residual sugar': {'0': 1.0}},\n",
            "                                                                                                                                                                                                                          '1': 1.0}},\n",
            "                                                                                                                                                                                           '2': 1.0}},\n",
            "                                                                                                                                                                              '1': {'pH': {'1': {'total sulfur dioxide': {'0': {'residual sugar': {'0': 1.0}},\n",
            "                                                                                                                                                                                                                          '1': 1.0}},\n",
            "                                                                                                                                                                                           '2': 1.0}},\n",
            "                                                                                                                                                                              '2': 1.0}},\n",
            "                                                                                                                                                        '1': 1.0,\n",
            "                                                                                                                                                        '2': 1.0}},\n",
            "                                                                                                                          '3': 1.0}},\n",
            "                                                                                                        '1': {'residual sugar': {'0': {'total sulfur dioxide': {'0': {'density': {'1': 1,\n",
            "                                                                                                                                                                                  '2': 1.0}},\n",
            "                                                                                                                                                                '1': 0.0}},\n",
            "                                                                                                                                 '1': 1.0}},\n",
            "                                                                                                        '2': 1.0,\n",
            "                                                                                                        '3': 1.0}},\n",
            "                                                                                    '1': 1.0,\n",
            "                                                                                    '2': 1.0,\n",
            "                                                                                    '3': 0.0}},\n",
            "                                                                '2': {'total sulfur dioxide': {'0': {'density': {'1': {'citric acid': {'0': {'pH': {'1': {'free sulfur dioxide': {'0': {'sulphates': {'0': {'chlorides': {'0': {'residual sugar': {'0': 1.0}}}}}},\n",
            "                                                                                                                                                                                  '1': 1.0}},\n",
            "                                                                                                                                                    '2': 1.0}},\n",
            "                                                                                                                                       '1': 0.0}},\n",
            "                                                                                                                 '2': 1}},\n",
            "                                                                                               '1': 1.0,\n",
            "                                                                                               '2': 1.0}},\n",
            "                                                                '3': 1.0}},\n",
            "                                     '2': {'pH': {'0': {'free sulfur dioxide': {'0': {'volatile acidity': {'0': {'sulphates': {'0': 1,\n",
            "                                                                                                                               '1': 1}},\n",
            "                                                                                                           '1': 1.0}},\n",
            "                                                                                '1': 1}},\n",
            "                                                  '1': {'residual sugar': {'0': {'sulphates': {'0': {'volatile acidity': {'0': 1.0,\n",
            "                                                                                                                          '1': {'density': {'2': {'chlorides': {'0': {'citric acid': {'0': 1.0,\n",
            "                                                                                                                                                                                      '1': 1,\n",
            "                                                                                                                                                                                      '2': 1.0}},\n",
            "                                                                                                                                                                '1': 0.0}},\n",
            "                                                                                                                                            '3': 0.0}}}},\n",
            "                                                                                               '1': 1.0,\n",
            "                                                                                               '2': 1}},\n",
            "                                                                           '1': 1,\n",
            "                                                                           '3': 1.0}},\n",
            "                                                  '2': 0.0}},\n",
            "                                     '3': {'citric acid': {'1': 2.0,\n",
            "                                                           '2': 1.0}}}},\n",
            "             '1': {'volatile acidity': {'0': {'fixed acidity': {'0': {'free sulfur dioxide': {'0': {'pH': {'1': {'density': {'0': 1.0,\n",
            "                                                                                                                             '1': 1,\n",
            "                                                                                                                             '2': 1.0}},\n",
            "                                                                                                           '2': 1}},\n",
            "                                                                                              '1': 1.0,\n",
            "                                                                                              '2': 1.0}},\n",
            "                                                                '1': {'citric acid': {'0': 1.0,\n",
            "                                                                                      '1': {'residual sugar': {'0': {'free sulfur dioxide': {'0': {'pH': {'0': 1,\n",
            "                                                                                                                                                          '1': {'density': {'1': {'sulphates': {'0': {'total sulfur dioxide': {'0': {'chlorides': {'0': 1.0}}}},\n",
            "                                                                                                                                                                                                '1': {'total sulfur dioxide': {'0': {'chlorides': {'0': 1.0}}}}}},\n",
            "                                                                                                                                                                            '2': {'sulphates': {'0': 1.0,\n",
            "                                                                                                                                                                                                '1': 1}}}},\n",
            "                                                                                                                                                          '2': 1}},\n",
            "                                                                                                                                             '1': {'sulphates': {'0': 1.0,\n",
            "                                                                                                                                                                 '1': 1,\n",
            "                                                                                                                                                                 '2': 1.0}},\n",
            "                                                                                                                                             '2': 1}},\n",
            "                                                                                                               '1': 1,\n",
            "                                                                                                               '2': 1}},\n",
            "                                                                                      '2': {'total sulfur dioxide': {'0': 1.0,\n",
            "                                                                                                                     '1': 2.0}}}},\n",
            "                                                                '2': {'density': {'1': 1,\n",
            "                                                                                  '2': {'free sulfur dioxide': {'0': {'pH': {'0': 1.0,\n",
            "                                                                                                                             '1': {'chlorides': {'0': {'sulphates': {'0': {'citric acid': {'1': 1.0,\n",
            "                                                                                                                                                                                           '2': {'total sulfur dioxide': {'0': {'residual sugar': {'0': 1.0}}}}}},\n",
            "                                                                                                                                                                     '1': {'citric acid': {'1': {'total sulfur dioxide': {'0': {'residual sugar': {'0': 1.0}}}},\n",
            "                                                                                                                                                                                           '2': {'total sulfur dioxide': {'0': {'residual sugar': {'0': 1.0}}}}}}}},\n",
            "                                                                                                                                                 '1': 1.0,\n",
            "                                                                                                                                                 '2': 1.0}}}},\n",
            "                                                                                                                '1': {'citric acid': {'1': 1.0,\n",
            "                                                                                                                                      '2': 1}},\n",
            "                                                                                                                '2': 2.0}},\n",
            "                                                                                  '3': 1.0}},\n",
            "                                                                '3': 1}},\n",
            "                                        '1': {'citric acid': {'0': {'residual sugar': {'0': {'sulphates': {'0': {'free sulfur dioxide': {'0': {'total sulfur dioxide': {'0': {'fixed acidity': {'0': {'density': {'1': {'pH': {'1': 1,\n",
            "                                                                                                                                                                                                                               '2': {'chlorides': {'0': 1.0,\n",
            "                                                                                                                                                                                                                                                   '1': 1.0}}}},\n",
            "                                                                                                                                                                                                                  '2': 1}},\n",
            "                                                                                                                                                                                                '1': {'density': {'1': {'pH': {'1': {'chlorides': {'0': 1.0}},\n",
            "                                                                                                                                                                                                                               '2': 1}},\n",
            "                                                                                                                                                                                                                  '2': 1.0}},\n",
            "                                                                                                                                                                                                '2': 1.0}},\n",
            "                                                                                                                                                                        '1': 1.0}},\n",
            "                                                                                                                                         '1': {'fixed acidity': {'0': {'total sulfur dioxide': {'0': {'pH': {'2': {'density': {'1': {'chlorides': {'0': 1.0}}}}}},\n",
            "                                                                                                                                                                                                '1': 1.0}},\n",
            "                                                                                                                                                                 '1': 1.0}},\n",
            "                                                                                                                                         '2': 1.0}},\n",
            "                                                                                                           '1': {'fixed acidity': {'0': 1.0,\n",
            "                                                                                                                                   '1': 1}},\n",
            "                                                                                                           '2': 1.0}},\n",
            "                                                                                       '1': 1}},\n",
            "                                                              '1': {'free sulfur dioxide': {'0': {'density': {'1': 1.0,\n",
            "                                                                                                              '2': {'sulphates': {'0': {'pH': {'1': {'fixed acidity': {'1': 1,\n",
            "                                                                                                                                                                       '2': 1}},\n",
            "                                                                                                                                               '2': 1.0}},\n",
            "                                                                                                                                  '1': 1.0}},\n",
            "                                                                                                              '3': 1.0}},\n",
            "                                                                                            '1': {'total sulfur dioxide': {'0': {'fixed acidity': {'1': 1,\n",
            "                                                                                                                                                   '2': 1.0}},\n",
            "                                                                                                                           '1': 1.0}},\n",
            "                                                                                            '2': 1.0}},\n",
            "                                                              '2': 1,\n",
            "                                                              '3': 2.0}},\n",
            "                                        '2': {'pH': {'0': 1.0,\n",
            "                                                     '1': 1,\n",
            "                                                     '2': {'chlorides': {'0': {'density': {'0': 1.0,\n",
            "                                                                                           '1': 1,\n",
            "                                                                                           '2': 1,\n",
            "                                                                                           '3': 1}},\n",
            "                                                                         '1': 1.0}},\n",
            "                                                     '3': 1}},\n",
            "                                        '3': 1.0}},\n",
            "             '2': {'sulphates': {'0': {'pH': {'0': 1,\n",
            "                                              '1': {'citric acid': {'0': 1,\n",
            "                                                                    '1': {'fixed acidity': {'0': {'free sulfur dioxide': {'0': 1,\n",
            "                                                                                                                          '1': 2.0,\n",
            "                                                                                                                          '2': 1.0}},\n",
            "                                                                                            '1': {'residual sugar': {'0': {'density': {'0': 2.0,\n",
            "                                                                                                                                       '1': {'free sulfur dioxide': {'0': {'total sulfur dioxide': {'0': {'chlorides': {'0': {'volatile acidity': {'0': 2.0}}}}}},\n",
            "                                                                                                                                                                     '1': 1}},\n",
            "                                                                                                                                       '2': 2.0}},\n",
            "                                                                                                                     '1': 2.0}},\n",
            "                                                                                            '2': 1}},\n",
            "                                                                    '2': {'volatile acidity': {'0': {'density': {'1': 1,\n",
            "                                                                                                                 '2': 1.0}},\n",
            "                                                                                               '1': 2.0}},\n",
            "                                                                    '3': 2.0}},\n",
            "                                              '2': {'citric acid': {'0': {'fixed acidity': {'0': {'free sulfur dioxide': {'0': 1,\n",
            "                                                                                                                          '1': {'volatile acidity': {'0': 1,\n",
            "                                                                                                                                                     '1': 1,\n",
            "                                                                                                                                                     '2': 1.0}}}},\n",
            "                                                                                            '1': 1}},\n",
            "                                                                    '1': 1.0}},\n",
            "                                              '3': 1}},\n",
            "                                 '1': {'fixed acidity': {'0': 1,\n",
            "                                                         '1': {'citric acid': {'0': 1.0,\n",
            "                                                                               '1': {'free sulfur dioxide': {'0': {'chlorides': {'0': {'density': {'1': 2.0,\n",
            "                                                                                                                                                   '2': 1}},\n",
            "                                                                                                                                 '1': 1}},\n",
            "                                                                                                             '1': 1}},\n",
            "                                                                               '2': 1}},\n",
            "                                                         '2': 2.0,\n",
            "                                                         '3': 1.0}}}},\n",
            "             '3': {'pH': {'0': 1.0, '1': 1, '2': 1, '3': 2.0}}}}\n",
            "The accuracy of Decision tree model is:  84.46115288220551 %\n"
          ],
          "name": "stdout"
        },
        {
          "output_type": "execute_result",
          "data": {
            "text/plain": [
              "'queries = testing_data.iloc[:,:-1].to_dict(orient = \"records\")      # Create new query instances by simply removing the target feature column from the original dataset and convert it to a dictionary\\npredicted = pd.DataFrame(columns=[\"predicted\"])    #Create a empty DataFrame in whose columns the prediction of the tree are stored\\n    \\n#Calculate the prediction accuracy\\nfor i in range(len(testing_data)):\\n  predicted.loc[i,\"predicted\"] = predict(queries[i],tree,1.0) \\n  print(\\'The accuracy of Decision tree model is: \\',(np.sum(predicted[\"predicted\"] == testing_data[\"quality\"])/len(testing_data))*100,\\'%\\')'"
            ]
          },
          "metadata": {
            "tags": []
          },
          "execution_count": 84
        }
      ]
    },
    {
      "cell_type": "markdown",
      "metadata": {
        "id": "pxp1FLh2fdmN",
        "colab_type": "text"
      },
      "source": [
        "# Part 2: using scikit learn classifier"
      ]
    },
    {
      "cell_type": "code",
      "metadata": {
        "id": "Gusjl7t5fV5C",
        "colab_type": "code",
        "colab": {
          "base_uri": "https://localhost:8080/",
          "height": 34
        },
        "outputId": "e714427a-a945-4cd0-8a1d-357e3e68b6f3"
      },
      "source": [
        "\n",
        "from sklearn.tree import DecisionTreeClassifier\n",
        " \n",
        "#initialization \n",
        "dataset = data2\n",
        "train_features = dataset.iloc[:1200,:-1]\n",
        "test_features = dataset.iloc[1200:,:-1]\n",
        "train_targets = dataset.iloc[:1200,-1]\n",
        "test_targets = dataset.iloc[1200:,-1]\n",
        "\n",
        "tree = DecisionTreeClassifier(criterion = 'entropy').fit(train_features,train_targets)\n",
        "\n",
        "y_pred_sklearn = tree.predict(test_features)\n",
        "\n",
        "print(\"The prediction  using Scikit learn model is: \",tree.score(test_features,test_targets)*100,\"%\")"
      ],
      "execution_count": 85,
      "outputs": [
        {
          "output_type": "stream",
          "text": [
            "The prediction  using Scikit learn model is:  81.70426065162907 %\n"
          ],
          "name": "stdout"
        }
      ]
    },
    {
      "cell_type": "markdown",
      "metadata": {
        "id": "mXCuP7bXm-F2",
        "colab_type": "text"
      },
      "source": [
        "# Part 3: Cross validation\n"
      ]
    },
    {
      "cell_type": "code",
      "metadata": {
        "id": "kBsN3B1DobIR",
        "colab_type": "code",
        "colab": {
          "base_uri": "https://localhost:8080/",
          "height": 121
        },
        "outputId": "1c65ac64-3c39-4653-f91d-88a5e58ff190"
      },
      "source": [
        "from sklearn import tree\n",
        "from sklearn.model_selection import cross_val_score\n",
        "from pprint import pprint\n",
        "from sklearn.model_selection import train_test_split\n",
        "from sklearn.tree import DecisionTreeClassifier\n",
        "from sklearn.metrics import confusion_matrix,accuracy_score , precision_score , recall_score\n",
        "model=DecisionTreeClassifier(criterion='entropy', max_depth=4,min_samples_split=10)\n",
        "df=data2\n",
        "x1 = df.iloc[:,0:12]\n",
        "y1 = df.iloc[:,-1]\n",
        "model.fit(x1,y1)\n",
        "y_predict=model.predict(x1)\n",
        "print('accuracy score=', accuracy_score(y1,y_predict)*100)\n",
        "print('precision score=', precision_score(y1,y_predict, average='macro'))\n",
        "print('recall score=', recall_score(y1,y_predict, average='macro'))\n",
        "\n",
        "print('crossvalidation score=', cross_val_score(model, x1,y1,cv=3).mean())\n",
        "\n",
        "'''df = data2\n",
        "\n",
        "x = df.iloc[:,0:12]\n",
        "y = df.iloc[:,-1]\n",
        "\n",
        "x_train,x_test,y_train,y_test = train_test_split(x,y,test_size=0.4,random_state=0)\n",
        "depth = []\n",
        "for i in range(len(y)):\n",
        "    clf = tree.DecisionTreeClassifier(max_depth=i)\n",
        "    # Perform 7-fold cross validation \n",
        "    scores = cross_val_score(estimator=clf, X=x, y=y, cv=3, n_jobs=4)\n",
        "    depth.append((i,scores.mean()))\n",
        "print(depth)'''"
      ],
      "execution_count": 86,
      "outputs": [
        {
          "output_type": "stream",
          "text": [
            "accuracy score= 100.0\n",
            "precision score= 1.0\n",
            "recall score= 1.0\n",
            "crossvalidation score= 1.0\n"
          ],
          "name": "stdout"
        },
        {
          "output_type": "execute_result",
          "data": {
            "text/plain": [
              "'df = data2\\n\\nx = df.iloc[:,0:12]\\ny = df.iloc[:,-1]\\n\\nx_train,x_test,y_train,y_test = train_test_split(x,y,test_size=0.4,random_state=0)\\ndepth = []\\nfor i in range(len(y)):\\n    clf = tree.DecisionTreeClassifier(max_depth=i)\\n    # Perform 7-fold cross validation \\n    scores = cross_val_score(estimator=clf, X=x, y=y, cv=3, n_jobs=4)\\n    depth.append((i,scores.mean()))\\nprint(depth)'"
            ]
          },
          "metadata": {
            "tags": []
          },
          "execution_count": 86
        }
      ]
    },
    {
      "cell_type": "code",
      "metadata": {
        "id": "auHXh208qRng",
        "colab_type": "code",
        "colab": {
          "base_uri": "https://localhost:8080/",
          "height": 67
        },
        "outputId": "3f1fb37c-d530-448f-fc58-31d2c64a1cfc"
      },
      "source": [
        "#precision recall for Decision tree with scikit learn\n",
        "\n",
        "from sklearn.metrics import precision_recall_fscore_support as score\n",
        "\n",
        "\n",
        "precision, recall, fscore, support = score(test_targets, y_pred_sklearn) # y_pred is value from logistic regression classifier\n",
        "\n",
        "print('precision: {}'.format(precision))\n",
        "print('recall: {}'.format(recall))\n",
        "print('fscore: {}'.format(fscore))"
      ],
      "execution_count": 87,
      "outputs": [
        {
          "output_type": "stream",
          "text": [
            "precision: [0.36363636 0.87327824 0.2       ]\n",
            "recall: [0.17391304 0.92690058 0.14705882]\n",
            "fscore: [0.23529412 0.89929078 0.16949153]\n"
          ],
          "name": "stdout"
        }
      ]
    },
    {
      "cell_type": "code",
      "metadata": {
        "id": "LzG82J2XxOfp",
        "colab_type": "code",
        "colab": {}
      },
      "source": [
        ""
      ],
      "execution_count": 0,
      "outputs": []
    }
  ]
}