{
 "cells": [
  {
   "cell_type": "code",
   "execution_count": 1,
   "metadata": {},
   "outputs": [],
   "source": [
    "import numpy as np\n",
    "import matplotlib.pyplot as plt\n",
    "import pandas as pd\n",
    "from pprint import pprint\n",
    "import csv\n",
    "import math\n",
    "import time\n",
    "import random\n"
   ]
  },
  {
   "cell_type": "code",
   "execution_count": 2,
   "metadata": {},
   "outputs": [
    {
     "name": "stdout",
     "output_type": "stream",
     "text": [
      "[[ 1.37885035  1.23630482  1.467836    1.18429415  1.45269327 -0.5714776\n",
      "   1.61516251  2.        ]\n",
      " [ 1.6062199   1.65078218  0.29700938  1.66844904  1.43942413 -0.49214284\n",
      "   1.58456955  2.        ]\n",
      " [ 0.1765477   0.15405838  0.64062154  0.16394902  0.35666196 -1.55549534\n",
      "  -0.56305611  1.        ]\n",
      " [ 2.07818398  1.91174941  1.36178286  1.85849115  2.05245859  0.87721518\n",
      "   1.86194571  2.        ]\n",
      " [-0.16450663 -0.12993536  0.06793461 -0.13468857 -0.28025696 -1.49082751\n",
      "  -0.22041498  1.        ]]\n"
     ]
    }
   ],
   "source": [
    "#For training\n",
    "data_train = []\n",
    "with open(\"E:/SEMESTER 6/ML-CS60050/Assgnment/Fourth/My_code/training_data_final.csv\") as f1:\n",
    "    for line in csv.reader(f1):\n",
    "        data_train.append(line)\n",
    "        \n",
    "        \n",
    "#data_test = np.array(data_test)\n",
    "num_rows_train = len(data_train)\n",
    "num_colm_train = len(data_train[:][0])\n",
    "data_train = np.array(data_train).astype(np.float)\n",
    "\n",
    "train_y = np.array(data_train[:,num_colm_train -1])\n",
    "train_x = np.delete(data_train,num_colm_train-1,1) \n",
    "num_colm_train = num_colm_train - 1\n",
    "\n",
    "print(data_train[0:5,:])"
   ]
  },
  {
   "cell_type": "code",
   "execution_count": 3,
   "metadata": {},
   "outputs": [
    {
     "name": "stdout",
     "output_type": "stream",
     "text": [
      "[[ 0.01118803  0.00822376  0.42851527 -0.16862466  0.19743223 -1.7881662\n",
      "  -0.92201349  1.        ]\n",
      " [ 1.18937572  1.02139064  1.68842652  0.7928979   1.317348   -0.57547768\n",
      "   1.12975424  2.        ]\n",
      " [ 1.40985528  1.35143742  0.9842337   1.1661949   1.50311602 -0.52814349\n",
      "   1.10324034  2.        ]\n",
      " [-0.16106164 -0.26809448  1.02241283 -0.54870888  0.14170182 -0.82548218\n",
      "  -0.92201349  1.        ]\n",
      " [ 0.24544757  0.25383997  0.47942078  0.33362948  0.39646939  0.84788132\n",
      "   0.89520823  2.        ]]\n"
     ]
    }
   ],
   "source": [
    "# testing data\n",
    "\n",
    "data_test = []\n",
    "with open(\"E:/SEMESTER 6/ML-CS60050/Assgnment/Fourth/My_code/testing_data_final.csv\") as f2:\n",
    "    for line in csv.reader(f2):\n",
    "        data_test.append(line)\n",
    "\n",
    "#data_test = np.array(data_test)        \n",
    "num_rows_test = len(data_test)\n",
    "num_colm_test = len(data_test[:][0])\n",
    "data_test = np.array(data_test).astype(np.float)\n",
    "\n",
    "\n",
    "test_y = np.array(data_test[:,num_colm_test -1])\n",
    "test_x = np.delete(data_test,num_colm_test-1,1) \n",
    "\n",
    "num_colm_test = num_colm_test - 1\n",
    "\n",
    "print(data_test[0:5,:])"
   ]
  },
  {
   "cell_type": "code",
   "execution_count": 4,
   "metadata": {},
   "outputs": [
    {
     "name": "stdout",
     "output_type": "stream",
     "text": [
      "fot part1-A: \n",
      "Training set score: 0.928571\n",
      "Test set score: 0.976190\n"
     ]
    },
    {
     "name": "stderr",
     "output_type": "stream",
     "text": [
      "C:\\Users\\Abhishek\\Anaconda3\\lib\\site-packages\\sklearn\\neural_network\\multilayer_perceptron.py:566: ConvergenceWarning: Stochastic Optimizer: Maximum iterations (200) reached and the optimization hasn't converged yet.\n",
      "  % self.max_iter, ConvergenceWarning)\n"
     ]
    }
   ],
   "source": [
    "\n",
    "import matplotlib.pyplot as plt\n",
    "from sklearn.datasets import fetch_mldata\n",
    "from sklearn.neural_network import MLPClassifier\n",
    "\n",
    "\n",
    "# For specification of part1A\n",
    "mlp1 = MLPClassifier(hidden_layer_sizes=(32),activation=\"logistic\",solver='sgd', batch_size=32,learning_rate=\"constant\",learning_rate_init=0.01,max_iter=200,random_state=10)\n",
    "mlp1.fit(train_x, train_y)\n",
    "\n",
    "print(\"fot part1-A: \")\n",
    "print(\"Training set score: %f\" % mlp1 .score(train_x, train_y))\n",
    "print(\"Test set score: %f\" % mlp1 .score(test_x, test_y))\n",
    "\n",
    "\n",
    "#mlp.classes_"
   ]
  },
  {
   "cell_type": "code",
   "execution_count": 6,
   "metadata": {},
   "outputs": [
    {
     "name": "stdout",
     "output_type": "stream",
     "text": [
      "fot part1-B: \n",
      "Training set score: 1.000000\n",
      "Test set score: 0.976190\n"
     ]
    },
    {
     "name": "stderr",
     "output_type": "stream",
     "text": [
      "C:\\Users\\Abhishek\\Anaconda3\\lib\\site-packages\\sklearn\\neural_network\\multilayer_perceptron.py:566: ConvergenceWarning: Stochastic Optimizer: Maximum iterations (200) reached and the optimization hasn't converged yet.\n",
      "  % self.max_iter, ConvergenceWarning)\n"
     ]
    }
   ],
   "source": [
    "# For specification of part1B\n",
    "\n",
    "mlp2 = MLPClassifier(hidden_layer_sizes=(64,32),activation=\"relu\",solver='sgd',batch_size=32,learning_rate=\"constant\",learning_rate_init=0.01,max_iter=200)\n",
    "mlp2.fit(train_x, train_y)\n",
    "\n",
    "print(\"fot part1-B: \")\n",
    "print(\"Training set score: %f\" % mlp2 .score(train_x, train_y))\n",
    "print(\"Test set score: %f\" % mlp2 .score(test_x, test_y))\n",
    "\n",
    "\n",
    "#mlp.classes_"
   ]
  },
  {
   "cell_type": "code",
   "execution_count": null,
   "metadata": {},
   "outputs": [],
   "source": []
  }
 ],
 "metadata": {
  "kernelspec": {
   "display_name": "Python 3",
   "language": "python",
   "name": "python3"
  },
  "language_info": {
   "codemirror_mode": {
    "name": "ipython",
    "version": 3
   },
   "file_extension": ".py",
   "mimetype": "text/x-python",
   "name": "python",
   "nbconvert_exporter": "python",
   "pygments_lexer": "ipython3",
   "version": "3.7.3"
  }
 },
 "nbformat": 4,
 "nbformat_minor": 2
}
