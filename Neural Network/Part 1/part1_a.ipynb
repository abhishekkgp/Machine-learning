{
 "cells": [
  {
   "cell_type": "code",
   "execution_count": 1,
   "metadata": {},
   "outputs": [],
   "source": [
    "import numpy as np\n",
    "import matplotlib.pyplot as plt\n",
    "import pandas as pd\n",
    "from pprint import pprint\n",
    "import csv\n",
    "\n",
    "import math\n",
    "import time\n",
    "import random\n"
   ]
  },
  {
   "cell_type": "code",
   "execution_count": 2,
   "metadata": {},
   "outputs": [
    {
     "name": "stdout",
     "output_type": "stream",
     "text": [
      "[[ 1.37885035  1.23630482  1.467836    1.18429415  1.45269327 -0.5714776\n",
      "   1.61516251  2.        ]\n",
      " [ 1.6062199   1.65078218  0.29700938  1.66844904  1.43942413 -0.49214284\n",
      "   1.58456955  2.        ]\n",
      " [ 0.1765477   0.15405838  0.64062154  0.16394902  0.35666196 -1.55549534\n",
      "  -0.56305611  1.        ]\n",
      " [ 2.07818398  1.91174941  1.36178286  1.85849115  2.05245859  0.87721518\n",
      "   1.86194571  2.        ]\n",
      " [-0.16450663 -0.12993536  0.06793461 -0.13468857 -0.28025696 -1.49082751\n",
      "  -0.22041498  1.        ]]\n"
     ]
    }
   ],
   "source": [
    "#For training\n",
    "data_train = []\n",
    "with open(\"E:/SEMESTER 6/ML-CS60050/Assgnment/Fourth/My_code/training_data_final.csv\") as f1:\n",
    "    for line in csv.reader(f1):\n",
    "        data_train.append(line)\n",
    "\n",
    "num_rows_train = len(data_train)\n",
    "num_colm_train = len(data_train[:][0])\n",
    "data_train = np.array(data_train).astype(np.float)\n",
    "\n",
    "train_y = np.array(data_train[:,num_colm_train -1])\n",
    "train_x = np.delete(data_train,num_colm_train-1,1) \n",
    "num_colm_train = num_colm_train - 1\n",
    "\n",
    "print(data_train[0:5,:])"
   ]
  },
  {
   "cell_type": "code",
   "execution_count": 3,
   "metadata": {},
   "outputs": [
    {
     "name": "stdout",
     "output_type": "stream",
     "text": [
      "[[ 0.01118803  0.00822376  0.42851527 -0.16862466  0.19743223 -1.7881662\n",
      "  -0.92201349  1.        ]\n",
      " [ 1.18937572  1.02139064  1.68842652  0.7928979   1.317348   -0.57547768\n",
      "   1.12975424  2.        ]\n",
      " [ 1.40985528  1.35143742  0.9842337   1.1661949   1.50311602 -0.52814349\n",
      "   1.10324034  2.        ]\n",
      " [-0.16106164 -0.26809448  1.02241283 -0.54870888  0.14170182 -0.82548218\n",
      "  -0.92201349  1.        ]\n",
      " [ 0.24544757  0.25383997  0.47942078  0.33362948  0.39646939  0.84788132\n",
      "   0.89520823  2.        ]]\n"
     ]
    }
   ],
   "source": [
    "# testing data\n",
    "\n",
    "data_test = []\n",
    "with open(\"E:/SEMESTER 6/ML-CS60050/Assgnment/Fourth/My_code/testing_data_final.csv\") as f2:\n",
    "    for line in csv.reader(f2):\n",
    "        data_test.append(line)\n",
    "        \n",
    "num_rows_test = len(data_test)\n",
    "num_colm_test = len(data_test[:][0])\n",
    "data_test = np.array(data_test).astype(np.float)\n",
    "\n",
    "\n",
    "test_y = np.array(data_test[:,num_colm_test -1])\n",
    "test_x = np.delete(data_test,num_colm_test-1,1) \n",
    "num_colm_test = num_colm_test - 1\n",
    "print(data_test[0:5,:])"
   ]
  },
  {
   "cell_type": "code",
   "execution_count": 4,
   "metadata": {},
   "outputs": [],
   "source": [
    "# def predict(self, X, Y, weight_1, weight_2):\n",
    "#         ypred = np.array([np.argmax(self._forward_pass(x_, Y, weight_1, weight_2)) for x_ in X], dtype=np.int)\n",
    "#         return ypred\n",
    "\n",
    "def _dotprod(self, a, b): # for dot product\n",
    "        return sum([a_ * b_ for (a_, b_) in zip(a, b)])\n",
    "    \n",
    "    \n",
    "def _update_weights(x, eta):\n",
    "        for i, layer in enumerate(self.network):\n",
    "            # Grab input values\n",
    "            if i == 0: inputs = x\n",
    "            else: inputs = [node_['output'] for node_ in self.network[i-1]]\n",
    "            # Update weights\n",
    "            for node in layer:\n",
    "                for j, input in enumerate(inputs):\n",
    "                    # dw = - learning_rate * (error * transfer') * input\n",
    "                    node['weights'][j] += - eta * node['delta'] * input    \n",
    "\n",
    "    "
   ]
  },
  {
   "cell_type": "code",
   "execution_count": 5,
   "metadata": {},
   "outputs": [],
   "source": [
    "#  Sigmoid (activation function)\n",
    "# def _sigmoid(self, x):\n",
    "#     return 1.0/(1.0+math.exp(-x))\n",
    "\n",
    "#  Sigmoid derivative\n",
    "# def _sigmoid_derivative(self, sigmoid):\n",
    "#     return sigmoid*(1.0-sigmoid)\n",
    "\n",
    "def _backward_pass(X, Y, w1, w2, x_end, x_middle):\n",
    "    learning_rate = 0.01\n",
    "\n",
    "    if(Y==1): #intialising Y\n",
    "        Y = [1,0,0]\n",
    "    elif(Y==2):\n",
    "        Y = [0,1,0]\n",
    "    else: # if Y==3\n",
    "        Y = [0,0,1]\n",
    "\n",
    " \n",
    "    # def diff_sig(x): # differenciating the sigmoid function\n",
    "    #     sigmoid_value=1/(1 + np.exp(-x))\n",
    "    #     return sigmoid_value*(1-sigmoid_value)\n",
    "    sigmoid1_value=1/(1 + np.exp(-x_end))\n",
    "    x_end_diff = sigmoid1_value*(1-sigmoid1_value)                 #diff_sig(x_end)\n",
    "    derivation_cost_function = np.zeros(3)\n",
    "    for i in range(3):\n",
    "        derivation_cost_function[i] = x_end[i] - Y[i]\n",
    "\n",
    "    delta_1 = np.zeros(32)\n",
    "    \n",
    "    sigmoid2_value=1/(1 + np.exp(-x_middle)) #sigmoid function value\n",
    "    x_middle_deri = sigmoid2_value*(1-sigmoid2_value) # Sigmoid derivative\n",
    "    \n",
    "    \n",
    "    for i in range(32):\n",
    "        delta_1[i] = x_middle_deri[i] * np.dot(w2[i], derivation_cost_function)\n",
    "\n",
    "    #Now update weights\n",
    "    for i in range(32):\n",
    "        for j in range(3):\n",
    "            w2[i,j] = w2[i,j] - learning_rate * derivation_cost_function[j] * x_middle[i]\n",
    "\n",
    "    for i in range(7):\n",
    "        for j in range(32):\n",
    "            w1[i,j] = w1[i,j] - learning_rate * X[i] * delta_1[j]\n",
    "\n",
    "    return w1 , w2\n",
    "\n"
   ]
  },
  {
   "cell_type": "code",
   "execution_count": 6,
   "metadata": {},
   "outputs": [],
   "source": [
    "def _forward_pass(X, Y, w1, w2): #training part is included in this\n",
    "    learning_rate = 0.01\n",
    "    n = len(X)\n",
    "\n",
    "    for input in range(n):\n",
    "        x_middle = np.zeros(32)\n",
    "        for i in range(32):\n",
    "            #Activation function in the hidden layer : Sigmoid\n",
    "            sigmoid1_input=np.dot(X[input],w1[:,i]) + 1 #1 for bias\n",
    "            x_middle[i] = 1/(1 + np.exp(-sigmoid1_input))      \n",
    "\n",
    "        x_end = np.zeros(3)\n",
    "        for i in range(3):\n",
    "            #sigmoid fuction\n",
    "            sigmoid2_input= np.dot(x_middle,w2[:,i]) + 1 #1 for bias\n",
    "            x_end[i] = 1/(1 + np.exp(-sigmoid2_input))         \n",
    "\n",
    "        #Activation function in the output layer : Softmax\n",
    "        deno = sum(np.exp(val) for val in x_end)\n",
    "        for i in range(len(x_end)):\n",
    "            x_end[i] = np.exp(x_end[i]) / deno  #x_end = softmax(x_end) \n",
    "        \n",
    "\n",
    "        #backpropagation will return the updated weights\n",
    "        w1 , w2 = _backward_pass( X[input], Y[input], w1, w2, x_end, x_middle)\n",
    "\n",
    "    return w1,w2\n",
    "\n"
   ]
  },
  {
   "cell_type": "code",
   "execution_count": 7,
   "metadata": {},
   "outputs": [],
   "source": [
    "def testing(X, Y,weigth_1, weight_2):\n",
    "    n = len(X)\n",
    "    count = 0;\n",
    "    acc = np.zeros(n)\n",
    "    for input in range(n):\n",
    "        x_middle = np.zeros(32)\n",
    "        for i in range(32):\n",
    "            sigmoid1_input=np.dot(X[input],weight_1[:,i]) + 1\n",
    "            x_middle[i] = 1/(1 + np.exp(-sigmoid1_input))  #sig(np.dot(X[input],weight_1[:,i]) + 1) #1 for bias\n",
    "\n",
    "        x_end = np.zeros(3)\n",
    "        for i in range(3):\n",
    "            temp2_input= np.dot(x_middle,weight_2[:,i]) + 1\n",
    "            x_end[i] = 1/(1 + np.exp(-temp2_input))   #sig(np.dot(x_middle,weight_2[:,i]) + 1) #1 for bias\n",
    "\n",
    "        #Applying Softmax to final layer x_end\n",
    "        deno = sum(np.exp(val) for val in x_end)\n",
    "        for i in range(len(x_end)):\n",
    "            x_end[i] = np.exp(x_end[i]) / deno  #x_end = softmax(x_end) \n",
    "        \n",
    "\n",
    "        if(Y[input]==1):\n",
    "            y = [1,0,0]\n",
    "        elif(Y[input]==2):\n",
    "            y = [0,1,0]\n",
    "        else:\n",
    "            y = [0,0,1]\n",
    "\n",
    "        if(x_end[1] > x_end[2]):\n",
    "            if(x_end[0] < x_end[1]):\n",
    "                x = [0,1,0]\n",
    "            else:\n",
    "                x = [1,0,0]\n",
    "        else:\n",
    "            if(x_end[0] < x_end[2]):\n",
    "                x = [0,0,1]\n",
    "            else:\n",
    "                x = [1,0,0]\n",
    "\n",
    "        flag = 0\n",
    "        for i in range(3):\n",
    "            if(x[i] != y[i]):\n",
    "                flag = 1;\n",
    "\n",
    "        if(flag==0):\n",
    "            count += 1;\n",
    "    result_f=count * 100 / n\n",
    "    return result_f\n",
    "\n"
   ]
  },
  {
   "cell_type": "code",
   "execution_count": 8,
   "metadata": {},
   "outputs": [
    {
     "name": "stdout",
     "output_type": "stream",
     "text": [
      "#\n",
      "#\n",
      "#\n",
      "#\n",
      "#\n"
     ]
    }
   ],
   "source": [
    "train_acc = []\n",
    "test_acc = []\n",
    "# No. of neurons in hidden layer: 32\n",
    "for batch in range(num_rows_train//32):\n",
    "    data_batch = np.array(train_x[32*(batch):32*(batch+1),:])\n",
    "    output_batch = np.array(train_y[32*(batch):32*(batch + 1)])\n",
    "\n",
    "    #Initialise weight matrix\n",
    "    weight_1 = np.zeros(shape=(7,32))\n",
    "    weight_2 = np.zeros(shape=(32,3))\n",
    "    for i in range(7):\n",
    "        for j in range(32):\n",
    "            weight_1[i,j] = random.uniform(-1,1)\n",
    "\n",
    "    for i in range(32):\n",
    "        for j in range(3):\n",
    "            weight_2[i,j] = random.uniform(-1,1)\n",
    "\n",
    "\n",
    "    for epochs in range(1,201):\n",
    "        #learning_rate = 0.01\n",
    "\n",
    "        #Training\n",
    "        weight_1, weight_2 = _forward_pass(data_batch, output_batch, weight_1, weight_2)\n",
    "\n",
    "        #Testing\n",
    "        accuracy_train = testing(data_batch, output_batch, weight_1, weight_2)\n",
    "        accuracy_test = testing(test_x, test_y, weight_1, weight_2)\n",
    "\n",
    "        if(epochs%10 == 0):\n",
    "            train_acc.append(accuracy_train)\n",
    "            test_acc.append(accuracy_test)\n",
    "\n",
    "    print(\"#\")\n",
    "\n"
   ]
  },
  {
   "cell_type": "code",
   "execution_count": 9,
   "metadata": {},
   "outputs": [
    {
     "name": "stdout",
     "output_type": "stream",
     "text": [
      "Final training accuracy:  71.875\n",
      "Final testing accuracy:  76.19047619047619\n"
     ]
    },
    {
     "data": {
      "image/png": "[encoded data removed]",
      "text/plain": [
       "<Figure size 432x288 with 1 Axes>"
      ]
     },
     "metadata": {
      "needs_background": "light"
     },
     "output_type": "display_data"
    }
   ],
   "source": [
    "train_acc = np.array(train_acc)\n",
    "test_acc = np.array(test_acc)\n",
    "print(\"Final training accuracy: \",train_acc[-1])\n",
    "print(\"Final testing accuracy: \",test_acc[-1])\n",
    "\n",
    "\n",
    "xaxis = np.linspace(0,5,100)\n",
    "\n",
    "plt.figure()\n",
    "plt.plot(xaxis,train_acc,label='Training')\n",
    "plt.plot(xaxis,test_acc,label='Testing')\n",
    "plt.xlabel('Input data')\n",
    "plt.ylabel('Accuracy')\n",
    "plt.legend()\n",
    "plt.show()"
   ]
  },
  {
   "cell_type": "code",
   "execution_count": null,
   "metadata": {},
   "outputs": [],
   "source": []
  },
  {
   "cell_type": "code",
   "execution_count": null,
   "metadata": {},
   "outputs": [],
   "source": []
  }
 ],
 "metadata": {
  "kernelspec": {
   "display_name": "Python 3",
   "language": "python",
   "name": "python3"
  },
  "language_info": {
   "codemirror_mode": {
    "name": "ipython",
    "version": 3
   },
   "file_extension": ".py",
   "mimetype": "text/x-python",
   "name": "python",
   "nbconvert_exporter": "python",
   "pygments_lexer": "ipython3",
   "version": "3.7.3"
  }
 },
 "nbformat": 4,
 "nbformat_minor": 2
}
