{
 "cells": [
  {
   "cell_type": "code",
   "execution_count": 1,
   "metadata": {},
   "outputs": [],
   "source": [
    "import numpy as np\n",
    "import matplotlib.pyplot as plt\n",
    "import pandas as pd\n",
    "from pprint import pprint\n",
    "import csv\n",
    "import math\n",
    "import time"
   ]
  },
  {
   "cell_type": "code",
   "execution_count": 2,
   "metadata": {},
   "outputs": [],
   "source": [
    "data = [] #actual data\n",
    "with open(\"E:/SEMESTER 6/ML-CS60050/Assgnment/Fourth/data.txt\") as f: \n",
    "    for line in csv.reader(f, dialect=\"excel-tab\"): #reading the data\n",
    "        data.append(line)\n",
    "\n",
    "num_of_rows = len(data)\n",
    "num_of_colm = len(data[:][0])\n",
    "data = np.array(data).astype(np.float)\n",
    "num_of_colm = num_of_colm - 1\n"
   ]
  },
  {
   "cell_type": "code",
   "execution_count": 3,
   "metadata": {},
   "outputs": [],
   "source": [
    "for i in range(num_of_colm): #z normalisation\n",
    "    x_i = np.array(data[:,i])\n",
    "    mean = np.mean(x_i) # mean value\n",
    "    std = np.std(x_i) # standard deviation\n",
    "\n",
    "    for j in range(num_of_rows):\n",
    "        data[j,i] = (data[j,i] - mean)/std\n"
   ]
  },
  {
   "cell_type": "code",
   "execution_count": 4,
   "metadata": {},
   "outputs": [
    {
     "name": "stdout",
     "output_type": "stream",
     "text": [
      "Training Data:  [[-0.52623092 -0.47533316 -0.41142556 -0.19803594 -0.49256327  2.22323944\n",
      "   0.0651193   3.        ]\n",
      " [ 1.56143499  1.65845769  0.02551335  1.52591746  1.41288584 -0.0148009\n",
      "   1.13587283  2.        ]\n",
      " [ 1.58899493  1.48959654  1.16664509  1.09606031  1.68092255  0.40520667\n",
      "   1.22561218  2.        ]\n",
      " [ 1.34784541  1.25933134  1.16240297  1.22954227  1.42615498 -0.38680761\n",
      "   1.31535152  2.        ]\n",
      " [-0.28852639 -0.20669043 -0.36052006 -0.04419233 -0.26698782 -0.98881846\n",
      "  -0.56305611  1.        ]]\n",
      "Testing Data:  [[ 1.42097769e-01  2.15462437e-01  6.06017918e-05  3.04218199e-01\n",
      "   1.41701823e-01 -9.86151745e-01 -3.83577423e-01  1.00000000e+00]\n",
      " [ 4.52147162e-01  5.91562263e-01 -2.79919677e-01  4.89735495e-01\n",
      "   3.61969617e-01  3.77206165e-01  7.89152640e-01  2.00000000e+00]\n",
      " [-2.54076455e-01 -3.52525056e-01  8.52727813e-01 -4.71787074e-01\n",
      "   1.15163535e-01 -6.66812655e-01 -8.32274143e-01  1.00000000e+00]\n",
      " [ 2.48892560e-01  4.53403143e-01 -7.76248352e-01  6.59415948e-01\n",
      "  -7.32583134e-02 -7.06813376e-01  9.60473205e-01  2.00000000e+00]\n",
      " [-2.81636401e-01 -3.06472016e-01  3.64883389e-01 -4.31063765e-01\n",
      "  -1.52873179e-01 -1.32215780e+00 -8.30234612e-01  1.00000000e+00]]\n"
     ]
    }
   ],
   "source": [
    "#taking 80% random data for training\n",
    "no_of_row_train = int(num_of_rows*0.8)\n",
    "indices_value = np.random.choice(data.shape[0], no_of_row_train, replace=False)\n",
    "data_train = data[indices_value]\n",
    "\n",
    "\n",
    "#print ()\n",
    "print (\"Training Data: \", data_train[0:5,:])\n",
    "\n",
    "\n",
    "#taking 20% random data for testing\n",
    "indices_negative_val = []\n",
    "for i in range(num_of_rows):\n",
    "\tindices_negative_val.append(i)\n",
    "indices_negative_val = list(set(indices_negative_val) - set(indices_value))\n",
    "data_test = np.array(data[indices_negative_val])\n",
    "\n",
    "#print (\"Testing Data\")\n",
    "print (\"Testing Data: \",data_test[0:5,:])"
   ]
  },
  {
   "cell_type": "code",
   "execution_count": 5,
   "metadata": {},
   "outputs": [],
   "source": [
    "#Saving inside a csv file seperately\n",
    "np.savetxt('E:/SEMESTER 6/ML-CS60050/Assgnment/Fourth/training_data.csv', data_train, delimiter=',')\n",
    "np.savetxt('E:/SEMESTER 6/ML-CS60050/Assgnment/Fourth/testing_data.csv', data_test, delimiter=',')"
   ]
  },
  {
   "cell_type": "code",
   "execution_count": 6,
   "metadata": {},
   "outputs": [
    {
     "name": "stdout",
     "output_type": "stream",
     "text": [
      "number of rows in training data:  168\n"
     ]
    }
   ],
   "source": [
    "print(\"number of rows in training data: \",no_of_row_train)"
   ]
  },
  {
   "cell_type": "code",
   "execution_count": 7,
   "metadata": {},
   "outputs": [
    {
     "name": "stdout",
     "output_type": "stream",
     "text": [
      "number of rows in actural data: 210\n"
     ]
    }
   ],
   "source": [
    "print(\"number of rows in actural data:\",num_of_rows)"
   ]
  },
  {
   "cell_type": "code",
   "execution_count": 8,
   "metadata": {},
   "outputs": [
    {
     "name": "stdout",
     "output_type": "stream",
     "text": [
      "number of rows in testing data: 42\n"
     ]
    }
   ],
   "source": [
    "print(\"number of rows in testing data:\",num_of_rows-no_of_row_train)"
   ]
  },
  {
   "cell_type": "code",
   "execution_count": null,
   "metadata": {},
   "outputs": [],
   "source": []
  }
 ],
 "metadata": {
  "kernelspec": {
   "display_name": "Python 3",
   "language": "python",
   "name": "python3"
  },
  "language_info": {
   "codemirror_mode": {
    "name": "ipython",
    "version": 3
   },
   "file_extension": ".py",
   "mimetype": "text/x-python",
   "name": "python",
   "nbconvert_exporter": "python",
   "pygments_lexer": "ipython3",
   "version": "3.7.3"
  }
 },
 "nbformat": 4,
 "nbformat_minor": 2
}
